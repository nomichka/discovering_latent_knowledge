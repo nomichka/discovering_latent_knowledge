{
  "cells": [
    {
      "cell_type": "code",
      "execution_count": null,
      "metadata": {
        "colab": {
          "base_uri": "https://localhost:8080/"
        },
        "id": "IvdoVOT23h2H",
        "outputId": "9f113acf-eb37-4ad0-e0e5-b43a5031dfc9"
      },
      "outputs": [
        {
          "name": "stdout",
          "output_type": "stream",
          "text": [
            "Looking in indexes: https://pypi.org/simple, https://us-python.pkg.dev/colab-wheels/public/simple/\n",
            "Collecting datasets\n",
            "  Downloading datasets-2.11.0-py3-none-any.whl (468 kB)\n",
            "\u001b[2K     \u001b[90m━━━━━━━━━━━━━━━━━━━━━━━━━━━━━━━━━━━━━━\u001b[0m \u001b[32m468.7/468.7 kB\u001b[0m \u001b[31m10.6 MB/s\u001b[0m eta \u001b[36m0:00:00\u001b[0m\n",
            "\u001b[?25hCollecting transformers\n",
            "  Downloading transformers-4.28.1-py3-none-any.whl (7.0 MB)\n",
            "\u001b[2K     \u001b[90m━━━━━━━━━━━━━━━━━━━━━━━━━━━━━━━━━━━━━━━━\u001b[0m \u001b[32m7.0/7.0 MB\u001b[0m \u001b[31m45.0 MB/s\u001b[0m eta \u001b[36m0:00:00\u001b[0m\n",
            "\u001b[?25hCollecting tokenizers\n",
            "  Downloading tokenizers-0.13.3-cp310-cp310-manylinux_2_17_x86_64.manylinux2014_x86_64.whl (7.8 MB)\n",
            "\u001b[2K     \u001b[90m━━━━━━━━━━━━━━━━━━━━━━━━━━━━━━━━━━━━━━━━\u001b[0m \u001b[32m7.8/7.8 MB\u001b[0m \u001b[31m47.8 MB/s\u001b[0m eta \u001b[36m0:00:00\u001b[0m\n",
            "\u001b[?25hCollecting sentencepiece\n",
            "  Downloading sentencepiece-0.1.98-cp310-cp310-manylinux_2_17_x86_64.manylinux2014_x86_64.whl (1.3 MB)\n",
            "\u001b[2K     \u001b[90m━━━━━━━━━━━━━━━━━━━━━━━━━━━━━━━━━━━━━━━━\u001b[0m \u001b[32m1.3/1.3 MB\u001b[0m \u001b[31m28.5 MB/s\u001b[0m eta \u001b[36m0:00:00\u001b[0m\n",
            "\u001b[?25hRequirement already satisfied: tqdm>=4.62.1 in /usr/local/lib/python3.10/dist-packages (from datasets) (4.65.0)\n",
            "Collecting dill<0.3.7,>=0.3.0\n",
            "  Downloading dill-0.3.6-py3-none-any.whl (110 kB)\n",
            "\u001b[2K     \u001b[90m━━━━━━━━━━━━━━━━━━━━━━━━━━━━━━━━━━━━━━━\u001b[0m \u001b[32m110.5/110.5 kB\u001b[0m \u001b[31m3.9 MB/s\u001b[0m eta \u001b[36m0:00:00\u001b[0m\n",
            "\u001b[?25hRequirement already satisfied: fsspec[http]>=2021.11.1 in /usr/local/lib/python3.10/dist-packages (from datasets) (2023.4.0)\n",
            "Collecting responses<0.19\n",
            "  Downloading responses-0.18.0-py3-none-any.whl (38 kB)\n",
            "Collecting multiprocess\n",
            "  Downloading multiprocess-0.70.14-py310-none-any.whl (134 kB)\n",
            "\u001b[2K     \u001b[90m━━━━━━━━━━━━━━━━━━━━━━━━━━━━━━━━━━━━━━━\u001b[0m \u001b[32m134.3/134.3 kB\u001b[0m \u001b[31m7.5 MB/s\u001b[0m eta \u001b[36m0:00:00\u001b[0m\n",
            "\u001b[?25hRequirement already satisfied: numpy>=1.17 in /usr/local/lib/python3.10/dist-packages (from datasets) (1.22.4)\n",
            "Requirement already satisfied: packaging in /usr/local/lib/python3.10/dist-packages (from datasets) (23.1)\n",
            "Collecting xxhash\n",
            "  Downloading xxhash-3.2.0-cp310-cp310-manylinux_2_17_x86_64.manylinux2014_x86_64.whl (212 kB)\n",
            "\u001b[2K     \u001b[90m━━━━━━━━━━━━━━━━━━━━━━━━━━━━━━━━━━━━━━\u001b[0m \u001b[32m212.5/212.5 kB\u001b[0m \u001b[31m12.3 MB/s\u001b[0m eta \u001b[36m0:00:00\u001b[0m\n",
            "\u001b[?25hCollecting huggingface-hub<1.0.0,>=0.11.0\n",
            "  Downloading huggingface_hub-0.14.1-py3-none-any.whl (224 kB)\n",
            "\u001b[2K     \u001b[90m━━━━━━━━━━━━━━━━━━━━━━━━━━━━━━━━━━━━━━\u001b[0m \u001b[32m224.5/224.5 kB\u001b[0m \u001b[31m19.2 MB/s\u001b[0m eta \u001b[36m0:00:00\u001b[0m\n",
            "\u001b[?25hRequirement already satisfied: pandas in /usr/local/lib/python3.10/dist-packages (from datasets) (1.5.3)\n",
            "Requirement already satisfied: pyyaml>=5.1 in /usr/local/lib/python3.10/dist-packages (from datasets) (6.0)\n",
            "Collecting aiohttp\n",
            "  Downloading aiohttp-3.8.4-cp310-cp310-manylinux_2_17_x86_64.manylinux2014_x86_64.whl (1.0 MB)\n",
            "\u001b[2K     \u001b[90m━━━━━━━━━━━━━━━━━━━━━━━━━━━━━━━━━━━━━━━━\u001b[0m \u001b[32m1.0/1.0 MB\u001b[0m \u001b[31m11.9 MB/s\u001b[0m eta \u001b[36m0:00:00\u001b[0m\n",
            "\u001b[?25hRequirement already satisfied: requests>=2.19.0 in /usr/local/lib/python3.10/dist-packages (from datasets) (2.27.1)\n",
            "Requirement already satisfied: pyarrow>=8.0.0 in /usr/local/lib/python3.10/dist-packages (from datasets) (9.0.0)\n",
            "Requirement already satisfied: filelock in /usr/local/lib/python3.10/dist-packages (from transformers) (3.12.0)\n",
            "Requirement already satisfied: regex!=2019.12.17 in /usr/local/lib/python3.10/dist-packages (from transformers) (2022.10.31)\n",
            "Collecting frozenlist>=1.1.1\n",
            "  Downloading frozenlist-1.3.3-cp310-cp310-manylinux_2_5_x86_64.manylinux1_x86_64.manylinux_2_17_x86_64.manylinux2014_x86_64.whl (149 kB)\n",
            "\u001b[2K     \u001b[90m━━━━━━━━━━━━━━━━━━━━━━━━━━━━━━━━━━━━━━\u001b[0m \u001b[32m149.6/149.6 kB\u001b[0m \u001b[31m20.7 MB/s\u001b[0m eta \u001b[36m0:00:00\u001b[0m\n",
            "\u001b[?25hRequirement already satisfied: attrs>=17.3.0 in /usr/local/lib/python3.10/dist-packages (from aiohttp->datasets) (23.1.0)\n",
            "Collecting aiosignal>=1.1.2\n",
            "  Downloading aiosignal-1.3.1-py3-none-any.whl (7.6 kB)\n",
            "Collecting multidict<7.0,>=4.5\n",
            "  Downloading multidict-6.0.4-cp310-cp310-manylinux_2_17_x86_64.manylinux2014_x86_64.whl (114 kB)\n",
            "\u001b[2K     \u001b[90m━━━━━━━━━━━━━━━━━━━━━━━━━━━━━━━━━━━━━━\u001b[0m \u001b[32m114.5/114.5 kB\u001b[0m \u001b[31m13.4 MB/s\u001b[0m eta \u001b[36m0:00:00\u001b[0m\n",
            "\u001b[?25hCollecting async-timeout<5.0,>=4.0.0a3\n",
            "  Downloading async_timeout-4.0.2-py3-none-any.whl (5.8 kB)\n",
            "Requirement already satisfied: charset-normalizer<4.0,>=2.0 in /usr/local/lib/python3.10/dist-packages (from aiohttp->datasets) (2.0.12)\n",
            "Collecting yarl<2.0,>=1.0\n",
            "  Downloading yarl-1.9.2-cp310-cp310-manylinux_2_17_x86_64.manylinux2014_x86_64.whl (268 kB)\n",
            "\u001b[2K     \u001b[90m━━━━━━━━━━━━━━━━━━━━━━━━━━━━━━━━━━━━━━\u001b[0m \u001b[32m268.8/268.8 kB\u001b[0m \u001b[31m30.8 MB/s\u001b[0m eta \u001b[36m0:00:00\u001b[0m\n",
            "\u001b[?25hRequirement already satisfied: typing-extensions>=3.7.4.3 in /usr/local/lib/python3.10/dist-packages (from huggingface-hub<1.0.0,>=0.11.0->datasets) (4.5.0)\n",
            "Requirement already satisfied: certifi>=2017.4.17 in /usr/local/lib/python3.10/dist-packages (from requests>=2.19.0->datasets) (2022.12.7)\n",
            "Requirement already satisfied: urllib3<1.27,>=1.21.1 in /usr/local/lib/python3.10/dist-packages (from requests>=2.19.0->datasets) (1.26.15)\n",
            "Requirement already satisfied: idna<4,>=2.5 in /usr/local/lib/python3.10/dist-packages (from requests>=2.19.0->datasets) (3.4)\n",
            "Requirement already satisfied: python-dateutil>=2.8.1 in /usr/local/lib/python3.10/dist-packages (from pandas->datasets) (2.8.2)\n",
            "Requirement already satisfied: pytz>=2020.1 in /usr/local/lib/python3.10/dist-packages (from pandas->datasets) (2022.7.1)\n",
            "Requirement already satisfied: six>=1.5 in /usr/local/lib/python3.10/dist-packages (from python-dateutil>=2.8.1->pandas->datasets) (1.16.0)\n",
            "Installing collected packages: tokenizers, sentencepiece, xxhash, multidict, frozenlist, dill, async-timeout, yarl, responses, multiprocess, huggingface-hub, aiosignal, transformers, aiohttp, datasets\n",
            "Successfully installed aiohttp-3.8.4 aiosignal-1.3.1 async-timeout-4.0.2 datasets-2.11.0 dill-0.3.6 frozenlist-1.3.3 huggingface-hub-0.14.1 multidict-6.0.4 multiprocess-0.70.14 responses-0.18.0 sentencepiece-0.1.98 tokenizers-0.13.3 transformers-4.28.1 xxhash-3.2.0 yarl-1.9.2\n"
          ]
        }
      ],
      "source": [
        "!pip install datasets transformers tokenizers sentencepiece"
      ]
    },
    {
      "cell_type": "markdown",
      "metadata": {
        "id": "f2NCbcJt1ZpO"
      },
      "source": [
        "## Let's implement CCS from scratch.\n",
        "This will deliberately be a simple (but less efficient) implementation to make everything as clear as possible.\n"
      ]
    },
    {
      "cell_type": "code",
      "execution_count": null,
      "metadata": {
        "id": "mR9KRjcALabd"
      },
      "outputs": [],
      "source": [
        "import pandas as pd"
      ]
    },
    {
      "cell_type": "code",
      "execution_count": null,
      "metadata": {
        "colab": {
          "base_uri": "https://localhost:8080/",
          "height": 137,
          "referenced_widgets": [
            "376668d06b454205903c705a692958de",
            "34febfa967a047f3ba85b8a002fc42a3",
            "6a332a2efed84425b37c41f4ec2b57cd",
            "091894488e374608bca252db5542ebed",
            "419652923587455dbbf8b2d5a8de24a3",
            "8238a7124a4b4a35be563b3599caf0e0",
            "d22e6d14390e4cc4b949580fd305f0aa",
            "885c7f553abc4d538137cda262db9c9b",
            "ba99f3b268d3424ca731d51aba6e3dec",
            "91b74bb3a9ca493c881c2169673e7aa6",
            "a2266c36cc234d6da052afa350a86180",
            "67cf2bc031b74228b9071e2406543fb9",
            "3465de5cdca24d3cae457cc2d8b3a140",
            "9974ef6e3c014303b5e88b5ddcb34cdf",
            "c66b196624be430bb05ed6ca94a244a9",
            "86909169dda74091b9a0e48d27ebca07",
            "f34029ba6e544d728d15c423c83b4a6a",
            "cbdd04cde60841c7bec2a6fec14a1718",
            "0798b3a30b1d480e94159edc27268811",
            "1231db2e546a4da3b3b30fd5a54bf61f",
            "d11ca59d552c44638e247a80a718baac",
            "8312706f39a342fa9c1f6dd7e9ebe52c"
          ]
        },
        "id": "XtrToXlDLNg1",
        "outputId": "7cfce522-0d03-4567-beeb-8d9128791b52"
      },
      "outputs": [
        {
          "name": "stderr",
          "output_type": "stream",
          "text": [
            "WARNING:datasets.builder:Found cached dataset amazon_polarity (/root/.cache/huggingface/datasets/amazon_polarity/amazon_polarity/3.0.0/a27b32b7e7b88eb274a8fa8ba0f654f1fe998a87c22547557317793b5d2772dc)\n"
          ]
        },
        {
          "data": {
            "application/vnd.jupyter.widget-view+json": {
              "model_id": "376668d06b454205903c705a692958de",
              "version_major": 2,
              "version_minor": 0
            },
            "text/plain": [
              "  0%|          | 0/2 [00:00<?, ?it/s]"
            ]
          },
          "metadata": {},
          "output_type": "display_data"
        },
        {
          "name": "stderr",
          "output_type": "stream",
          "text": [
            "WARNING:datasets.builder:Found cached dataset amazon_polarity (/root/.cache/huggingface/datasets/amazon_polarity/amazon_polarity/3.0.0/a27b32b7e7b88eb274a8fa8ba0f654f1fe998a87c22547557317793b5d2772dc)\n"
          ]
        },
        {
          "data": {
            "application/vnd.jupyter.widget-view+json": {
              "model_id": "67cf2bc031b74228b9071e2406543fb9",
              "version_major": 2,
              "version_minor": 0
            },
            "text/plain": [
              "  0%|          | 0/2 [00:00<?, ?it/s]"
            ]
          },
          "metadata": {},
          "output_type": "display_data"
        }
      ],
      "source": [
        "data_test = load_dataset(\"amazon_polarity\")[\"test\"]\n",
        "data_train = load_dataset(\"amazon_polarity\")[\"train\"]"
      ]
    },
    {
      "cell_type": "code",
      "execution_count": null,
      "metadata": {
        "id": "vDCMIAxhLSFI"
      },
      "outputs": [],
      "source": [
        "test_df = pd.DataFrame(data_test)"
      ]
    },
    {
      "cell_type": "code",
      "execution_count": null,
      "metadata": {
        "id": "y3_Yu5DXLUeU"
      },
      "outputs": [],
      "source": [
        "train_df = pd.DataFrame(data_train)"
      ]
    },
    {
      "cell_type": "code",
      "execution_count": null,
      "metadata": {
        "id": "7E-XiVjXL0Ny"
      },
      "outputs": [],
      "source": [
        "test_df.describe()"
      ]
    },
    {
      "cell_type": "code",
      "execution_count": null,
      "metadata": {
        "colab": {
          "base_uri": "https://localhost:8080/",
          "height": 773,
          "referenced_widgets": [
            "b4699a39f314470e85c7c5580db4837d",
            "6d0a2b9eec3844ff8f68db27010b6662",
            "4fc094f616524947bd3e89f584afd9b6",
            "8e372cbc0384407587c9e987abcf7aae",
            "e3cd10b0c19f4fc59dae028e11985b20",
            "2b8f68d6c6ed4bf5916b942bf5256413",
            "f06d977a96b74775ad306c7df60a40e3",
            "80118bf8523647ec900cc8fc0a6e30c5",
            "b9eba3e59fea4fddb039d469aa7a6b48",
            "4556848a2a1841b39c3baa2d7ec53fc6",
            "a742bb63c82e4f3395e7d42bd4f0021d",
            "d463c2d44b8c465f86a387c2031f957d",
            "3603b0d3defa469dbbe7ced97f3c2c97",
            "06b64c7693db4944b0d56a3b72d31d52",
            "c18723b2483e4c2f8f3c4e3e568b9c3c",
            "158ecccf19a3488ba107fe1d345c38de",
            "093b0906b8ee49238604c033092d3cfe",
            "d1f135b4de5f42ce9832692b92792524",
            "16b364f6f3aa42a28e703d254dd496f1",
            "11cdb893dc554112a5a1057d3fcfd655",
            "c2010188dd2942c1b97562aebea39e56",
            "cf0b332733394e75bd87cb231c6de3ed",
            "2e8a49eeda0940cc9c09c9c807c3ab31",
            "ae679172d2254c62980bb1c463594add",
            "8f07db0639b74473a248d26658169cd5",
            "0fbf94a203254ee8ae117b7969916b32",
            "85b51ee3dfa64bddadc8d0ceaed68c73",
            "ecacbc70787a4618bdd78b472424c606",
            "4d0b0b70fc76434dad6bcbe4bfe540a7",
            "366b6f2cc60d4a8e81d35ce68ea51bdf",
            "b53f9269f77f4f5690a62db8afba9189",
            "b0263aa76f3d4f9aa0987a088b225c2f",
            "dc5879abca7c458ba26b6cd9b4024818",
            "0eb8c16ed1dc4615b4930ba426e7776e",
            "a4b5f6fe838746878f338f63bb091af5",
            "9f1e0b8bd6be47d0a83478d762cc1fe6",
            "dbdd71bddf6d4726bd8cb1180e47085e",
            "dd456e1d97584fcab8288f862e8ee668",
            "47a8860e179145d498e85b13463fda69",
            "bf5bc34c095f4c87a80ba63eca964755",
            "315a671279d54ed2aa6f63e02056af2c",
            "94a1f1884d3640f4ab4a2c7d9fa01f36",
            "3fa73086487840f0adda7c7fa6324f05",
            "52148e7234de4cdd8f4f104cdb341da9",
            "70c89a95594b45209e26c4e6b13b96ff",
            "d4116da097cc4b8998edddd0cc8908d0",
            "d7418aac8d34474ab84b90e317f442c6",
            "7861ef61d2ba4f33ab4a389702176a78",
            "0b7ef830869b46deab2cc4a62fb27d3c",
            "ba5ef3b8826b4e4498f1a4fe99f07d6a",
            "438ed0f033814da3a118df10b71d304a",
            "4910bbd4b4f24e6486afa36d58786d3b",
            "261b06b134ff48c4a38f1dc868ab16f5",
            "71412d6b9553449ea57e3791bfeebf53",
            "f09ee335136847c790c2f0bdeb71a305",
            "74161e9acfc84c1cb95eba2883c26e0b",
            "1bb5e080722948f2bb2a82f502c02a84",
            "62f6b56cc5c8495c8448f306d3d14f55",
            "018cdb3cbe554349bb90d0426e100641",
            "787ac817fb40441187881d99a39f1ed3",
            "29dc15bd8752441d892b9a870d6378da",
            "45289754043b4eaa8a74770d25adec15",
            "7dc83c11b5294686819788c75be929ca",
            "39b3f171c82241aba626f485ace5b371",
            "8ce607c29ac8463596b8676dfe597af5",
            "59493af7e8dd485996e196d7d0c06f33",
            "ab293efa5a8246aca41531ef83cdb2dc",
            "072f36442809409db31a05796db82d61",
            "187772027e1d422ba595edfe4f970dbf",
            "9a626d9d9b714476bd50f6b7a46e5189",
            "c3cda9894ee14d0d9f847f77b511f6c9",
            "169f007eb3654ddb840b656bcb2f4a5d",
            "8c2f992381f34400bc6c5f37d9373380",
            "f51c2d1beb884368975901e711c0d8e3",
            "1799cea18f624f9fa76fcc1fe54370a6",
            "c6d26e93e1184c9f8d2af71aa6d8233b",
            "609381e2432a48afa8cbcf70f153c681",
            "1f603cfeec0c429083c0a4656ab19bdc",
            "d7407a4e18124943be13e5718e86c238",
            "216d2d7bfb504321af2822fcfb72b37a",
            "65f60d7c6f9343f1974fb4d5984a0094",
            "5da591ba49b64164a72d9436c63fb2df",
            "f76eac5864334e199e94effafabc0242",
            "f7fa9bcf15f24e7bb5cecef933b4b389",
            "3e48676e6de94893af930f352b2f3a75",
            "1f2ad46a67a9499ca831af4628598b3c",
            "abcc8f3d7f51487db1290bd7d8c46bee",
            "f9c73e26998a424c9e3b4deea513306a",
            "82862212dc57431caf0bbcbc4400a603",
            "1d20d63400d64646ae716d4caa804864",
            "0036ddf2fbf04f65a1eec6c66daf8aee",
            "abe4d2cfe24b41aeaf7159cd516889b3",
            "fb77a6203f924e6db1fdc8444eca0a39",
            "033bd60e2b5b4383b78e819bad8e6480",
            "869acf6aedec41f69f93909bcd8f4449",
            "bf4ff75765504793b108b552df377ff0",
            "4d8bdbca3c7c4269bc0a7b4eb26c93bc",
            "5a793409ec69431bb2e73b8ec2f01181",
            "330c26cfc3e746efb3cdd985f6ec775f",
            "0084284d6f38419688c770ff8259bb5d",
            "a7a3ce94a7a747b2a9caf9fee1542596",
            "4c1284dd4c4d480291bf1bbe99933e08",
            "a12a808d8e99458ea4e6a7a30853c382",
            "ed003a6074d84265acf95d9c2f3b49a9",
            "b588fc50ede54cdc909002ca14b8d531",
            "88627ed7f8944cf9ae2e135878aea431",
            "da5ad0d866684040aab958f0f1f1f4a3",
            "e4288bdab34e4491b8e0f6b240ed4cfa",
            "07544fd378814be88eeb3cfdf4cd3e00",
            "7feee0ea3e734ed089f86595615e50ae",
            "8c892a7ce89d45ba8c2ce2f6b09ad3f6",
            "a02306b957004a3c815c316e847b3650",
            "bc04b1bea05a49598f7f8b0ec511557b",
            "d7817ed6ab7c4183b6b5b5f81af3fd16",
            "e126f1ca532a49fdbd9cd26dbce996d5",
            "5235b4c6084f45d786ea6f600725e535",
            "fdb821be15ab435a93018585af0b31fc",
            "6a2e5ac2f5d94de4a705b806c380e6f9",
            "7ce86dde5e38485b8a67a18f766ba417",
            "17fd221cf8e5485d94ff7381ed553064",
            "38450121f91e4f61b2b0f95780903a74"
          ]
        },
        "id": "AKbJXvpn1X5B",
        "outputId": "843d88c5-d93c-4c7f-ff28-0079dbab611b"
      },
      "outputs": [
        {
          "data": {
            "application/vnd.jupyter.widget-view+json": {
              "model_id": "b4699a39f314470e85c7c5580db4837d",
              "version_major": 2,
              "version_minor": 0
            },
            "text/plain": [
              "Downloading builder script:   0%|          | 0.00/4.11k [00:00<?, ?B/s]"
            ]
          },
          "metadata": {},
          "output_type": "display_data"
        },
        {
          "data": {
            "application/vnd.jupyter.widget-view+json": {
              "model_id": "d463c2d44b8c465f86a387c2031f957d",
              "version_major": 2,
              "version_minor": 0
            },
            "text/plain": [
              "Downloading metadata:   0%|          | 0.00/1.68k [00:00<?, ?B/s]"
            ]
          },
          "metadata": {},
          "output_type": "display_data"
        },
        {
          "data": {
            "application/vnd.jupyter.widget-view+json": {
              "model_id": "2e8a49eeda0940cc9c09c9c807c3ab31",
              "version_major": 2,
              "version_minor": 0
            },
            "text/plain": [
              "Downloading readme:   0%|          | 0.00/6.64k [00:00<?, ?B/s]"
            ]
          },
          "metadata": {},
          "output_type": "display_data"
        },
        {
          "name": "stdout",
          "output_type": "stream",
          "text": [
            "Downloading and preparing dataset amazon_polarity/amazon_polarity to /root/.cache/huggingface/datasets/amazon_polarity/amazon_polarity/3.0.0/a27b32b7e7b88eb274a8fa8ba0f654f1fe998a87c22547557317793b5d2772dc...\n"
          ]
        },
        {
          "data": {
            "application/vnd.jupyter.widget-view+json": {
              "model_id": "0eb8c16ed1dc4615b4930ba426e7776e",
              "version_major": 2,
              "version_minor": 0
            },
            "text/plain": [
              "Downloading data:   0%|          | 0.00/688M [00:00<?, ?B/s]"
            ]
          },
          "metadata": {},
          "output_type": "display_data"
        },
        {
          "data": {
            "application/vnd.jupyter.widget-view+json": {
              "model_id": "70c89a95594b45209e26c4e6b13b96ff",
              "version_major": 2,
              "version_minor": 0
            },
            "text/plain": [
              "Generating train split:   0%|          | 0/3600000 [00:00<?, ? examples/s]"
            ]
          },
          "metadata": {},
          "output_type": "display_data"
        },
        {
          "data": {
            "application/vnd.jupyter.widget-view+json": {
              "model_id": "74161e9acfc84c1cb95eba2883c26e0b",
              "version_major": 2,
              "version_minor": 0
            },
            "text/plain": [
              "Generating test split:   0%|          | 0/400000 [00:00<?, ? examples/s]"
            ]
          },
          "metadata": {},
          "output_type": "display_data"
        },
        {
          "name": "stdout",
          "output_type": "stream",
          "text": [
            "Dataset amazon_polarity downloaded and prepared to /root/.cache/huggingface/datasets/amazon_polarity/amazon_polarity/3.0.0/a27b32b7e7b88eb274a8fa8ba0f654f1fe998a87c22547557317793b5d2772dc. Subsequent calls will reuse this data.\n"
          ]
        },
        {
          "data": {
            "application/vnd.jupyter.widget-view+json": {
              "model_id": "ab293efa5a8246aca41531ef83cdb2dc",
              "version_major": 2,
              "version_minor": 0
            },
            "text/plain": [
              "  0%|          | 0/2 [00:00<?, ?it/s]"
            ]
          },
          "metadata": {},
          "output_type": "display_data"
        },
        {
          "data": {
            "application/vnd.jupyter.widget-view+json": {
              "model_id": "1f603cfeec0c429083c0a4656ab19bdc",
              "version_major": 2,
              "version_minor": 0
            },
            "text/plain": [
              "Downloading (…)okenizer_config.json:   0%|          | 0.00/52.0 [00:00<?, ?B/s]"
            ]
          },
          "metadata": {},
          "output_type": "display_data"
        },
        {
          "data": {
            "application/vnd.jupyter.widget-view+json": {
              "model_id": "82862212dc57431caf0bbcbc4400a603",
              "version_major": 2,
              "version_minor": 0
            },
            "text/plain": [
              "Downloading (…)lve/main/config.json:   0%|          | 0.00/633 [00:00<?, ?B/s]"
            ]
          },
          "metadata": {},
          "output_type": "display_data"
        },
        {
          "data": {
            "application/vnd.jupyter.widget-view+json": {
              "model_id": "0084284d6f38419688c770ff8259bb5d",
              "version_major": 2,
              "version_minor": 0
            },
            "text/plain": [
              "Downloading spm.model:   0%|          | 0.00/2.45M [00:00<?, ?B/s]"
            ]
          },
          "metadata": {},
          "output_type": "display_data"
        },
        {
          "name": "stderr",
          "output_type": "stream",
          "text": [
            "Special tokens have been added in the vocabulary, make sure the associated word embeddings are fine-tuned or trained.\n",
            "Special tokens have been added in the vocabulary, make sure the associated word embeddings are fine-tuned or trained.\n"
          ]
        },
        {
          "data": {
            "application/vnd.jupyter.widget-view+json": {
              "model_id": "8c892a7ce89d45ba8c2ce2f6b09ad3f6",
              "version_major": 2,
              "version_minor": 0
            },
            "text/plain": [
              "Downloading pytorch_model.bin:   0%|          | 0.00/3.14G [00:00<?, ?B/s]"
            ]
          },
          "metadata": {},
          "output_type": "display_data"
        },
        {
          "ename": "KeyboardInterrupt",
          "evalue": "ignored",
          "output_type": "error",
          "traceback": [
            "\u001b[0;31m---------------------------------------------------------------------------\u001b[0m",
            "\u001b[0;31mKeyboardInterrupt\u001b[0m                         Traceback (most recent call last)",
            "\u001b[0;32m<ipython-input-2-f5c639b81c63>\u001b[0m in \u001b[0;36m<cell line: 23>\u001b[0;34m()\u001b[0m\n\u001b[1;32m     24\u001b[0m     \u001b[0mmodel_type\u001b[0m \u001b[0;34m=\u001b[0m \u001b[0;34m\"encoder\"\u001b[0m\u001b[0;34m\u001b[0m\u001b[0;34m\u001b[0m\u001b[0m\n\u001b[1;32m     25\u001b[0m     \u001b[0mtokenizer\u001b[0m \u001b[0;34m=\u001b[0m \u001b[0mAutoTokenizer\u001b[0m\u001b[0;34m.\u001b[0m\u001b[0mfrom_pretrained\u001b[0m\u001b[0;34m(\u001b[0m\u001b[0;34m\"microsoft/deberta-v2-xxlarge\"\u001b[0m\u001b[0;34m,\u001b[0m \u001b[0mcache_dir\u001b[0m\u001b[0;34m=\u001b[0m\u001b[0mcache_dir\u001b[0m\u001b[0;34m)\u001b[0m\u001b[0;34m\u001b[0m\u001b[0;34m\u001b[0m\u001b[0m\n\u001b[0;32m---> 26\u001b[0;31m     \u001b[0mmodel\u001b[0m \u001b[0;34m=\u001b[0m \u001b[0mAutoModelForMaskedLM\u001b[0m\u001b[0;34m.\u001b[0m\u001b[0mfrom_pretrained\u001b[0m\u001b[0;34m(\u001b[0m\u001b[0;34m\"microsoft/deberta-v2-xxlarge\"\u001b[0m\u001b[0;34m,\u001b[0m \u001b[0mcache_dir\u001b[0m\u001b[0;34m=\u001b[0m\u001b[0mcache_dir\u001b[0m\u001b[0;34m)\u001b[0m\u001b[0;34m\u001b[0m\u001b[0;34m\u001b[0m\u001b[0m\n\u001b[0m\u001b[1;32m     27\u001b[0m     \u001b[0mmodel\u001b[0m\u001b[0;34m.\u001b[0m\u001b[0mcuda\u001b[0m\u001b[0;34m(\u001b[0m\u001b[0;34m)\u001b[0m\u001b[0;34m\u001b[0m\u001b[0;34m\u001b[0m\u001b[0m\n\u001b[1;32m     28\u001b[0m \u001b[0;32melif\u001b[0m \u001b[0mmodel_name\u001b[0m \u001b[0;34m==\u001b[0m \u001b[0;34m\"gpt-j\"\u001b[0m\u001b[0;34m:\u001b[0m\u001b[0;34m\u001b[0m\u001b[0;34m\u001b[0m\u001b[0m\n",
            "\u001b[0;32m/usr/local/lib/python3.10/dist-packages/transformers/models/auto/auto_factory.py\u001b[0m in \u001b[0;36mfrom_pretrained\u001b[0;34m(cls, pretrained_model_name_or_path, *model_args, **kwargs)\u001b[0m\n\u001b[1;32m    469\u001b[0m         \u001b[0;32melif\u001b[0m \u001b[0mtype\u001b[0m\u001b[0;34m(\u001b[0m\u001b[0mconfig\u001b[0m\u001b[0;34m)\u001b[0m \u001b[0;32min\u001b[0m \u001b[0mcls\u001b[0m\u001b[0;34m.\u001b[0m\u001b[0m_model_mapping\u001b[0m\u001b[0;34m.\u001b[0m\u001b[0mkeys\u001b[0m\u001b[0;34m(\u001b[0m\u001b[0;34m)\u001b[0m\u001b[0;34m:\u001b[0m\u001b[0;34m\u001b[0m\u001b[0;34m\u001b[0m\u001b[0m\n\u001b[1;32m    470\u001b[0m             \u001b[0mmodel_class\u001b[0m \u001b[0;34m=\u001b[0m \u001b[0m_get_model_class\u001b[0m\u001b[0;34m(\u001b[0m\u001b[0mconfig\u001b[0m\u001b[0;34m,\u001b[0m \u001b[0mcls\u001b[0m\u001b[0;34m.\u001b[0m\u001b[0m_model_mapping\u001b[0m\u001b[0;34m)\u001b[0m\u001b[0;34m\u001b[0m\u001b[0;34m\u001b[0m\u001b[0m\n\u001b[0;32m--> 471\u001b[0;31m             return model_class.from_pretrained(\n\u001b[0m\u001b[1;32m    472\u001b[0m                 \u001b[0mpretrained_model_name_or_path\u001b[0m\u001b[0;34m,\u001b[0m \u001b[0;34m*\u001b[0m\u001b[0mmodel_args\u001b[0m\u001b[0;34m,\u001b[0m \u001b[0mconfig\u001b[0m\u001b[0;34m=\u001b[0m\u001b[0mconfig\u001b[0m\u001b[0;34m,\u001b[0m \u001b[0;34m**\u001b[0m\u001b[0mhub_kwargs\u001b[0m\u001b[0;34m,\u001b[0m \u001b[0;34m**\u001b[0m\u001b[0mkwargs\u001b[0m\u001b[0;34m\u001b[0m\u001b[0;34m\u001b[0m\u001b[0m\n\u001b[1;32m    473\u001b[0m             )\n",
            "\u001b[0;32m/usr/local/lib/python3.10/dist-packages/transformers/modeling_utils.py\u001b[0m in \u001b[0;36mfrom_pretrained\u001b[0;34m(cls, pretrained_model_name_or_path, *model_args, **kwargs)\u001b[0m\n\u001b[1;32m   2448\u001b[0m                         \u001b[0;34m\"_commit_hash\"\u001b[0m\u001b[0;34m:\u001b[0m \u001b[0mcommit_hash\u001b[0m\u001b[0;34m,\u001b[0m\u001b[0;34m\u001b[0m\u001b[0;34m\u001b[0m\u001b[0m\n\u001b[1;32m   2449\u001b[0m                     }\n\u001b[0;32m-> 2450\u001b[0;31m                     \u001b[0mresolved_archive_file\u001b[0m \u001b[0;34m=\u001b[0m \u001b[0mcached_file\u001b[0m\u001b[0;34m(\u001b[0m\u001b[0mpretrained_model_name_or_path\u001b[0m\u001b[0;34m,\u001b[0m \u001b[0mfilename\u001b[0m\u001b[0;34m,\u001b[0m \u001b[0;34m**\u001b[0m\u001b[0mcached_file_kwargs\u001b[0m\u001b[0;34m)\u001b[0m\u001b[0;34m\u001b[0m\u001b[0;34m\u001b[0m\u001b[0m\n\u001b[0m\u001b[1;32m   2451\u001b[0m \u001b[0;34m\u001b[0m\u001b[0m\n\u001b[1;32m   2452\u001b[0m                     \u001b[0;31m# Since we set _raise_exceptions_for_missing_entries=False, we don't get an exception but a None\u001b[0m\u001b[0;34m\u001b[0m\u001b[0;34m\u001b[0m\u001b[0m\n",
            "\u001b[0;32m/usr/local/lib/python3.10/dist-packages/transformers/utils/hub.py\u001b[0m in \u001b[0;36mcached_file\u001b[0;34m(path_or_repo_id, filename, cache_dir, force_download, resume_download, proxies, use_auth_token, revision, local_files_only, subfolder, user_agent, _raise_exceptions_for_missing_entries, _raise_exceptions_for_connection_errors, _commit_hash)\u001b[0m\n\u001b[1;32m    407\u001b[0m     \u001b[0;32mtry\u001b[0m\u001b[0;34m:\u001b[0m\u001b[0;34m\u001b[0m\u001b[0;34m\u001b[0m\u001b[0m\n\u001b[1;32m    408\u001b[0m         \u001b[0;31m# Load from URL or cache if already cached\u001b[0m\u001b[0;34m\u001b[0m\u001b[0;34m\u001b[0m\u001b[0m\n\u001b[0;32m--> 409\u001b[0;31m         resolved_file = hf_hub_download(\n\u001b[0m\u001b[1;32m    410\u001b[0m             \u001b[0mpath_or_repo_id\u001b[0m\u001b[0;34m,\u001b[0m\u001b[0;34m\u001b[0m\u001b[0;34m\u001b[0m\u001b[0m\n\u001b[1;32m    411\u001b[0m             \u001b[0mfilename\u001b[0m\u001b[0;34m,\u001b[0m\u001b[0;34m\u001b[0m\u001b[0;34m\u001b[0m\u001b[0m\n",
            "\u001b[0;32m/usr/local/lib/python3.10/dist-packages/huggingface_hub/utils/_validators.py\u001b[0m in \u001b[0;36m_inner_fn\u001b[0;34m(*args, **kwargs)\u001b[0m\n\u001b[1;32m    118\u001b[0m             \u001b[0mkwargs\u001b[0m \u001b[0;34m=\u001b[0m \u001b[0msmoothly_deprecate_use_auth_token\u001b[0m\u001b[0;34m(\u001b[0m\u001b[0mfn_name\u001b[0m\u001b[0;34m=\u001b[0m\u001b[0mfn\u001b[0m\u001b[0;34m.\u001b[0m\u001b[0m__name__\u001b[0m\u001b[0;34m,\u001b[0m \u001b[0mhas_token\u001b[0m\u001b[0;34m=\u001b[0m\u001b[0mhas_token\u001b[0m\u001b[0;34m,\u001b[0m \u001b[0mkwargs\u001b[0m\u001b[0;34m=\u001b[0m\u001b[0mkwargs\u001b[0m\u001b[0;34m)\u001b[0m\u001b[0;34m\u001b[0m\u001b[0;34m\u001b[0m\u001b[0m\n\u001b[1;32m    119\u001b[0m \u001b[0;34m\u001b[0m\u001b[0m\n\u001b[0;32m--> 120\u001b[0;31m         \u001b[0;32mreturn\u001b[0m \u001b[0mfn\u001b[0m\u001b[0;34m(\u001b[0m\u001b[0;34m*\u001b[0m\u001b[0margs\u001b[0m\u001b[0;34m,\u001b[0m \u001b[0;34m**\u001b[0m\u001b[0mkwargs\u001b[0m\u001b[0;34m)\u001b[0m\u001b[0;34m\u001b[0m\u001b[0;34m\u001b[0m\u001b[0m\n\u001b[0m\u001b[1;32m    121\u001b[0m \u001b[0;34m\u001b[0m\u001b[0m\n\u001b[1;32m    122\u001b[0m     \u001b[0;32mreturn\u001b[0m \u001b[0m_inner_fn\u001b[0m  \u001b[0;31m# type: ignore\u001b[0m\u001b[0;34m\u001b[0m\u001b[0;34m\u001b[0m\u001b[0m\n",
            "\u001b[0;32m/usr/local/lib/python3.10/dist-packages/huggingface_hub/file_download.py\u001b[0m in \u001b[0;36mhf_hub_download\u001b[0;34m(repo_id, filename, subfolder, repo_type, revision, library_name, library_version, cache_dir, local_dir, local_dir_use_symlinks, user_agent, force_download, force_filename, proxies, etag_timeout, resume_download, token, local_files_only, legacy_cache_layout)\u001b[0m\n\u001b[1;32m   1362\u001b[0m             \u001b[0mlogger\u001b[0m\u001b[0;34m.\u001b[0m\u001b[0minfo\u001b[0m\u001b[0;34m(\u001b[0m\u001b[0;34m\"downloading %s to %s\"\u001b[0m\u001b[0;34m,\u001b[0m \u001b[0murl\u001b[0m\u001b[0;34m,\u001b[0m \u001b[0mtemp_file\u001b[0m\u001b[0;34m.\u001b[0m\u001b[0mname\u001b[0m\u001b[0;34m)\u001b[0m\u001b[0;34m\u001b[0m\u001b[0;34m\u001b[0m\u001b[0m\n\u001b[1;32m   1363\u001b[0m \u001b[0;34m\u001b[0m\u001b[0m\n\u001b[0;32m-> 1364\u001b[0;31m             http_get(\n\u001b[0m\u001b[1;32m   1365\u001b[0m                 \u001b[0murl_to_download\u001b[0m\u001b[0;34m,\u001b[0m\u001b[0;34m\u001b[0m\u001b[0;34m\u001b[0m\u001b[0m\n\u001b[1;32m   1366\u001b[0m                 \u001b[0mtemp_file\u001b[0m\u001b[0;34m,\u001b[0m\u001b[0;34m\u001b[0m\u001b[0;34m\u001b[0m\u001b[0m\n",
            "\u001b[0;32m/usr/local/lib/python3.10/dist-packages/huggingface_hub/file_download.py\u001b[0m in \u001b[0;36mhttp_get\u001b[0;34m(url, temp_file, proxies, resume_size, headers, timeout, max_retries, expected_size)\u001b[0m\n\u001b[1;32m    539\u001b[0m         \u001b[0mdisable\u001b[0m\u001b[0;34m=\u001b[0m\u001b[0mbool\u001b[0m\u001b[0;34m(\u001b[0m\u001b[0mlogger\u001b[0m\u001b[0;34m.\u001b[0m\u001b[0mgetEffectiveLevel\u001b[0m\u001b[0;34m(\u001b[0m\u001b[0;34m)\u001b[0m \u001b[0;34m==\u001b[0m \u001b[0mlogging\u001b[0m\u001b[0;34m.\u001b[0m\u001b[0mNOTSET\u001b[0m\u001b[0;34m)\u001b[0m\u001b[0;34m,\u001b[0m\u001b[0;34m\u001b[0m\u001b[0;34m\u001b[0m\u001b[0m\n\u001b[1;32m    540\u001b[0m     )\n\u001b[0;32m--> 541\u001b[0;31m     \u001b[0;32mfor\u001b[0m \u001b[0mchunk\u001b[0m \u001b[0;32min\u001b[0m \u001b[0mr\u001b[0m\u001b[0;34m.\u001b[0m\u001b[0miter_content\u001b[0m\u001b[0;34m(\u001b[0m\u001b[0mchunk_size\u001b[0m\u001b[0;34m=\u001b[0m\u001b[0;36m10\u001b[0m \u001b[0;34m*\u001b[0m \u001b[0;36m1024\u001b[0m \u001b[0;34m*\u001b[0m \u001b[0;36m1024\u001b[0m\u001b[0;34m)\u001b[0m\u001b[0;34m:\u001b[0m\u001b[0;34m\u001b[0m\u001b[0;34m\u001b[0m\u001b[0m\n\u001b[0m\u001b[1;32m    542\u001b[0m         \u001b[0;32mif\u001b[0m \u001b[0mchunk\u001b[0m\u001b[0;34m:\u001b[0m  \u001b[0;31m# filter out keep-alive new chunks\u001b[0m\u001b[0;34m\u001b[0m\u001b[0;34m\u001b[0m\u001b[0m\n\u001b[1;32m    543\u001b[0m             \u001b[0mprogress\u001b[0m\u001b[0;34m.\u001b[0m\u001b[0mupdate\u001b[0m\u001b[0;34m(\u001b[0m\u001b[0mlen\u001b[0m\u001b[0;34m(\u001b[0m\u001b[0mchunk\u001b[0m\u001b[0;34m)\u001b[0m\u001b[0;34m)\u001b[0m\u001b[0;34m\u001b[0m\u001b[0;34m\u001b[0m\u001b[0m\n",
            "\u001b[0;32m/usr/local/lib/python3.10/dist-packages/requests/models.py\u001b[0m in \u001b[0;36mgenerate\u001b[0;34m()\u001b[0m\n\u001b[1;32m    758\u001b[0m             \u001b[0;32mif\u001b[0m \u001b[0mhasattr\u001b[0m\u001b[0;34m(\u001b[0m\u001b[0mself\u001b[0m\u001b[0;34m.\u001b[0m\u001b[0mraw\u001b[0m\u001b[0;34m,\u001b[0m \u001b[0;34m'stream'\u001b[0m\u001b[0;34m)\u001b[0m\u001b[0;34m:\u001b[0m\u001b[0;34m\u001b[0m\u001b[0;34m\u001b[0m\u001b[0m\n\u001b[1;32m    759\u001b[0m                 \u001b[0;32mtry\u001b[0m\u001b[0;34m:\u001b[0m\u001b[0;34m\u001b[0m\u001b[0;34m\u001b[0m\u001b[0m\n\u001b[0;32m--> 760\u001b[0;31m                     \u001b[0;32mfor\u001b[0m \u001b[0mchunk\u001b[0m \u001b[0;32min\u001b[0m \u001b[0mself\u001b[0m\u001b[0;34m.\u001b[0m\u001b[0mraw\u001b[0m\u001b[0;34m.\u001b[0m\u001b[0mstream\u001b[0m\u001b[0;34m(\u001b[0m\u001b[0mchunk_size\u001b[0m\u001b[0;34m,\u001b[0m \u001b[0mdecode_content\u001b[0m\u001b[0;34m=\u001b[0m\u001b[0;32mTrue\u001b[0m\u001b[0;34m)\u001b[0m\u001b[0;34m:\u001b[0m\u001b[0;34m\u001b[0m\u001b[0;34m\u001b[0m\u001b[0m\n\u001b[0m\u001b[1;32m    761\u001b[0m                         \u001b[0;32myield\u001b[0m \u001b[0mchunk\u001b[0m\u001b[0;34m\u001b[0m\u001b[0;34m\u001b[0m\u001b[0m\n\u001b[1;32m    762\u001b[0m                 \u001b[0;32mexcept\u001b[0m \u001b[0mProtocolError\u001b[0m \u001b[0;32mas\u001b[0m \u001b[0me\u001b[0m\u001b[0;34m:\u001b[0m\u001b[0;34m\u001b[0m\u001b[0;34m\u001b[0m\u001b[0m\n",
            "\u001b[0;32m/usr/local/lib/python3.10/dist-packages/urllib3/response.py\u001b[0m in \u001b[0;36mstream\u001b[0;34m(self, amt, decode_content)\u001b[0m\n\u001b[1;32m    626\u001b[0m         \u001b[0;32melse\u001b[0m\u001b[0;34m:\u001b[0m\u001b[0;34m\u001b[0m\u001b[0;34m\u001b[0m\u001b[0m\n\u001b[1;32m    627\u001b[0m             \u001b[0;32mwhile\u001b[0m \u001b[0;32mnot\u001b[0m \u001b[0mis_fp_closed\u001b[0m\u001b[0;34m(\u001b[0m\u001b[0mself\u001b[0m\u001b[0;34m.\u001b[0m\u001b[0m_fp\u001b[0m\u001b[0;34m)\u001b[0m\u001b[0;34m:\u001b[0m\u001b[0;34m\u001b[0m\u001b[0;34m\u001b[0m\u001b[0m\n\u001b[0;32m--> 628\u001b[0;31m                 \u001b[0mdata\u001b[0m \u001b[0;34m=\u001b[0m \u001b[0mself\u001b[0m\u001b[0;34m.\u001b[0m\u001b[0mread\u001b[0m\u001b[0;34m(\u001b[0m\u001b[0mamt\u001b[0m\u001b[0;34m=\u001b[0m\u001b[0mamt\u001b[0m\u001b[0;34m,\u001b[0m \u001b[0mdecode_content\u001b[0m\u001b[0;34m=\u001b[0m\u001b[0mdecode_content\u001b[0m\u001b[0;34m)\u001b[0m\u001b[0;34m\u001b[0m\u001b[0;34m\u001b[0m\u001b[0m\n\u001b[0m\u001b[1;32m    629\u001b[0m \u001b[0;34m\u001b[0m\u001b[0m\n\u001b[1;32m    630\u001b[0m                 \u001b[0;32mif\u001b[0m \u001b[0mdata\u001b[0m\u001b[0;34m:\u001b[0m\u001b[0;34m\u001b[0m\u001b[0;34m\u001b[0m\u001b[0m\n",
            "\u001b[0;32m/usr/local/lib/python3.10/dist-packages/urllib3/response.py\u001b[0m in \u001b[0;36mread\u001b[0;34m(self, amt, decode_content, cache_content)\u001b[0m\n\u001b[1;32m    565\u001b[0m \u001b[0;34m\u001b[0m\u001b[0m\n\u001b[1;32m    566\u001b[0m         \u001b[0;32mwith\u001b[0m \u001b[0mself\u001b[0m\u001b[0;34m.\u001b[0m\u001b[0m_error_catcher\u001b[0m\u001b[0;34m(\u001b[0m\u001b[0;34m)\u001b[0m\u001b[0;34m:\u001b[0m\u001b[0;34m\u001b[0m\u001b[0;34m\u001b[0m\u001b[0m\n\u001b[0;32m--> 567\u001b[0;31m             \u001b[0mdata\u001b[0m \u001b[0;34m=\u001b[0m \u001b[0mself\u001b[0m\u001b[0;34m.\u001b[0m\u001b[0m_fp_read\u001b[0m\u001b[0;34m(\u001b[0m\u001b[0mamt\u001b[0m\u001b[0;34m)\u001b[0m \u001b[0;32mif\u001b[0m \u001b[0;32mnot\u001b[0m \u001b[0mfp_closed\u001b[0m \u001b[0;32melse\u001b[0m \u001b[0;34mb\"\"\u001b[0m\u001b[0;34m\u001b[0m\u001b[0;34m\u001b[0m\u001b[0m\n\u001b[0m\u001b[1;32m    568\u001b[0m             \u001b[0;32mif\u001b[0m \u001b[0mamt\u001b[0m \u001b[0;32mis\u001b[0m \u001b[0;32mNone\u001b[0m\u001b[0;34m:\u001b[0m\u001b[0;34m\u001b[0m\u001b[0;34m\u001b[0m\u001b[0m\n\u001b[1;32m    569\u001b[0m                 \u001b[0mflush_decoder\u001b[0m \u001b[0;34m=\u001b[0m \u001b[0;32mTrue\u001b[0m\u001b[0;34m\u001b[0m\u001b[0;34m\u001b[0m\u001b[0m\n",
            "\u001b[0;32m/usr/local/lib/python3.10/dist-packages/urllib3/response.py\u001b[0m in \u001b[0;36m_fp_read\u001b[0;34m(self, amt)\u001b[0m\n\u001b[1;32m    531\u001b[0m         \u001b[0;32melse\u001b[0m\u001b[0;34m:\u001b[0m\u001b[0;34m\u001b[0m\u001b[0;34m\u001b[0m\u001b[0m\n\u001b[1;32m    532\u001b[0m             \u001b[0;31m# StringIO doesn't like amt=None\u001b[0m\u001b[0;34m\u001b[0m\u001b[0;34m\u001b[0m\u001b[0m\n\u001b[0;32m--> 533\u001b[0;31m             \u001b[0;32mreturn\u001b[0m \u001b[0mself\u001b[0m\u001b[0;34m.\u001b[0m\u001b[0m_fp\u001b[0m\u001b[0;34m.\u001b[0m\u001b[0mread\u001b[0m\u001b[0;34m(\u001b[0m\u001b[0mamt\u001b[0m\u001b[0;34m)\u001b[0m \u001b[0;32mif\u001b[0m \u001b[0mamt\u001b[0m \u001b[0;32mis\u001b[0m \u001b[0;32mnot\u001b[0m \u001b[0;32mNone\u001b[0m \u001b[0;32melse\u001b[0m \u001b[0mself\u001b[0m\u001b[0;34m.\u001b[0m\u001b[0m_fp\u001b[0m\u001b[0;34m.\u001b[0m\u001b[0mread\u001b[0m\u001b[0;34m(\u001b[0m\u001b[0;34m)\u001b[0m\u001b[0;34m\u001b[0m\u001b[0;34m\u001b[0m\u001b[0m\n\u001b[0m\u001b[1;32m    534\u001b[0m \u001b[0;34m\u001b[0m\u001b[0m\n\u001b[1;32m    535\u001b[0m     \u001b[0;32mdef\u001b[0m \u001b[0mread\u001b[0m\u001b[0;34m(\u001b[0m\u001b[0mself\u001b[0m\u001b[0;34m,\u001b[0m \u001b[0mamt\u001b[0m\u001b[0;34m=\u001b[0m\u001b[0;32mNone\u001b[0m\u001b[0;34m,\u001b[0m \u001b[0mdecode_content\u001b[0m\u001b[0;34m=\u001b[0m\u001b[0;32mNone\u001b[0m\u001b[0;34m,\u001b[0m \u001b[0mcache_content\u001b[0m\u001b[0;34m=\u001b[0m\u001b[0;32mFalse\u001b[0m\u001b[0;34m)\u001b[0m\u001b[0;34m:\u001b[0m\u001b[0;34m\u001b[0m\u001b[0;34m\u001b[0m\u001b[0m\n",
            "\u001b[0;32m/usr/lib/python3.10/http/client.py\u001b[0m in \u001b[0;36mread\u001b[0;34m(self, amt)\u001b[0m\n\u001b[1;32m    464\u001b[0m                 \u001b[0;31m# clip the read to the \"end of response\"\u001b[0m\u001b[0;34m\u001b[0m\u001b[0;34m\u001b[0m\u001b[0m\n\u001b[1;32m    465\u001b[0m                 \u001b[0mamt\u001b[0m \u001b[0;34m=\u001b[0m \u001b[0mself\u001b[0m\u001b[0;34m.\u001b[0m\u001b[0mlength\u001b[0m\u001b[0;34m\u001b[0m\u001b[0;34m\u001b[0m\u001b[0m\n\u001b[0;32m--> 466\u001b[0;31m             \u001b[0ms\u001b[0m \u001b[0;34m=\u001b[0m \u001b[0mself\u001b[0m\u001b[0;34m.\u001b[0m\u001b[0mfp\u001b[0m\u001b[0;34m.\u001b[0m\u001b[0mread\u001b[0m\u001b[0;34m(\u001b[0m\u001b[0mamt\u001b[0m\u001b[0;34m)\u001b[0m\u001b[0;34m\u001b[0m\u001b[0;34m\u001b[0m\u001b[0m\n\u001b[0m\u001b[1;32m    467\u001b[0m             \u001b[0;32mif\u001b[0m \u001b[0;32mnot\u001b[0m \u001b[0ms\u001b[0m \u001b[0;32mand\u001b[0m \u001b[0mamt\u001b[0m\u001b[0;34m:\u001b[0m\u001b[0;34m\u001b[0m\u001b[0;34m\u001b[0m\u001b[0m\n\u001b[1;32m    468\u001b[0m                 \u001b[0;31m# Ideally, we would raise IncompleteRead if the content-length\u001b[0m\u001b[0;34m\u001b[0m\u001b[0;34m\u001b[0m\u001b[0m\n",
            "\u001b[0;32m/usr/lib/python3.10/socket.py\u001b[0m in \u001b[0;36mreadinto\u001b[0;34m(self, b)\u001b[0m\n\u001b[1;32m    703\u001b[0m         \u001b[0;32mwhile\u001b[0m \u001b[0;32mTrue\u001b[0m\u001b[0;34m:\u001b[0m\u001b[0;34m\u001b[0m\u001b[0;34m\u001b[0m\u001b[0m\n\u001b[1;32m    704\u001b[0m             \u001b[0;32mtry\u001b[0m\u001b[0;34m:\u001b[0m\u001b[0;34m\u001b[0m\u001b[0;34m\u001b[0m\u001b[0m\n\u001b[0;32m--> 705\u001b[0;31m                 \u001b[0;32mreturn\u001b[0m \u001b[0mself\u001b[0m\u001b[0;34m.\u001b[0m\u001b[0m_sock\u001b[0m\u001b[0;34m.\u001b[0m\u001b[0mrecv_into\u001b[0m\u001b[0;34m(\u001b[0m\u001b[0mb\u001b[0m\u001b[0;34m)\u001b[0m\u001b[0;34m\u001b[0m\u001b[0;34m\u001b[0m\u001b[0m\n\u001b[0m\u001b[1;32m    706\u001b[0m             \u001b[0;32mexcept\u001b[0m \u001b[0mtimeout\u001b[0m\u001b[0;34m:\u001b[0m\u001b[0;34m\u001b[0m\u001b[0;34m\u001b[0m\u001b[0m\n\u001b[1;32m    707\u001b[0m                 \u001b[0mself\u001b[0m\u001b[0;34m.\u001b[0m\u001b[0m_timeout_occurred\u001b[0m \u001b[0;34m=\u001b[0m \u001b[0;32mTrue\u001b[0m\u001b[0;34m\u001b[0m\u001b[0;34m\u001b[0m\u001b[0m\n",
            "\u001b[0;32m/usr/lib/python3.10/ssl.py\u001b[0m in \u001b[0;36mrecv_into\u001b[0;34m(self, buffer, nbytes, flags)\u001b[0m\n\u001b[1;32m   1272\u001b[0m                   \u001b[0;34m\"non-zero flags not allowed in calls to recv_into() on %s\"\u001b[0m \u001b[0;34m%\u001b[0m\u001b[0;34m\u001b[0m\u001b[0;34m\u001b[0m\u001b[0m\n\u001b[1;32m   1273\u001b[0m                   self.__class__)\n\u001b[0;32m-> 1274\u001b[0;31m             \u001b[0;32mreturn\u001b[0m \u001b[0mself\u001b[0m\u001b[0;34m.\u001b[0m\u001b[0mread\u001b[0m\u001b[0;34m(\u001b[0m\u001b[0mnbytes\u001b[0m\u001b[0;34m,\u001b[0m \u001b[0mbuffer\u001b[0m\u001b[0;34m)\u001b[0m\u001b[0;34m\u001b[0m\u001b[0;34m\u001b[0m\u001b[0m\n\u001b[0m\u001b[1;32m   1275\u001b[0m         \u001b[0;32melse\u001b[0m\u001b[0;34m:\u001b[0m\u001b[0;34m\u001b[0m\u001b[0;34m\u001b[0m\u001b[0m\n\u001b[1;32m   1276\u001b[0m             \u001b[0;32mreturn\u001b[0m \u001b[0msuper\u001b[0m\u001b[0;34m(\u001b[0m\u001b[0;34m)\u001b[0m\u001b[0;34m.\u001b[0m\u001b[0mrecv_into\u001b[0m\u001b[0;34m(\u001b[0m\u001b[0mbuffer\u001b[0m\u001b[0;34m,\u001b[0m \u001b[0mnbytes\u001b[0m\u001b[0;34m,\u001b[0m \u001b[0mflags\u001b[0m\u001b[0;34m)\u001b[0m\u001b[0;34m\u001b[0m\u001b[0;34m\u001b[0m\u001b[0m\n",
            "\u001b[0;32m/usr/lib/python3.10/ssl.py\u001b[0m in \u001b[0;36mread\u001b[0;34m(self, len, buffer)\u001b[0m\n\u001b[1;32m   1128\u001b[0m         \u001b[0;32mtry\u001b[0m\u001b[0;34m:\u001b[0m\u001b[0;34m\u001b[0m\u001b[0;34m\u001b[0m\u001b[0m\n\u001b[1;32m   1129\u001b[0m             \u001b[0;32mif\u001b[0m \u001b[0mbuffer\u001b[0m \u001b[0;32mis\u001b[0m \u001b[0;32mnot\u001b[0m \u001b[0;32mNone\u001b[0m\u001b[0;34m:\u001b[0m\u001b[0;34m\u001b[0m\u001b[0;34m\u001b[0m\u001b[0m\n\u001b[0;32m-> 1130\u001b[0;31m                 \u001b[0;32mreturn\u001b[0m \u001b[0mself\u001b[0m\u001b[0;34m.\u001b[0m\u001b[0m_sslobj\u001b[0m\u001b[0;34m.\u001b[0m\u001b[0mread\u001b[0m\u001b[0;34m(\u001b[0m\u001b[0mlen\u001b[0m\u001b[0;34m,\u001b[0m \u001b[0mbuffer\u001b[0m\u001b[0;34m)\u001b[0m\u001b[0;34m\u001b[0m\u001b[0;34m\u001b[0m\u001b[0m\n\u001b[0m\u001b[1;32m   1131\u001b[0m             \u001b[0;32melse\u001b[0m\u001b[0;34m:\u001b[0m\u001b[0;34m\u001b[0m\u001b[0;34m\u001b[0m\u001b[0m\n\u001b[1;32m   1132\u001b[0m                 \u001b[0;32mreturn\u001b[0m \u001b[0mself\u001b[0m\u001b[0;34m.\u001b[0m\u001b[0m_sslobj\u001b[0m\u001b[0;34m.\u001b[0m\u001b[0mread\u001b[0m\u001b[0;34m(\u001b[0m\u001b[0mlen\u001b[0m\u001b[0;34m)\u001b[0m\u001b[0;34m\u001b[0m\u001b[0;34m\u001b[0m\u001b[0m\n",
            "\u001b[0;31mKeyboardInterrupt\u001b[0m: "
          ]
        }
      ],
      "source": [
        "from tqdm import tqdm\n",
        "import copy\n",
        "import numpy as np\n",
        "import torch\n",
        "import torch.nn as nn\n",
        "import torch.nn.functional as F\n",
        "\n",
        "from datasets import load_dataset\n",
        "from transformers import AutoTokenizer, AutoModelForSeq2SeqLM, AutoModelForMaskedLM, AutoModelForCausalLM\n",
        "from sklearn.linear_model import LogisticRegression\n",
        "\n",
        "# Let's just try IMDB for simplicity\n",
        "data = load_dataset(\"amazon_polarity\")[\"test\"]\n",
        "\n",
        "# Here are a few different model options you can play around with:\n",
        "model_name = \"deberta\"\n",
        "# model_name = \"gpt-j\"\n",
        "# model_name = \"t5\"\n",
        "\n",
        "# if you want to cache the model weights somewhere, you can specify that here\n",
        "cache_dir = None\n",
        "\n",
        "if model_name == \"deberta\":\n",
        "    model_type = \"encoder\"\n",
        "    tokenizer = AutoTokenizer.from_pretrained(\"microsoft/deberta-v2-xxlarge\", cache_dir=cache_dir)\n",
        "    model = AutoModelForMaskedLM.from_pretrained(\"microsoft/deberta-v2-xxlarge\", cache_dir=cache_dir)\n",
        "    model.cuda()\n",
        "elif model_name == \"gpt-j\":\n",
        "    model_type = \"decoder\"\n",
        "    tokenizer = AutoTokenizer.from_pretrained(\"EleutherAI/gpt-j-6B\", cache_dir=cache_dir)\n",
        "    model = AutoModelForCausalLM.from_pretrained(\"EleutherAI/gpt-j-6B\", cache_dir=cache_dir)\n",
        "    model.cuda()\n",
        "elif model_name == \"t5\":\n",
        "    model_type = \"encoder_decoder\"\n",
        "    tokenizer = AutoTokenizer.from_pretrained(\"t5-11b\", cache_dir=cache_dir)\n",
        "    model = AutoModelForSeq2SeqLM.from_pretrained(\"t5-11b\", cache_dir=cache_dir)\n",
        "    model.parallelize()  # T5 is big enough that we may need to run it on multiple GPUs\n",
        "else:\n",
        "    print(\"Not implemented!\")"
      ]
    },
    {
      "cell_type": "code",
      "execution_count": null,
      "metadata": {
        "id": "C4TxoDCqTfDo"
      },
      "outputs": [],
      "source": [
        "truthful_qa = load_dataset(\"truthful_qa\", \"generation\")\n",
        "truthful_qa"
      ]
    },
    {
      "cell_type": "code",
      "execution_count": null,
      "metadata": {
        "id": "3dZinNNs-o9p"
      },
      "outputs": [],
      "source": [
        "# understanding the number of samples made available to us\n",
        "# data_amazon_polarity = load_dataset(\"amazon_polarity\")[\"train\"]\n",
        "# data_amazon_polarity"
      ]
    },
    {
      "cell_type": "code",
      "execution_count": null,
      "metadata": {
        "id": "jbTit9aLGxRg"
      },
      "outputs": [],
      "source": [
        "i = 0\n",
        "ind = 0\n",
        "select = []\n",
        "while ind < 1000:\n",
        "    if len(tokenizer(data[ind][\"content\"])) < 200:\n",
        "        select.append(i)\n",
        "        ind += 1\n",
        "    i += 1"
      ]
    },
    {
      "cell_type": "code",
      "execution_count": null,
      "metadata": {
        "id": "spNmTTW2HGjj"
      },
      "outputs": [],
      "source": [
        "data = data.select(select)\n",
        "data"
      ]
    },
    {
      "cell_type": "markdown",
      "metadata": {
        "id": "gxQTCBWo1oB3"
      },
      "source": [
        "## First let's write code for extracting hidden states given a model and text. \n",
        "How we do this exactly will depend on the type of model."
      ]
    },
    {
      "cell_type": "code",
      "execution_count": null,
      "metadata": {
        "id": "yNFzAR_11znL"
      },
      "outputs": [],
      "source": [
        "def get_encoder_hidden_states(model, tokenizer, input_text, layer=-1):\n",
        "    \"\"\"\n",
        "    Given an encoder model and some text, gets the encoder hidden states (in a given layer, by default the last) \n",
        "    on that input text (where the full text is given to the encoder).\n",
        "\n",
        "    Returns a numpy array of shape (hidden_dim,)\n",
        "    \"\"\"\n",
        "    # tokenize\n",
        "    encoder_text_ids = tokenizer(input_text, truncation=True, return_tensors=\"pt\").input_ids.to(model.device)\n",
        "\n",
        "    # forward pass\n",
        "    with torch.no_grad():\n",
        "        output = model(encoder_text_ids, output_hidden_states=True)\n",
        "\n",
        "    # get the appropriate hidden states\n",
        "    hs_tuple = output[\"hidden_states\"]\n",
        "    \n",
        "    hs = hs_tuple[layer][0, -1].detach().cpu().numpy()\n",
        "\n",
        "    return hs\n",
        "\n",
        "def get_encoder_decoder_hidden_states(model, tokenizer, input_text, layer=-1):\n",
        "    \"\"\"\n",
        "    Given an encoder-decoder model and some text, gets the encoder hidden states (in a given layer, by default the last) \n",
        "    on that input text (where the full text is given to the encoder).\n",
        "\n",
        "    Returns a numpy array of shape (hidden_dim,)\n",
        "    \"\"\"\n",
        "    # tokenize\n",
        "    encoder_text_ids = tokenizer(input_text, return_tensors=\"pt\").input_ids.to(model.device)\n",
        "    decoder_text_ids = tokenizer(\"\", return_tensors=\"pt\").input_ids.to(model.device)\n",
        "\n",
        "    # forward pass\n",
        "    with torch.no_grad():\n",
        "        output = model(encoder_text_ids, decoder_input_ids=decoder_text_ids, output_hidden_states=True)\n",
        "\n",
        "    # get the appropriate hidden states\n",
        "    hs_tuple = output[\"encoder_hidden_states\"]\n",
        "    hs = hs_tuple[layer][0, -1].detach().cpu().numpy()\n",
        "\n",
        "    return hs\n",
        "\n",
        "def get_decoder_hidden_states(model, tokenizer, input_text, layer=-1):\n",
        "    \"\"\"\n",
        "    Given a decoder model and some text, gets the hidden states (in a given layer, by default the last) on that input text\n",
        "\n",
        "    Returns a numpy array of shape (hidden_dim,)\n",
        "    \"\"\"\n",
        "    # tokenize (adding the EOS token this time)\n",
        "    input_ids = tokenizer(input_text + tokenizer.eos_token, return_tensors=\"pt\").input_ids.to(model.device)\n",
        "\n",
        "    # forward pass\n",
        "    with torch.no_grad():\n",
        "        output = model(input_ids, output_hidden_states=True)\n",
        "\n",
        "    # get the last layer, last token hidden states\n",
        "    hs_tuple = output[\"hidden_states\"]\n",
        "    hs = hs_tuple[layer][0, -1].detach().cpu().numpy()\n",
        "\n",
        "    return hs\n",
        "\n",
        "def get_hidden_states(model, tokenizer, input_text, layer=-1, model_type=\"encoder\"):\n",
        "    fn = {\"encoder\": get_encoder_hidden_states, \"encoder_decoder\": get_encoder_decoder_hidden_states,\n",
        "          \"decoder\": get_decoder_hidden_states}[model_type]\n",
        "\n",
        "    return fn(model, tokenizer, input_text, layer=layer)"
      ]
    },
    {
      "cell_type": "markdown",
      "metadata": {
        "id": "qarwouZ91718"
      },
      "source": [
        "## Now let's write code for formatting data and for getting all the hidden states.\n"
      ]
    },
    {
      "cell_type": "code",
      "execution_count": null,
      "metadata": {
        "id": "7Me6-wxq2C1O"
      },
      "outputs": [],
      "source": [
        "def format_imdb(text, label, format=3):\n",
        "    \"\"\"\n",
        "    Given an imdb example (\"text\") and corresponding label (0 for negative, or 1 for positive), \n",
        "    returns a zero-shot prompt for that example (which includes that label as the answer).\n",
        "    \n",
        "    (This is just one example of a simple, manually created prompt.)\n",
        "\n",
        "    format: int, a code that tracks the format style we want to use\n",
        "    \"\"\"\n",
        "    labels = [\"negative\", \"positive\"]\n",
        "    if format == 1:\n",
        "      return f\"Consider the following example: “‘ {text} ”’ Between {labels[0]} and {labels[1]}, the sentiment of this example is {labels[label]}\\n\"\n",
        "    elif format == 2:\n",
        "      return f\"Q: Is the sentiment of \\\"{text}\\\" {labels[0]} or {labels[1]}? A: {labels[label]}\\n\"\n",
        "    elif format == 3:\n",
        "      return \"The following movie review expresses a \" + [\"negative\", \"positive\"][label] + \" sentiment:\\n\" + text\n",
        "    else:\n",
        "      raise Exception(\"Not a valid format code\")\n",
        "\n",
        "    # return f\"Consider the following example: “‘ {text} ”’ Between {labels[0]} and {labels[1]}, the sentiment of this example is {labels[label]}\\n\"\n",
        "    # return f\"Q: Is the sentiment of \\\"{text}\\\" {labels[0]} or {labels[1]}? A: {labels[label]}\\n\"\n",
        "    # return \"The following movie review expresses a \" + [\"negative\", \"positive\"][label] + \" sentiment:\\n\" + text\n",
        "\n",
        "\n",
        "def format_amazon_polarity(text, label, format=1):\n",
        "  labels = [\"negative\", \"positive\"]\n",
        "  return f\"Consider the following example: “‘ {text} ”’ Between {labels[0]} and {labels[1]}, the sentiment of this example is {labels[label]}\\n\"\n",
        "\n",
        "def format_amazon_polarity_and(text1, text2, label, format=1):\n",
        "  labels = [\"partly negative\", \"completely positive\"]\n",
        "  return f\"Consider the following example: “‘ {text1}. {text2} ”’ Between {labels[0]} and {labels[1]}, the sentiment of this example is {labels[label]}\\n\"\n",
        "  # return \"The following movie review expresses a \" + [\"negative\", \"positive\"][label] + \" sentiment:\\n\" + text\n",
        "  # return f\"Each of the following two examples has either positive or negative sentiment. Example 1: “‘ {text1} ”’. Example 2: “‘ {text2} ”’. Q: Do BOTH of these examples have positive sentiment? {labels[label]}\\n\"\n",
        "  # Now, consider the statement, “‘Both of these examples have positive sentiment.”’ Between true and false, this statement is {labels[label]}\"\n",
        "\n",
        "def format_amazon_polarity_or(text1, text2, label, format=1):\n",
        "  labels = [\"completely negative\", \"partly positive\"]\n",
        "  return f\"Consider the following example: “‘ {text1}. {text2} ”’ Between {labels[0]} and {labels[1]}, the sentiment of this example is {labels[label]}\\n\"\n",
        "  # labels = [\"no\", \"yes\"]\n",
        "  # return f\"Each of the following two examples has either positive or negative sentiment. Example 1: “‘ {text1} ”’. Example 2: “‘ {text2} ”’. Q: Do AT LEAST ONE of these examples have positive sentiment? {labels[label]}\\n\"\n",
        "\n",
        "def get_hidden_states_many_examples_and_or(model, tokenizer, data, model_type, indxs, dataset=\"amazon_polarity_and\", format=3): # indxs: [[0, 49], [953, 592], [555, 554]]\n",
        "    model.eval()\n",
        "    all_neg_hs, all_pos_hs, all_gt_labels = [], [], []\n",
        "\n",
        "    if dataset == \"amazon_polarity_and\":\n",
        "        format_func = format_amazon_polarity_and\n",
        "    else:\n",
        "        format_func = format_amazon_polarity_or\n",
        "\n",
        "    # loop\n",
        "    for ind in tqdm(indxs):\n",
        "        text1, true_label1 = data[ind[0].item()][\"content\"], data[ind[0].item()][\"label\"]\n",
        "        text2, true_label2 = data[ind[1].item()][\"content\"], data[ind[1].item()][\"label\"]\n",
        "\n",
        "        if dataset == \"amazon_polarity_and\":\n",
        "            if true_label1 == 1 and true_label2 == 1:\n",
        "                true_label = 1\n",
        "            else:\n",
        "                true_label = 0\n",
        "        else:\n",
        "            if true_label1 == 0 and true_label2 == 0:\n",
        "                true_label = 0\n",
        "            else:\n",
        "                true_label = 1\n",
        "                \n",
        "        # get hidden states\n",
        "        neg_hs = get_hidden_states(model, tokenizer, format_func(text1, text2, 0, format), model_type=model_type)\n",
        "        pos_hs = get_hidden_states(model, tokenizer, format_func(text1, text2, 1, format), model_type=model_type)\n",
        "\n",
        "        # collect\n",
        "        all_neg_hs.append(neg_hs)\n",
        "        all_pos_hs.append(pos_hs)\n",
        "        all_gt_labels.append(true_label)\n",
        "\n",
        "    all_neg_hs = np.stack(all_neg_hs)\n",
        "    all_pos_hs = np.stack(all_pos_hs)\n",
        "    all_gt_labels = np.stack(all_gt_labels)\n",
        "\n",
        "    return all_neg_hs, all_pos_hs, all_gt_labels\n",
        "\n",
        "\n",
        "def get_hidden_states_many_examples(model, tokenizer, data, model_type, dataset=\"amazon_polarity\", n=100, format=3):\n",
        "    \"\"\"\n",
        "    Given an encoder-decoder model, a list of data, computes the contrast hidden states on n random examples.\n",
        "    Returns numpy arrays of shape (n, hidden_dim) for each candidate label, along with a boolean numpy array of shape (n,)\n",
        "    with the ground truth labels\n",
        "    \n",
        "    This is deliberately simple so that it's easy to understand, rather than being optimized for efficiency\n",
        "    \"\"\"\n",
        "    # setup\n",
        "    model.eval()\n",
        "    all_neg_hs, all_pos_hs, all_gt_labels, all_text = [], [], [], []\n",
        "\n",
        "    if dataset == \"imdb\":\n",
        "      format_func = format_imdb\n",
        "    elif dataset == \"amazon_polarity\":\n",
        "      format_func = format_amazon_polarity\n",
        "    \n",
        "    # loop\n",
        "    for _ in tqdm(range(n)):\n",
        "        # for simplicity, sample a random example until we find one that's a reasonable length\n",
        "        # (most examples should be a reasonable length, so this is just to make sure)\n",
        "        while True:\n",
        "            idx = np.random.randint(len(data))\n",
        "            if dataset == \"imdb\":\n",
        "              text, true_label = data[idx][\"text\"], data[idx][\"label\"]\n",
        "            elif dataset == \"amazon_polarity\":\n",
        "              text, true_label = data[idx][\"content\"], data[idx][\"label\"]\n",
        "            # the actual formatted input will be longer, so include a bit of a marign\n",
        "            if len(tokenizer(text)) < 400:  \n",
        "                break\n",
        "                \n",
        "        # get hidden states\n",
        "        neg_hs = get_hidden_states(model, tokenizer, format_func(text, 0, format), model_type=model_type)\n",
        "        pos_hs = get_hidden_states(model, tokenizer, format_func(text, 1, format), model_type=model_type)\n",
        "\n",
        "        # collect\n",
        "        all_neg_hs.append(neg_hs)\n",
        "        all_pos_hs.append(pos_hs)\n",
        "        all_gt_labels.append(true_label)\n",
        "        all_text.append(text)\n",
        "\n",
        "    all_neg_hs = np.stack(all_neg_hs)\n",
        "    all_pos_hs = np.stack(all_pos_hs)\n",
        "    all_gt_labels = np.stack(all_gt_labels)\n",
        "    all_text = np.stack(all_text)\n",
        "\n",
        "    return all_neg_hs, all_pos_hs, all_gt_labels, all_text"
      ]
    },
    {
      "cell_type": "code",
      "execution_count": null,
      "metadata": {
        "id": "KUSWZPBe2JxY"
      },
      "outputs": [],
      "source": [
        "# neg_hs, pos_hs, y, data_sample = get_hidden_states_many_examples(model, tokenizer, data, model_type, n=200)"
      ]
    },
    {
      "cell_type": "code",
      "execution_count": null,
      "metadata": {
        "id": "uyBv6eDxp7lg"
      },
      "outputs": [],
      "source": [
        "# neg_amazon_polarity, pos_amazon_polarity, y_amazon_polarity = get_hidden_states_many_examples(model, tokenizer, data_amazon_polarity, model_type, \"amazon_polarity\", 100)\n",
        "# neg_imdb, pos_imdb, y_imdb = get_hidden_states_many_examples(model, tokenizer, data_imdb, model_type, \"imdb\", 100)"
      ]
    },
    {
      "cell_type": "code",
      "execution_count": null,
      "metadata": {
        "id": "nqllJ8titkXB"
      },
      "outputs": [],
      "source": [
        "# def train_test_split(neg_hs, pos_hs, y):\n",
        "#   n = len(y)\n",
        "#   neg_hs_train, neg_hs_test = neg_hs[:n//2], neg_hs[n//2:]\n",
        "#   pos_hs_train, pos_hs_test = pos_hs[:n//2], pos_hs[n//2:]\n",
        "#   y_train, y_test = y[:n//2], y[n//2:]\n",
        "#   return neg_hs_train, neg_hs_test, pos_hs_train, pos_hs_test, y_train, y_test"
      ]
    },
    {
      "cell_type": "code",
      "execution_count": null,
      "metadata": {
        "id": "XWJmqgJluJWC"
      },
      "outputs": [],
      "source": [
        "# neg_hs_train_amazon_polarity, neg_hs_test_amazon_polarity, pos_hs_train_amazon_polarity, pos_hs_test_amazon_polarity, y_train_amazon_polarity, y_test_amazon_polarity = train_test_split(neg_amazon_polarity, pos_amazon_polarity, y_amazon_polarity)\n",
        "# neg_hs_train_imdb, neg_hs_test_imdb, pos_hs_train_imdb, pos_hs_test_imdb, y_train_imdb, y_test_imdb = train_test_split(neg_imdb, pos_imdb, y_imdb)"
      ]
    },
    {
      "cell_type": "markdown",
      "metadata": {
        "id": "whjJfOe82OjH"
      },
      "source": [
        "## Let's verify that the model's representations are good\n",
        "\n",
        "Before trying CCS, let's make sure there exists a direction that classifies examples as true vs false with high accuracy; if logistic regression accuracy is bad, there's no hope of CCS doing well.\n"
      ]
    },
    {
      "cell_type": "code",
      "execution_count": null,
      "metadata": {
        "id": "pWMGXJMf2Vab"
      },
      "outputs": [],
      "source": [
        "# # let's create a simple 50/50 train split (the data is already randomized)\n",
        "# n = len(y)\n",
        "# neg_hs_train, neg_hs_test = neg_hs[:n//2], neg_hs[n//2:]\n",
        "# pos_hs_train, pos_hs_test = pos_hs[:n//2], pos_hs[n//2:]\n",
        "# y_train, y_test = y[:n//2], y[n//2:]\n",
        "\n",
        "# # for simplicity we can just take the difference between positive and negative hidden states\n",
        "# # (concatenating also works fine)\n",
        "# x_train = neg_hs_train - pos_hs_train\n",
        "# x_test = neg_hs_test - pos_hs_test\n",
        "\n",
        "# lr = LogisticRegression(class_weight=\"balanced\")\n",
        "# lr.fit(x_train, y_train)\n",
        "# lr_pred = lr_pred = lr.predict(x_test)\n",
        "# print(\"Logistic regression accuracy: {}\".format(lr.score(x_test, y_test)))"
      ]
    },
    {
      "cell_type": "markdown",
      "metadata": {
        "id": "FSgi24HA2bO8"
      },
      "source": [
        "## Now let's try CCS"
      ]
    },
    {
      "cell_type": "code",
      "execution_count": null,
      "metadata": {
        "id": "2hkchmMC2pxZ"
      },
      "outputs": [],
      "source": [
        "class MLPProbe(nn.Module):\n",
        "    def __init__(self, d):\n",
        "        super().__init__()\n",
        "        self.linear1 = nn.Linear(d, 100)\n",
        "        self.linear2 = nn.Linear(100, 1)\n",
        "\n",
        "    def forward(self, x):\n",
        "        h = F.relu(self.linear1(x))\n",
        "        o = self.linear2(h)\n",
        "        return torch.sigmoid(o)\n",
        "\n",
        "class CCS(object):\n",
        "    def __init__(self, x0, x1, nepochs=5000, ntries=20, lr=1e-3, batch_size=-1, \n",
        "                 verbose=False, device=\"cuda\", linear=True, weight_decay=0.01, var_normalize=False):\n",
        "        # data\n",
        "        self.var_normalize = var_normalize\n",
        "        self.x0 = self.normalize(x0)\n",
        "        self.x1 = self.normalize(x1)\n",
        "        self.d = self.x0.shape[-1]\n",
        "\n",
        "        # training\n",
        "        self.nepochs = nepochs\n",
        "        self.ntries = ntries\n",
        "        self.lr = lr\n",
        "        self.verbose = verbose\n",
        "        self.device = device\n",
        "        self.batch_size = batch_size\n",
        "        self.weight_decay = weight_decay\n",
        "        \n",
        "        # probe\n",
        "        self.linear = linear\n",
        "        # self.probe = self.initialize_probe()\n",
        "        self.initialize_probe()\n",
        "        self.best_probe = copy.deepcopy(self.probe)\n",
        "\n",
        "        \n",
        "    def initialize_probe(self):\n",
        "      if self.linear:\n",
        "        self.probe = nn.Sequential(nn.Linear(self.d, 1), nn.Sigmoid())\n",
        "      else:\n",
        "        self.probe = MLPProbe(self.d)\n",
        "      self.probe.to(self.device)    \n",
        "\n",
        "\n",
        "    def normalize(self, x):\n",
        "        \"\"\"\n",
        "        Mean-normalizes the data x (of shape (n, d))\n",
        "        If self.var_normalize, also divides by the standard deviation\n",
        "        \"\"\"\n",
        "        normalized_x = x - x.mean(axis=0, keepdims=True)\n",
        "        if self.var_normalize:\n",
        "            normalized_x /= normalized_x.std(axis=0, keepdims=True)\n",
        "\n",
        "        return normalized_x\n",
        "\n",
        "        \n",
        "    def get_tensor_data(self):\n",
        "        \"\"\"\n",
        "        Returns x0, x1 as appropriate tensors (rather than np arrays)\n",
        "        \"\"\"\n",
        "        x0 = torch.tensor(self.x0, dtype=torch.float, requires_grad=False, device=self.device)\n",
        "        x1 = torch.tensor(self.x1, dtype=torch.float, requires_grad=False, device=self.device)\n",
        "        return x0, x1\n",
        "    \n",
        "\n",
        "    def get_loss(self, p0, p1):\n",
        "        \"\"\"\n",
        "        Returns the CCS loss for two probabilities each of shape (n,1) or (n,)\n",
        "        \"\"\"\n",
        "        informative_loss = 3 * (torch.min(p0, p1)**2).mean(0)\n",
        "        consistent_loss = ((p0 - (1-p1))**2).mean(0)\n",
        "        return informative_loss + consistent_loss\n",
        "\n",
        "\n",
        "    def get_acc(self, x0_test, x1_test, y_test, conj=False):\n",
        "        \"\"\"\n",
        "        Computes accuracy for the current parameters on the given test inputs\n",
        "        \"\"\"\n",
        "        x0 = torch.tensor(self.normalize(x0_test), dtype=torch.float, requires_grad=False, device=self.device)\n",
        "        x1 = torch.tensor(self.normalize(x1_test), dtype=torch.float, requires_grad=False, device=self.device)\n",
        "        with torch.no_grad():\n",
        "            p0, p1 = self.best_probe(x0), self.best_probe(x1)\n",
        "        avg_confidence = 0.5*(p0 + (1-p1))\n",
        "        predictions = (avg_confidence.detach().cpu().numpy() < 0.5).astype(int)[:, 0]\n",
        "        acc = (predictions == y_test).mean()\n",
        "\n",
        "        if not conj:\n",
        "            return predictions, acc if acc > 1 - acc else predictions == False, 1 - acc\n",
        "\n",
        "        return predictions, acc\n",
        "\n",
        "        \n",
        "    def train(self):\n",
        "        \"\"\"\n",
        "        Does a single training run of nepochs epochs\n",
        "        \"\"\"\n",
        "        x0, x1 = self.get_tensor_data()\n",
        "        permutation = torch.randperm(len(x0))\n",
        "        x0, x1 = x0[permutation], x1[permutation]\n",
        "        \n",
        "        # set up optimizer\n",
        "        optimizer = torch.optim.AdamW(self.probe.parameters(), lr=self.lr, weight_decay=self.weight_decay)\n",
        "        \n",
        "        batch_size = len(x0) if self.batch_size == -1 else self.batch_size\n",
        "        nbatches = len(x0) // batch_size\n",
        "\n",
        "        all_losses = []\n",
        "        # Start training (full batch)\n",
        "        for epoch in range(self.nepochs):\n",
        "            epoch_losses = []\n",
        "            for j in range(nbatches):\n",
        "                x0_batch = x0[j*batch_size:(j+1)*batch_size]\n",
        "                x1_batch = x1[j*batch_size:(j+1)*batch_size]\n",
        "            \n",
        "                # probe\n",
        "                p0, p1 = self.probe(x0_batch), self.probe(x1_batch)\n",
        "\n",
        "                # get the corresponding loss\n",
        "                loss = self.get_loss(p0, p1)\n",
        "\n",
        "                # update the parameters\n",
        "                optimizer.zero_grad()\n",
        "                loss.backward()\n",
        "                optimizer.step()\n",
        "\n",
        "                epoch_losses.append(loss.detach().cpu().item())\n",
        "            all_losses.append(sum(epoch_losses) / len(epoch_losses))\n",
        "\n",
        "        return loss.detach().cpu().item(), all_losses\n",
        "    \n",
        "    def repeated_train(self):\n",
        "        best_loss = np.inf\n",
        "        best_all_losses = []\n",
        "        for train_num in range(self.ntries):\n",
        "            self.initialize_probe()\n",
        "            loss, all_losses = self.train()\n",
        "            if loss < best_loss:\n",
        "                self.best_probe = copy.deepcopy(self.probe)\n",
        "                best_loss = loss\n",
        "                best_all_losses = all_losses\n",
        "\n",
        "        return best_loss, best_all_losses"
      ]
    },
    {
      "cell_type": "code",
      "execution_count": null,
      "metadata": {
        "id": "tgwZ97oj3U7I"
      },
      "outputs": [],
      "source": [
        "# # Train CCS without any labels\n",
        "# ccs = CCS(neg_hs_train, pos_hs_train)\n",
        "# ccs.repeated_train()\n",
        "\n",
        "# # Evaluate\n",
        "# ccs_pred, ccs_acc = ccs.get_acc(neg_hs_test, pos_hs_test, y_test)\n",
        "# print(\"CCS accuracy: {}\".format(ccs_acc))"
      ]
    },
    {
      "cell_type": "code",
      "execution_count": null,
      "metadata": {
        "id": "aDbHZgMGb6OS"
      },
      "outputs": [],
      "source": [
        "# # A baseline of a random linear probe\n",
        "# random_ccs = CCS(neg_hs_train, pos_hs_train)\n",
        "# ccs_random_pred, ccs_acc = random_ccs.get_acc(neg_hs_test, pos_hs_test, y_test)\n",
        "# print(\"Random accuracy: {}\".format(ccs_acc))"
      ]
    },
    {
      "cell_type": "code",
      "execution_count": null,
      "metadata": {
        "id": "FzJrIUtQKXs7"
      },
      "outputs": [],
      "source": [
        "# # Print first 20 predictions for ccs_pred, lr_pred, and y_test. Also, print overlap percent between ccs_pred and lr_pred.\n",
        "# print(\"Random predictions: \\t{}\".format(ccs_random_pred[:30]))\n",
        "# print(\"CCS predictions: \\t{}\".format(ccs_pred[:30]))\n",
        "# print(\"LR predictions: \\t{}\".format(lr_pred[:30]))\n",
        "# print(\"True labels: \\t\\t{}\".format(y_test[:30]))\n",
        "# print()\n",
        "# print(\"CCS and logistic regression overlap: {}\".format(np.mean(ccs_pred == lr_pred)))\n",
        "# print(\"CCS and random overlap: {}\".format(np.mean(ccs_pred != ccs_random_pred)))\n",
        "# print(\"Logistic regression and random overlap: {}\".format(np.mean(lr_pred != ccs_random_pred)))"
      ]
    },
    {
      "cell_type": "code",
      "execution_count": null,
      "metadata": {
        "id": "oZMGYMlcNQV-"
      },
      "outputs": [],
      "source": [
        "# Print the content of examples\n",
        "# for i in range(10):\n",
        "#   print(\"---\", i,  \"--- {}\".format([\":( - Negative\", \":) + Positive\"][y[i]]))\n",
        "#   print(\"{}\".format(data_sample[i]))\n",
        "\n",
        "# format_amazon_polarity_and(data_sample[0], data_sample[1], 0)"
      ]
    },
    {
      "cell_type": "markdown",
      "metadata": {
        "id": "jLNm_ei516PU"
      },
      "source": [
        "## Use conjugacy to test whether we should flip our predictions\n",
        "If we predict different labels for x_0 and x_1, and we test \"x_0 AND x_1\" and we get the same predicted label as x_0, then x_0 = \"False.\""
      ]
    },
    {
      "cell_type": "code",
      "execution_count": null,
      "metadata": {
        "id": "1lQ5NsmE3HiA"
      },
      "outputs": [],
      "source": [
        "# Get 1000 pairs of \"true\" + \"false\" / \"false\" + \"true\" indices\n",
        "# To-do: we need T AND F, T AND T, F AND F, T, and F. Also could add the 3 types of ORs, optionally. 100 of each? We need to shuffle but keep track of each category.\n",
        "# Then train our models!! The point is to never use the labels...\n",
        "# We train our model, and it won't get everything right. But it'll tend to classify T AND F as the same label we give F, hopefully. \n",
        "# So, we compare how similar each list is to each other...\n",
        "# zero_indices = np.nonzero(ccs_pred == False)[0]\n",
        "# one_indices = np.nonzero(ccs_pred)[0]\n",
        "\n",
        "# zeros_and = np.random.choice(zero_indices, 100)\n",
        "# ones_and = np.random.choice(one_indices, 100)\n",
        "# indxs = np.stack(zeros_chosen, ones_chosen], axis=1) # 100 x 2\n",
        "# for i in range(len(indxs)):\n",
        "#     if np.random.randint(0, 2) == 0:\n",
        "#         temp = indxs[i][0]\n",
        "#         indxs[i][0] = indxs[i][1]\n",
        "#         indxs[i][1] = temp"
      ]
    },
    {
      "cell_type": "code",
      "execution_count": null,
      "metadata": {
        "id": "ZgWv_J0cUq8V"
      },
      "outputs": [],
      "source": [
        "# rand_indxs_1 = np.random.randint(0, 1000, size=500)\n",
        "# rand_indxs_2 = np.random.randint(0, 1000, size=500)\n",
        "# rand_indxs = np.stack([rand_indxs_1, rand_indxs_2], axis=1)\n",
        "and_or_indx = np.random.choice(np.arange(1500), size=1500, replace=False).tolist()"
      ]
    },
    {
      "cell_type": "code",
      "execution_count": null,
      "metadata": {
        "id": "F1-7OPDlohKS"
      },
      "outputs": [],
      "source": [
        "ao_i = np.asarray(and_or_indx[750:])\n",
        "and_indx_rev = np.nonzero(ao_i < 500)[0].tolist()\n",
        "or_indx_rev = np.nonzero(ao_i[(ao_i >= 500) & (ao_i < 1000)])[0].tolist()\n",
        "plain_indx_rev =  np.nonzero(ao_i >= 1000)[0].tolist()"
      ]
    },
    {
      "cell_type": "code",
      "execution_count": null,
      "metadata": {
        "colab": {
          "base_uri": "https://localhost:8080/"
        },
        "id": "SRQv6IiH2tVe",
        "outputId": "cbd63251-fa5d-46d0-8d5e-9c9b1ecdd681"
      },
      "outputs": [
        {
          "name": "stderr",
          "output_type": "stream",
          "text": [
            "100%|██████████| 500/500 [06:35<00:00,  1.26it/s]\n"
          ]
        }
      ],
      "source": [
        "false_hs_and, true_hs_and, y_ft_and = get_hidden_states_many_examples_and_or(model, tokenizer, data, model_type, rand_indxs, dataset=\"amazon_polarity_and\")"
      ]
    },
    {
      "cell_type": "code",
      "execution_count": null,
      "metadata": {
        "colab": {
          "base_uri": "https://localhost:8080/"
        },
        "id": "Ocf1OumPKZl1",
        "outputId": "8de0bc1b-6db4-4450-ffee-3bd8d1595d28"
      },
      "outputs": [
        {
          "name": "stderr",
          "output_type": "stream",
          "text": [
            "100%|██████████| 500/500 [06:34<00:00,  1.27it/s]\n"
          ]
        }
      ],
      "source": [
        "false_hs_or, true_hs_or, y_ft_or = get_hidden_states_many_examples_and_or(model, tokenizer, data, model_type, rand_indxs, dataset=\"amazon_polarity_or\")"
      ]
    },
    {
      "cell_type": "code",
      "execution_count": null,
      "metadata": {
        "colab": {
          "base_uri": "https://localhost:8080/"
        },
        "id": "lvcMg75DSqRx",
        "outputId": "7851f485-912d-43db-d200-1edcd3cc55b3"
      },
      "outputs": [
        {
          "name": "stderr",
          "output_type": "stream",
          "text": [
            "100%|██████████| 500/500 [04:20<00:00,  1.92it/s]\n"
          ]
        }
      ],
      "source": [
        "neg_hs, pos_hs, y, data_sample = get_hidden_states_many_examples(model, tokenizer, data, model_type, n=500)"
      ]
    },
    {
      "cell_type": "code",
      "execution_count": null,
      "metadata": {
        "id": "Cj0FPSbNWB2n"
      },
      "outputs": [],
      "source": [
        "false_hs = np.concatenate([false_hs_and, false_hs_or, neg_hs])[and_or_indx]\n",
        "true_hs = np.concatenate([true_hs_and, true_hs_or, pos_hs])[and_or_indx]\n",
        "y_ft = np.concatenate([y_ft_and, y_ft_or, y])[and_or_indx]"
      ]
    },
    {
      "cell_type": "code",
      "execution_count": null,
      "metadata": {
        "id": "qWWDJxjE4v0d"
      },
      "outputs": [],
      "source": [
        "# false_hs, true_hs, y_ft = false_hs_and, true_hs_and, y_ft_and"
      ]
    },
    {
      "cell_type": "code",
      "execution_count": null,
      "metadata": {
        "colab": {
          "base_uri": "https://localhost:8080/"
        },
        "id": "v4EKa7hcaXC5",
        "outputId": "a3e39c11-084f-4aff-f28c-be50813783ea"
      },
      "outputs": [
        {
          "name": "stdout",
          "output_type": "stream",
          "text": [
            "Logistic regression accuracy: 0.876\n"
          ]
        }
      ],
      "source": [
        "# let's create a simple 50/50 train split (the data is already randomized)\n",
        "n = len(y_ft)\n",
        "false_hs_train, false_hs_test = false_hs[:n//2], false_hs[n//2:]\n",
        "true_hs_train, true_hs_test = true_hs[:n//2], true_hs[n//2:]\n",
        "y_train_ft, y_test_ft = y_ft[:n//2], y_ft[n//2:]\n",
        "\n",
        "# for simplicity we can just take the difference between positive and negative hidden states\n",
        "# (concatenating also works fine)\n",
        "x_train_ft = false_hs_train - true_hs_train\n",
        "x_test_ft = false_hs_test - true_hs_test\n",
        "\n",
        "# lr_ft = LogisticRegression(class_weight={0: 1.0, 1: 3.0})\n",
        "lr_ft = LogisticRegression(class_weight=\"balanced\")\n",
        "lr_ft.fit(x_train_ft, y_train_ft)\n",
        "lr_pred_ft = lr_ft.predict(x_test_ft)\n",
        "print(\"Logistic regression accuracy: {}\".format(lr_ft.score(x_test_ft, y_test_ft)))"
      ]
    },
    {
      "cell_type": "code",
      "execution_count": null,
      "metadata": {
        "colab": {
          "base_uri": "https://localhost:8080/",
          "height": 353
        },
        "id": "TGBJmj6yzYHD",
        "outputId": "19a50877-c974-43d3-a1e9-54e50d6de2e5"
      },
      "outputs": [
        {
          "data": {
            "text/plain": [
              "[<matplotlib.lines.Line2D at 0x7f3fac2fadc0>]"
            ]
          },
          "execution_count": 111,
          "metadata": {},
          "output_type": "execute_result"
        },
        {
          "data": {
            "image/png": "[encoded data removed]",
            "text/plain": [
              "<Figure size 300x300 with 1 Axes>"
            ]
          },
          "metadata": {},
          "output_type": "display_data"
        }
      ],
      "source": [
        "# Import pcss, project the points onto the first two principal components, plot graph\n",
        "from sklearn.decomposition import PCA\n",
        "from sklearn.preprocessing import StandardScaler\n",
        "import matplotlib.pyplot as plt\n",
        "import pandas as pd\n",
        "\n",
        "pca = PCA(n_components=2)\n",
        "principalComponents = pca.fit_transform(x_train_ft)\n",
        "principalDf = pd.DataFrame(data = principalComponents\n",
        "                , columns = ['principal component 1', 'principal component 2'])\n",
        "principalDf['label'] = y_train_ft\n",
        "principalDf['label'] = principalDf['label'].map({0:'negative', 1:'positive'})\n",
        "\n",
        "# Plot the graph\n",
        "fig = plt.figure(figsize = (3,3))\n",
        "ax = fig.add_subplot(1,1,1)\n",
        "ax.set_xlabel('Principal Component 1', fontsize = 10)\n",
        "ax.set_ylabel('Principal Component 2', fontsize = 10)\n",
        "ax.set_title('2 component PCA', fontsize = 15)\n",
        "targets = ['negative', 'positive']\n",
        "colors = ['r', 'g']\n",
        "for target, color in zip(targets,colors):\n",
        "    indicesToKeep = principalDf['label'] == target\n",
        "    ax.scatter(principalDf.loc[indicesToKeep, 'principal component 1']\n",
        "               , principalDf.loc[indicesToKeep, 'principal component 2']\n",
        "               , c = color\n",
        "               , s = 5)\n",
        "ax.legend(targets)\n",
        "ax.grid()\n",
        "lr_projected = pca.transform(lr_ft.coef_)\n",
        "ax.plot([-lr_projected[0][0], lr_projected[0][0]], [-lr_projected[0][1], lr_projected[0][1]], color='blue', linewidth=2)"
      ]
    },
    {
      "cell_type": "code",
      "execution_count": null,
      "metadata": {
        "colab": {
          "base_uri": "https://localhost:8080/"
        },
        "id": "WnY4UrU3ycOX",
        "outputId": "95095652-3d5c-42ef-8913-c9a94ff56617"
      },
      "outputs": [
        {
          "name": "stdout",
          "output_type": "stream",
          "text": [
            "Logistic regression accuracy and: 0.9\n",
            "0.12916666666666668\n",
            "Logistic regression accuracy or: 0.8735632183908046\n",
            "0.49808429118773945\n",
            "Logistic regression accuracy single: 0.8875502008032129\n",
            "0.5823293172690763\n"
          ]
        }
      ],
      "source": [
        "lr_pred_ft_and = lr_ft.predict(x_test_ft[and_indx_rev])\n",
        "print(\"Logistic regression accuracy and: {}\".format(lr_ft.score(x_test_ft[and_indx_rev], y_test_ft[and_indx_rev])))\n",
        "print(lr_pred_ft_and.mean())\n",
        "lr_pred_ft_or = lr_ft.predict(x_test_ft[or_indx_rev])\n",
        "print(\"Logistic regression accuracy or: {}\".format(lr_ft.score(x_test_ft[or_indx_rev], y_test_ft[or_indx_rev])))\n",
        "print(lr_pred_ft_or.mean())\n",
        "lr_pred_ft_plain = lr_ft.predict(x_test_ft[plain_indx_rev])\n",
        "print(\"Logistic regression accuracy single: {}\".format(lr_ft.score(x_test_ft[plain_indx_rev], y_test_ft[plain_indx_rev])))\n",
        "print(lr_pred_ft_plain.mean())"
      ]
    },
    {
      "cell_type": "code",
      "execution_count": null,
      "metadata": {
        "colab": {
          "base_uri": "https://localhost:8080/"
        },
        "id": "9rzuMBjtDFB2",
        "outputId": "2e743499-f5e8-49b9-ad54-ad2314214f3b"
      },
      "outputs": [
        {
          "name": "stdout",
          "output_type": "stream",
          "text": [
            "CCS test accuracy: 0.2986666666666667\n"
          ]
        }
      ],
      "source": [
        "# Train CCS without any labels\n",
        "ccs_ft = CCS(false_hs_train, true_hs_train)\n",
        "loss, all_losses = ccs_ft.repeated_train()\n",
        "\n",
        "# Evaluate\n",
        "ccs_pred_ft, ccs_acc_ft = ccs_ft.get_acc(false_hs_test, true_hs_test, y_test_ft, conj=True)\n",
        "print(\"CCS test accuracy: {}\".format(ccs_acc_ft))"
      ]
    },
    {
      "cell_type": "code",
      "execution_count": null,
      "metadata": {
        "colab": {
          "base_uri": "https://localhost:8080/",
          "height": 489
        },
        "id": "2dglrAjoaJWB",
        "outputId": "b1200dbb-9dc1-4481-ab7a-5cd81184397f"
      },
      "outputs": [
        {
          "data": {
            "image/png": "[encoded data removed]",
            "text/plain": [
              "<Figure size 500x500 with 1 Axes>"
            ]
          },
          "metadata": {},
          "output_type": "display_data"
        }
      ],
      "source": [
        "# Import pcss, project the points onto the first two principal components, plot graph\n",
        "from sklearn.decomposition import PCA\n",
        "from sklearn.preprocessing import StandardScaler\n",
        "import matplotlib.pyplot as plt\n",
        "import pandas as pd\n",
        "\n",
        "pca = PCA(n_components=2)\n",
        "principalComponents = pca.fit_transform(x_train_ft)\n",
        "principalDf = pd.DataFrame(data = principalComponents\n",
        "                , columns = ['principal component 1', 'principal component 2'])\n",
        "principalDf['label'] = y_train_ft\n",
        "principalDf['label'] = principalDf['label'].map({0:'negative', 1:'positive'})\n",
        "\n",
        "# Plot the graph\n",
        "fig = plt.figure(figsize = (5,5))\n",
        "ax = fig.add_subplot(1,1,1)\n",
        "ax.set_xlabel('Principal Component 1', fontsize = 10)\n",
        "ax.set_ylabel('Principal Component 2', fontsize = 10)\n",
        "ax.set_title('2 component PCA', fontsize = 15)\n",
        "targets = ['negative', 'positive']\n",
        "colors = ['r', 'g']\n",
        "for target, color in zip(targets,colors):\n",
        "    indicesToKeep = principalDf['label'] == target\n",
        "    ax.scatter(principalDf.loc[indicesToKeep, 'principal component 1']\n",
        "               , principalDf.loc[indicesToKeep, 'principal component 2']\n",
        "               , c = color\n",
        "               , s = 15)\n",
        "ax.legend(targets)\n",
        "ax.grid()\n",
        "lr_projected = pca.transform(lr_ft.coef_)\n",
        "ax.plot([-lr_projected[0][0], lr_projected[0][0]], [-lr_projected[0][1], lr_projected[0][1]], color='blue', linewidth=2)\n",
        "\n",
        "# Indicate CCS predictions on graph\n",
        "for i in range(len(ccs_pred_ft)):\n",
        "    if ccs_pred_ft[i] == 0:\n",
        "        ax.scatter(principalComponents[i, 0], principalComponents[i, 1], c='k', s=5)\n",
        "    else:\n",
        "        ax.scatter(principalComponents[i, 0], principalComponents[i, 1], c='w', s=5)"
      ]
    },
    {
      "cell_type": "code",
      "execution_count": null,
      "metadata": {
        "colab": {
          "base_uri": "https://localhost:8080/"
        },
        "id": "aXS22HQqgoSH",
        "outputId": "ab3b7987-9633-4854-e3ed-7a759ca964e3"
      },
      "outputs": [
        {
          "name": "stdout",
          "output_type": "stream",
          "text": [
            "CCS accuracy and: 0.3958333333333333\n",
            "0.475\n",
            "CCS accuracy or: 0.2796934865900383\n",
            "0.34099616858237547\n",
            "CCS accuracy plain: 0.37349397590361444\n",
            "0.5180722891566265\n"
          ]
        }
      ],
      "source": [
        "# ccs_pred_ft_and = ccs_ft.predict(x_test_ft[and_indx_rev])\n",
        "for s, indx_class in zip([\"and\", \"or\", \"plain\"], [and_indx_rev, or_indx_rev, plain_indx_rev]):\n",
        "    ccs_pred_ft, ccs_acc_ft = ccs_ft.get_acc(false_hs_test[indx_class], true_hs_test[indx_class], y_test_ft[indx_class], conj=True)\n",
        "    print(\"CCS accuracy {}: {}\".format(s, ccs_acc_ft))\n",
        "    print(ccs_pred_ft.mean())"
      ]
    },
    {
      "cell_type": "code",
      "execution_count": null,
      "metadata": {
        "colab": {
          "base_uri": "https://localhost:8080/"
        },
        "id": "83CP07O1efIb",
        "outputId": "03c9f675-b2e2-4097-8fed-3adde1433279"
      },
      "outputs": [
        {
          "name": "stdout",
          "output_type": "stream",
          "text": [
            "CCS test accuracy: 0.7013333333333334\n"
          ]
        }
      ],
      "source": [
        "# Look at the ands and ors. The ors should predict more stuff is right than the ands. Ig this is not the case, flip it.\n",
        "ccs_pred_ft_and, ccs_acc_ft_and = ccs_ft.get_acc(false_hs_test[and_indx_rev], true_hs_test[and_indx_rev], y_test_ft[and_indx_rev], conj=True)\n",
        "ccs_pred_ft_or, ccs_acc_ft_or = ccs_ft.get_acc(false_hs_test[or_indx_rev], true_hs_test[or_indx_rev], y_test_ft[or_indx_rev], conj=True)\n",
        "\n",
        "if ccs_pred_ft_and.mean() > ccs_pred_ft_or.mean(): # then flip all of the predictions!\n",
        "    ccs_pred_ft, ccs_acc_ft = ccs_ft.get_acc(false_hs_test, true_hs_test, y_test_ft, conj=True)\n",
        "    ccs_pred_ft = ccs_pred_ft.dtype.type(ccs_pred_ft == 0)\n",
        "    ccs_acc_ft = 1 - ccs_acc_ft\n",
        "print(\"CCS test accuracy: {}\".format(ccs_acc_ft))"
      ]
    },
    {
      "cell_type": "code",
      "execution_count": null,
      "metadata": {
        "colab": {
          "base_uri": "https://localhost:8080/",
          "height": 351
        },
        "id": "FBglh8f3DIqq",
        "outputId": "ae8c2aa3-2ab4-49f8-9c4a-7afd92a8326d"
      },
      "outputs": [
        {
          "data": {
            "image/png": "[encoded data removed]",
            "text/plain": [
              "<Figure size 300x300 with 1 Axes>"
            ]
          },
          "metadata": {},
          "output_type": "display_data"
        },
        {
          "name": "stdout",
          "output_type": "stream",
          "text": [
            "0.00034545117523521185\n"
          ]
        }
      ],
      "source": [
        "plt.figure(figsize=(3,3))\n",
        "plt.plot(all_losses)\n",
        "plt.title(\"CCS loss vs epochs. Loss: {:.3f}\".format(loss))\n",
        "plt.xlabel(\"Epoch\")\n",
        "plt.ylabel(\"Loss\")\n",
        "plt.show()\n",
        "print(loss)"
      ]
    },
    {
      "cell_type": "code",
      "execution_count": null,
      "metadata": {
        "colab": {
          "base_uri": "https://localhost:8080/"
        },
        "id": "fWORjuVVFkaO",
        "outputId": "e338348d-48c7-427e-c09b-84776c24e1fc"
      },
      "outputs": [
        {
          "name": "stdout",
          "output_type": "stream",
          "text": [
            "CCS test accuracy 1-1: 0.3\n",
            "CCS test accuracy 1-0: 0.25\n",
            "CCS test accuracy 0-1: 0.2833333333333333\n",
            "CCS test accuracy 0-0: 0.25757575757575757\n"
          ]
        }
      ],
      "source": [
        "# for i in range(250, 300):\n",
        "#     i1, i2 = rand_indxs[i]\n",
        "#     i1, i2 = i1.item(), i2.item()\n",
        "#     print(\"Item 1:\", data[i1][\"label\"], \"Item 2:\", data[i2][\"label\"], \" ---- \", \"Label:\", y_test_ft[i-250], \"Prediction:\", int(ccs_pred_ft[i-250]==0))\n",
        "one_one = [i for i, ind in enumerate(rand_indxs[250:]) if data[ind[0].item()][\"label\"] == 1 and data[ind[1].item()][\"label\"] == 1]\n",
        "one_zero = [i for i, ind in enumerate(rand_indxs[250:]) if data[ind[0].item()][\"label\"] == 1 and data[ind[1].item()][\"label\"] == 0]\n",
        "zero_one = [i for i, ind in enumerate(rand_indxs[250:]) if data[ind[0].item()][\"label\"] == 0 and data[ind[1].item()][\"label\"] == 1]\n",
        "zero_zero = [i for i, ind in enumerate(rand_indxs[250:]) if data[ind[0].item()][\"label\"] == 0 and data[ind[1].item()][\"label\"] == 0]\n",
        "\n",
        "for s, oz in zip([\"1-1\", \"1-0\", \"0-1\", \"0-0\"], [one_one, one_zero, zero_one, zero_zero]):\n",
        "    ccs_pred_ft_oz, ccs_acc_ft_oz = ccs_ft.get_acc(false_hs_test[oz], true_hs_test[oz], y_test_ft[oz], conj=True)\n",
        "    print(\"CCS test accuracy {}: {}\".format(s, ccs_acc_ft_oz))"
      ]
    },
    {
      "cell_type": "code",
      "execution_count": null,
      "metadata": {
        "colab": {
          "base_uri": "https://localhost:8080/",
          "height": 242
        },
        "id": "VUetL7pRxkZz",
        "outputId": "0f1ec0a3-2cb5-4ed0-8d92-beb0e6040ab2"
      },
      "outputs": [
        {
          "ename": "IndexError",
          "evalue": "ignored",
          "output_type": "error",
          "traceback": [
            "\u001b[0;31m---------------------------------------------------------------------------\u001b[0m",
            "\u001b[0;31mIndexError\u001b[0m                                Traceback (most recent call last)",
            "\u001b[0;32m<ipython-input-182-ecd1c41184ce>\u001b[0m in \u001b[0;36m<cell line: 1>\u001b[0;34m()\u001b[0m\n\u001b[0;32m----> 1\u001b[0;31m \u001b[0mccs_pred_ft_and\u001b[0m\u001b[0;34m,\u001b[0m \u001b[0mccs_acc_ft_and\u001b[0m \u001b[0;34m=\u001b[0m \u001b[0mccs_ft\u001b[0m\u001b[0;34m.\u001b[0m\u001b[0mget_acc\u001b[0m\u001b[0;34m(\u001b[0m\u001b[0mfalse_hs_test\u001b[0m\u001b[0;34m[\u001b[0m\u001b[0mand_indx_rev\u001b[0m\u001b[0;34m]\u001b[0m\u001b[0;34m,\u001b[0m \u001b[0mtrue_hs_test\u001b[0m\u001b[0;34m[\u001b[0m\u001b[0mand_indx_rev\u001b[0m\u001b[0;34m]\u001b[0m\u001b[0;34m,\u001b[0m \u001b[0my_test_ft\u001b[0m\u001b[0;34m[\u001b[0m\u001b[0mand_indx_rev\u001b[0m\u001b[0;34m]\u001b[0m\u001b[0;34m,\u001b[0m \u001b[0mconj\u001b[0m\u001b[0;34m=\u001b[0m\u001b[0;32mTrue\u001b[0m\u001b[0;34m)\u001b[0m\u001b[0;34m\u001b[0m\u001b[0;34m\u001b[0m\u001b[0m\n\u001b[0m\u001b[1;32m      2\u001b[0m \u001b[0mccs_pred_ft_or\u001b[0m\u001b[0;34m,\u001b[0m \u001b[0mccs_acc_ft_or\u001b[0m \u001b[0;34m=\u001b[0m \u001b[0mccs_ft\u001b[0m\u001b[0;34m.\u001b[0m\u001b[0mget_acc\u001b[0m\u001b[0;34m(\u001b[0m\u001b[0mfalse_hs_test\u001b[0m\u001b[0;34m[\u001b[0m\u001b[0mor_indx_rev\u001b[0m\u001b[0;34m]\u001b[0m\u001b[0;34m,\u001b[0m \u001b[0mtrue_hs_test\u001b[0m\u001b[0;34m[\u001b[0m\u001b[0mor_indx_rev\u001b[0m\u001b[0;34m]\u001b[0m\u001b[0;34m,\u001b[0m \u001b[0my_test_ft\u001b[0m\u001b[0;34m[\u001b[0m\u001b[0mor_indx_rev\u001b[0m\u001b[0;34m]\u001b[0m\u001b[0;34m,\u001b[0m \u001b[0mconj\u001b[0m\u001b[0;34m=\u001b[0m\u001b[0;32mTrue\u001b[0m\u001b[0;34m)\u001b[0m\u001b[0;34m\u001b[0m\u001b[0;34m\u001b[0m\u001b[0m\n\u001b[1;32m      3\u001b[0m \u001b[0mprint\u001b[0m\u001b[0;34m(\u001b[0m\u001b[0;34m\"CCS accuracy and: {}\"\u001b[0m\u001b[0;34m.\u001b[0m\u001b[0mformat\u001b[0m\u001b[0;34m(\u001b[0m\u001b[0mccs_acc_ft_and\u001b[0m\u001b[0;34m)\u001b[0m\u001b[0;34m)\u001b[0m\u001b[0;34m\u001b[0m\u001b[0;34m\u001b[0m\u001b[0m\n\u001b[1;32m      4\u001b[0m \u001b[0mprint\u001b[0m\u001b[0;34m(\u001b[0m\u001b[0;34m\"CCS accuracy or: {}\"\u001b[0m\u001b[0;34m.\u001b[0m\u001b[0mformat\u001b[0m\u001b[0;34m(\u001b[0m\u001b[0mccs_acc_ft_or\u001b[0m\u001b[0;34m)\u001b[0m\u001b[0;34m)\u001b[0m\u001b[0;34m\u001b[0m\u001b[0;34m\u001b[0m\u001b[0m\n\u001b[1;32m      5\u001b[0m \u001b[0mprint\u001b[0m\u001b[0;34m(\u001b[0m\u001b[0my_test_ftv\u001b[0m\u001b[0;34m.\u001b[0m\u001b[0mmean\u001b[0m\u001b[0;34m(\u001b[0m\u001b[0;34m)\u001b[0m\u001b[0;34m)\u001b[0m\u001b[0;34m\u001b[0m\u001b[0;34m\u001b[0m\u001b[0m\n",
            "\u001b[0;31mIndexError\u001b[0m: index 251 is out of bounds for axis 0 with size 250"
          ]
        }
      ],
      "source": [
        "ccs_pred_ft_and, ccs_acc_ft_and = ccs_ft.get_acc(false_hs_test[and_indx_rev], true_hs_test[and_indx_rev], y_test_ft[and_indx_rev], conj=True)\n",
        "ccs_pred_ft_or, ccs_acc_ft_or = ccs_ft.get_acc(false_hs_test[or_indx_rev], true_hs_test[or_indx_rev], y_test_ft[or_indx_rev], conj=True)\n",
        "print(\"CCS accuracy and: {}\".format(ccs_acc_ft_and))\n",
        "print(\"CCS accuracy or: {}\".format(ccs_acc_ft_or))\n",
        "print(y_test_ftv.mean())\n",
        "print(y_test_ft[or_indx_rev].mean())\n",
        "print(ccs_pred_ft_and.mean())\n",
        "print(ccs_pred_ft_or.mean())"
      ]
    },
    {
      "cell_type": "code",
      "execution_count": null,
      "metadata": {
        "colab": {
          "base_uri": "https://localhost:8080/"
        },
        "id": "yb_SynX_lOy6",
        "outputId": "b81c0e8f-416d-45bb-eb80-283ebba2482f"
      },
      "outputs": [
        {
          "name": "stdout",
          "output_type": "stream",
          "text": [
            "Random accuracy: 0.516\n"
          ]
        }
      ],
      "source": [
        "# # A baseline of a random linear probe\n",
        "random_ccs_ft = CCS(false_hs_train, true_hs_train)\n",
        "ccs_random_pred_ft, ccs_random_acc_ft = random_ccs_ft.get_acc(false_hs_test, true_hs_test, y_test_ft, conj=True)\n",
        "print(\"Random accuracy: {}\".format(ccs_random_acc_ft))"
      ]
    },
    {
      "cell_type": "code",
      "execution_count": null,
      "metadata": {
        "colab": {
          "base_uri": "https://localhost:8080/"
        },
        "id": "XmSKHtypl_ci",
        "outputId": "cf3f863e-210d-43c1-90d1-6960c0e2cdda"
      },
      "outputs": [
        {
          "name": "stdout",
          "output_type": "stream",
          "text": [
            "Random predictions: \t[0 0 1 0 0 0 1 0 0 1 1 1 1 1 0 1 1 0 0 0 1 0 1 1 1 0 1 0 1 0]\n",
            "CCS predictions: \t[1 0 1 0 0 1 0 0 0 0 1 0 0 0 0 0 1 1 0 0 1 1 0 0 0 1 0 1 0 1]\n",
            "LR predictions: \t[0 0 0 1 1 0 0 0 0 0 0 0 1 1 0 0 0 0 0 0 0 0 0 0 0 0 0 0 0 0]\n",
            "True labels: \t\t[0 0 0 1 0 0 1 0 0 0 0 0 1 1 0 0 0 1 0 0 0 0 0 0 0 0 0 0 0 0]\n",
            "\n",
            "CCS and logistic regression overlap: 0.456\n",
            "CCS and random overlap: 0.696\n",
            "Logistic regression and random overlap: 0.488\n",
            "\n",
            "Random true: 130\n",
            "CCS true: 114\n",
            "LR true: 64\n",
            "True labels true: 61\n"
          ]
        }
      ],
      "source": [
        "# # Print first 20 predictions for ccs_pred, lr_pred, and y_test. Also, print overlap percent between ccs_pred and lr_pred.\n",
        "print(\"Random predictions: \\t{}\".format(ccs_random_pred_ft[:30]))\n",
        "print(\"CCS predictions: \\t{}\".format(ccs_pred_ft[:30]))\n",
        "print(\"LR predictions: \\t{}\".format(lr_pred_ft[:30]))\n",
        "print(\"True labels: \\t\\t{}\".format(y_test_ft[:30]))\n",
        "print()\n",
        "print(\"CCS and logistic regression overlap: {}\".format(np.mean(ccs_pred_ft == lr_pred_ft)))\n",
        "print(\"CCS and random overlap: {}\".format(np.mean(ccs_pred_ft != ccs_random_pred_ft)))\n",
        "print(\"Logistic regression and random overlap: {}\".format(np.mean(lr_pred_ft != ccs_random_pred_ft)))\n",
        "print()\n",
        "print(\"Random true: {}\".format(ccs_random_pred_ft.sum()))\n",
        "print(\"CCS true: {}\".format(ccs_pred_ft.sum()))\n",
        "print(\"LR true: {}\".format(lr_pred_ft.sum()))\n",
        "print(\"True labels true: {}\".format(y_test_ft.sum()))"
      ]
    },
    {
      "cell_type": "code",
      "execution_count": null,
      "metadata": {
        "colab": {
          "base_uri": "https://localhost:8080/"
        },
        "id": "TlA31KVTDfRb",
        "outputId": "b850ad37-dd5f-4eea-fb0e-76a46fdc9c20"
      },
      "outputs": [
        {
          "data": {
            "text/plain": [
              "array([0, 1, 0, 0, 1, 1, 0, 1, 0, 0])"
            ]
          },
          "execution_count": 77,
          "metadata": {},
          "output_type": "execute_result"
        }
      ],
      "source": [
        "y_test_ft[:10]"
      ]
    },
    {
      "cell_type": "markdown",
      "metadata": {
        "id": "qt1kUV-CwmGY"
      },
      "source": [
        "## Let's see how it transfers among datasets\n",
        "We will train the linear probe on one dataset and test it on others."
      ]
    },
    {
      "cell_type": "code",
      "execution_count": null,
      "metadata": {
        "colab": {
          "base_uri": "https://localhost:8080/"
        },
        "id": "UOAP3YjCurWe",
        "outputId": "a9c465ad-6d91-4a81-fe46-f2be3f7943ea"
      },
      "outputs": [
        {
          "name": "stdout",
          "output_type": "stream",
          "text": [
            "Train CCS on amazon_polarity dataset\n",
            "CCS accuracy on imdb: 0.74\n",
            "CCS accuracy on amazon_polarity: 0.82\n"
          ]
        }
      ],
      "source": [
        "# Train CCS on amazon_polarity dataset\n",
        "ccs = CCS(neg_hs_train_amazon_polarity, pos_hs_train_amazon_polarity)\n",
        "ccs.repeated_train()\n",
        "print(\"Train CCS on amazon_polarity dataset\")\n",
        "# Test CCS on imdb and amazon_polarity dataset\n",
        "ccs_acc = ccs.get_acc(neg_hs_test_imdb, pos_hs_test_imdb, y_test_imdb)\n",
        "print(\"CCS accuracy on imdb: {}\".format(ccs_acc))\n",
        "ccs_acc = ccs.get_acc(neg_hs_test_amazon_polarity, pos_hs_test_amazon_polarity, y_test_amazon_polarity)\n",
        "print(\"CCS accuracy on amazon_polarity: {}\".format(ccs_acc))"
      ]
    },
    {
      "cell_type": "code",
      "execution_count": null,
      "metadata": {
        "colab": {
          "base_uri": "https://localhost:8080/"
        },
        "id": "lrdv62ucxJ75",
        "outputId": "e9626ee7-96a4-42b4-c8ca-840779f6fba1"
      },
      "outputs": [
        {
          "name": "stdout",
          "output_type": "stream",
          "text": [
            "Train CCS on imdb dataset\n",
            "CCS accuracy on imdb trainset: 0.86\n",
            "CCS accuracy on imdb testset: 0.7\n",
            "CCS accuracy on amazon_polarity: 0.7\n",
            "Train CCS on imdb dataset\n",
            "CCS accuracy on imdb trainset: 0.88\n",
            "CCS accuracy on imdb testset: 0.76\n",
            "CCS accuracy on amazon_polarity: 0.72\n",
            "Train CCS on imdb dataset\n",
            "CCS accuracy on imdb trainset: 0.88\n",
            "CCS accuracy on imdb testset: 0.68\n",
            "CCS accuracy on amazon_polarity: 0.7\n",
            "Train CCS on imdb dataset\n",
            "CCS accuracy on imdb trainset: 0.86\n",
            "CCS accuracy on imdb testset: 0.68\n",
            "CCS accuracy on amazon_polarity: 0.68\n",
            "Train CCS on imdb dataset\n",
            "CCS accuracy on imdb trainset: 0.88\n",
            "CCS accuracy on imdb testset: 0.68\n",
            "CCS accuracy on amazon_polarity: 0.7\n",
            "Train CCS on imdb dataset\n",
            "CCS accuracy on imdb trainset: 0.86\n",
            "CCS accuracy on imdb testset: 0.7\n",
            "CCS accuracy on amazon_polarity: 0.6599999999999999\n",
            "Train CCS on imdb dataset\n",
            "CCS accuracy on imdb trainset: 0.88\n",
            "CCS accuracy on imdb testset: 0.76\n",
            "CCS accuracy on amazon_polarity: 0.74\n",
            "Train CCS on imdb dataset\n",
            "CCS accuracy on imdb trainset: 0.84\n",
            "CCS accuracy on imdb testset: 0.72\n",
            "CCS accuracy on amazon_polarity: 0.6599999999999999\n",
            "Train CCS on imdb dataset\n",
            "CCS accuracy on imdb trainset: 0.88\n",
            "CCS accuracy on imdb testset: 0.7\n",
            "CCS accuracy on amazon_polarity: 0.6799999999999999\n",
            "Train CCS on imdb dataset\n",
            "CCS accuracy on imdb trainset: 0.86\n",
            "CCS accuracy on imdb testset: 0.7\n",
            "CCS accuracy on amazon_polarity: 0.7\n",
            "CCS accuracy on imdb trainset - Mean: 0.868; Std: 0.013266499161421611\n",
            "CCS accuracy on imdb testset - Mean: 0.708; Std: 0.028565713714171395\n",
            "CCS accuracy on amazon testset - Mean: 0.694; Std: 0.02374868417407585\n"
          ]
        }
      ],
      "source": [
        "# Train CCS on imdb dataset\n",
        "seeds = np.arange(10)\n",
        "accs_imdb_train = []\n",
        "accs_imdb_test = []\n",
        "accs_amazon_test = []\n",
        "\n",
        "for seed in seeds:\n",
        "  np.random.seed(seed)\n",
        "  ccs = CCS(neg_hs_train_imdb, pos_hs_train_imdb)\n",
        "  ccs.repeated_train()\n",
        "  print(\"Train CCS on imdb dataset\")\n",
        "  # Test CCS on imdb and amazon_polarity dataset\n",
        "  ccs_acc = ccs.get_acc(neg_hs_train_imdb, pos_hs_train_imdb, y_train_imdb)\n",
        "  accs_imdb_train.append(ccs_acc)\n",
        "  print(\"CCS accuracy on imdb trainset: {}\".format(ccs_acc))\n",
        "  ccs_acc = ccs.get_acc(neg_hs_test_imdb, pos_hs_test_imdb, y_test_imdb)\n",
        "  accs_imdb_test.append(ccs_acc)\n",
        "  print(\"CCS accuracy on imdb testset: {}\".format(ccs_acc))\n",
        "  ccs_acc = ccs.get_acc(neg_hs_test_amazon_polarity, pos_hs_test_amazon_polarity, y_test_amazon_polarity)\n",
        "  accs_amazon_test.append(ccs_acc)\n",
        "  print(\"CCS accuracy on amazon_polarity: {}\".format(ccs_acc))\n",
        "\n",
        "accs_imdb_train = np.array(accs_imdb_train)\n",
        "print(f\"CCS accuracy on imdb trainset - Mean: {np.mean(accs_imdb_train)}; Std: {np.std(accs_imdb_train)}\")\n",
        "accs_imdb_test = np.array(accs_imdb_test)\n",
        "print(f\"CCS accuracy on imdb testset - Mean: {np.mean(accs_imdb_test)}; Std: {np.std(accs_imdb_test)}\")\n",
        "accs_amazon_test = np.array(accs_amazon_test)\n",
        "print(f\"CCS accuracy on amazon testset - Mean: {np.mean(accs_amazon_test)}; Std: {np.std(accs_amazon_test)}\")"
      ]
    },
    {
      "cell_type": "markdown",
      "metadata": {
        "id": "fUZPPN4Y0Oco"
      },
      "source": [
        "## Let's plot the heatmap of tranfer results between datasets\n"
      ]
    },
    {
      "cell_type": "code",
      "execution_count": null,
      "metadata": {
        "colab": {
          "base_uri": "https://localhost:8080/",
          "height": 297
        },
        "id": "PEJT_Ekb0TiU",
        "outputId": "abef8bcb-a396-49f7-f62f-34f0fa163741"
      },
      "outputs": [
        {
          "data": {
            "image/png": "[encoded data removed]",
            "text/plain": [
              "<Figure size 432x288 with 2 Axes>"
            ]
          },
          "metadata": {
            "needs_background": "light"
          },
          "output_type": "display_data"
        }
      ],
      "source": [
        "import numpy as np\n",
        "import matplotlib\n",
        "import matplotlib as mpl\n",
        "import matplotlib.pyplot as plt\n",
        "\n",
        "# vegetables = [\"cucumber\", \"tomato\", \"lettuce\", \"asparagus\",\n",
        "#               \"potato\", \"wheat\", \"barley\"]\n",
        "# farmers = [\"Farmer Joe\", \"Upland Bros.\", \"Smith Gardening\",\n",
        "#            \"Agrifun\", \"Organiculture\", \"BioGoods Ltd.\", \"Cornylee Corp.\"]\n",
        "train_sets = [\"IMDB\", \"Amazon\", \"AG News\", \"DBpedia\", \"COPA\", \"RTE\", \"BOOLQ\", \"QNLI\", \"PIQA\", \"Story Cloze\"]\n",
        "test_sets = [\"IMDB\", \"Amazon\", \"AG News\", \"DBpedia\", \"COPA\", \"RTE\", \"BOOLQ\", \"QNLI\", \"PIQA\", \"Story Cloze\"]\n",
        "\n",
        "harvest = np.array([[0.8, 2.4, 2.5, 3.9, 0.0, 4.0, 0.0, 0.0, 0.0, 0,0], # random placeholder stuff\n",
        "                    [2.4, 0.0, 4.0, 1.0, 2.7, 0.0, 0.0, 0.0, 0.0, 0,0],\n",
        "                    [1.1, 2.4, 0.8, 4.3, 1.9, 4.4, 0.0, 0.0, 0.0, 0,0],\n",
        "                    [0.6, 0.0, 0.3, 0.0, 3.1, 0.0, 0.0, 0.0, 0.0, 0,0],\n",
        "                    [0.7, 1.7, 0.6, 2.6, 2.2, 6.2, 0.0, 0.0, 0.0, 0,0],\n",
        "                    [1.3, 1.2, 0.0, 0.0, 0.0, 3.2, 5.1, 0.0, 0.0, 0,0],\n",
        "                    [0.1, 2.0, 0.0, 1.4, 0.0, 1.9, 6.3, 0.0, 0.0, 0,0],\n",
        "                    [0.1, 2.0, 0.0, 1.4, 0.0, 1.9, 6.3, 0.0, 0.0, 0,0],\n",
        "                    [0.1, 2.0, 0.0, 1.4, 0.0, 1.9, 6.3, 0.0, 0.0, 0,0],\n",
        "                    [0.1, 2.0, 0.0, 1.4, 0.0, 1.9, 6.3, 0.0, 0.0, 0,0]\n",
        "                    ])\n",
        "harvest = np.zeros_like(harvest)\n",
        "harvest[0][0] = 70\n",
        "harvest[0][1] = 69\n",
        "harvest[1][0] = 74\n",
        "harvest[1][1] = 82\n",
        "# harvest += 50\n",
        "\n",
        "fig, ax = plt.subplots()\n",
        "im = ax.imshow(harvest)\n",
        "\n",
        "# Show all ticks and label them with the respective list entries\n",
        "ax.set_xticks(np.arange(len(test_sets)), labels=test_sets)\n",
        "ax.set_yticks(np.arange(len(train_sets)), labels=train_sets)\n",
        "\n",
        "# Rotate the tick labels and set their alignment.\n",
        "plt.setp(ax.get_xticklabels(), rotation=45, ha=\"right\",\n",
        "         rotation_mode=\"anchor\")\n",
        "\n",
        "# Loop over data dimensions and create text annotations.\n",
        "for i in range(len(train_sets)):\n",
        "    for j in range(len(test_sets)):\n",
        "        text = ax.text(j, i, harvest[i, j],\n",
        "                       ha=\"center\", va=\"center\", color=\"w\")\n",
        "\n",
        "ax.set_title(\"DeBERTa\")\n",
        "fig.tight_layout()\n",
        "\n",
        "# Create colorbar\n",
        "cbar = ax.figure.colorbar(im, ax=ax)\n",
        "cbar.ax.set_ylabel(\"\", rotation=-90, va=\"bottom\")\n",
        "\n",
        "plt.show()"
      ]
    },
    {
      "cell_type": "markdown",
      "metadata": {
        "id": "BoLh2HmYEsqs"
      },
      "source": [
        "Please note that in the plot above we use zeros as placeholders for the values we did not calculate.\n",
        "\n",
        "Our values are decidedly lower from those of the paper. One reason could be that we use fewer training samples (100) than the paper did to generate this plot. We can explore this further later.\n",
        "\n",
        "![image.png](data:image/png;base64,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)"
      ]
    },
    {
      "cell_type": "markdown",
      "metadata": {
        "id": "25Y43v9bAcEA"
      },
      "source": [
        "## We found that the performance can depend upon how the prompt is phrased. We illustrate this variance in the following plot:\n",
        "\n",
        "Plot the mean and std of 10 trials for each of three different prompt types (box chart thingy).\n",
        "\n",
        "For now we focus only on the IMDB dataset\n",
        "\n",
        "For context: Here are the prompts next to their number codes:\n",
        "\n",
        "1. f\"Consider the following example: “‘ {text} ”’ Between {labels[0]} and {labels[1]}, the sentiment of this example is {labels[label]}\\n\"\n",
        "\n",
        "2. f\"Q: Is the sentiment of \\\"{text}\\\" {labels[0]} or {labels[1]}? A: {labels[label]}\\n\"\n",
        "\n",
        "3. \"The following movie review expresses a \" + [\"negative\", \"positive\"][label] + \" sentiment:\\n\" + text"
      ]
    },
    {
      "cell_type": "code",
      "execution_count": null,
      "metadata": {
        "colab": {
          "base_uri": "https://localhost:8080/"
        },
        "id": "eEdf13cKVGiH",
        "outputId": "cb6e168a-4e69-4cb2-d0ff-61ad97764830"
      },
      "outputs": [
        {
          "name": "stderr",
          "output_type": "stream",
          "text": [
            "100%|██████████| 100/100 [01:17<00:00,  1.29it/s]\n",
            "100%|██████████| 100/100 [01:24<00:00,  1.18it/s]\n",
            "100%|██████████| 100/100 [01:21<00:00,  1.22it/s]\n"
          ]
        }
      ],
      "source": [
        "# format style 1\n",
        "neg_imdb1, pos_imdb1, y_imdb1 = get_hidden_states_many_examples(model, tokenizer, data_imdb, model_type, \"imdb\", 100, 1)\n",
        "neg_hs_train_imdb1, neg_hs_test_imdb1, pos_hs_train_imdb1, pos_hs_test_imdb1, y_train_imdb1, y_test_imdb1 = train_test_split(neg_imdb1, pos_imdb1, y_imdb1)\n",
        "\n",
        "# format style 2\n",
        "neg_imdb2, pos_imdb2, y_imdb2 = get_hidden_states_many_examples(model, tokenizer, data_imdb, model_type, \"imdb\", 100, 2)\n",
        "neg_hs_train_imdb2, neg_hs_test_imdb2, pos_hs_train_imdb2, pos_hs_test_imdb2, y_train_imdb2, y_test_imdb2 = train_test_split(neg_imdb2, pos_imdb2, y_imdb2)\n",
        "\n",
        "# format style 3\n",
        "neg_imdb3, pos_imdb3, y_imdb3 = get_hidden_states_many_examples(model, tokenizer, data_imdb, model_type, \"imdb\", 100, 3)\n",
        "neg_hs_train_imdb3, neg_hs_test_imdb3, pos_hs_train_imdb3, pos_hs_test_imdb3, y_train_imdb3, y_test_imdb3 = train_test_split(neg_imdb3, pos_imdb3, y_imdb3)"
      ]
    },
    {
      "cell_type": "code",
      "execution_count": null,
      "metadata": {
        "id": "7AULrIrVl35n"
      },
      "outputs": [],
      "source": [
        "def run_trials(neg_hs_train, pos_hs_train, neg_hs_test, pos_hs_test, y_train, y_test, ntrials=10):\n",
        "  seeds = np.arange(ntrials)\n",
        "  accs_train = []\n",
        "  accs_test = []\n",
        "  rand_train = []\n",
        "  rand_test = []\n",
        "\n",
        "  for seed in seeds:\n",
        "    np.random.seed(seed) # CHLOE NOTE: I don't think this seed is doing what we want (but idk how to really tell)\n",
        "    ccs = CCS(neg_hs_train, pos_hs_train)\n",
        "    rand_ccs = CCS(neg_hs_train, pos_hs_train)\n",
        "    ccs.repeated_train()\n",
        "    print(\"Train CCS on dataset\")\n",
        "    # Test CCS on imdb and amazon_polarity dataset\n",
        "    ccs_acc = ccs.get_acc(neg_hs_train, pos_hs_train, y_train)\n",
        "    accs_train.append(ccs_acc)\n",
        "    print(\"CCS accuracy on trainset: {}\".format(ccs_acc))\n",
        "    ccs_acc = ccs.get_acc(neg_hs_test, pos_hs_test, y_test)\n",
        "    accs_test.append(ccs_acc)\n",
        "    print(\"CCS accuracy on testset: {}\".format(ccs_acc))\n",
        "    rccs_acc = rand_ccs.get_acc(neg_hs_train, pos_hs_train, y_train)\n",
        "    rand_train.append(rccs_acc)\n",
        "    print(\"Random CCS accuracy on trainset: {}\".format(ccs_acc))\n",
        "    rccs_acc = rand_ccs.get_acc(neg_hs_test, pos_hs_test, y_test)\n",
        "    rand_test.append(rccs_acc)\n",
        "    print(\"Random CCS accuracy on testset: {}\".format(ccs_acc))\n",
        "\n",
        "  accs_train = np.array(accs_train)\n",
        "  print(f\"CCS accuracy on trainset - Mean: {np.mean(accs_train)}; Std: {np.std(accs_train)}\")\n",
        "  accs_test = np.array(accs_test)\n",
        "  print(f\"CCS accuracy on testset - Mean: {np.mean(accs_test)}; Std: {np.std(accs_test)}\")\n",
        "  rand_train = np.array(rand_train)\n",
        "  print(f\"Rand accuracy on trainset - Mean: {np.mean(rand_train)}; Std: {np.std(rand_train)}\")\n",
        "  rand_test = np.array(rand_test)\n",
        "  print(f\"Rand accuracy on testset - Mean: {np.mean(rand_test)}; Std: {np.std(rand_test)}\")\n",
        "\n",
        "  return accs_train, accs_test, rand_train, rand_test"
      ]
    },
    {
      "cell_type": "code",
      "execution_count": null,
      "metadata": {
        "colab": {
          "base_uri": "https://localhost:8080/"
        },
        "id": "SXYy0k8herzH",
        "outputId": "2a17dd4f-0f64-4cfc-cc78-54ea923793b6"
      },
      "outputs": [
        {
          "name": "stdout",
          "output_type": "stream",
          "text": [
            "Train CCS on dataset\n",
            "CCS accuracy on trainset: 0.8200000000000001\n",
            "CCS accuracy on testset: 0.96\n",
            "Random CCS accuracy on trainset: 0.96\n",
            "Random CCS accuracy on testset: 0.96\n",
            "Train CCS on dataset\n",
            "CCS accuracy on trainset: 0.84\n",
            "CCS accuracy on testset: 0.96\n",
            "Random CCS accuracy on trainset: 0.96\n",
            "Random CCS accuracy on testset: 0.96\n",
            "Train CCS on dataset\n",
            "CCS accuracy on trainset: 0.82\n",
            "CCS accuracy on testset: 0.96\n",
            "Random CCS accuracy on trainset: 0.96\n",
            "Random CCS accuracy on testset: 0.96\n",
            "Train CCS on dataset\n",
            "CCS accuracy on trainset: 0.8200000000000001\n",
            "CCS accuracy on testset: 0.96\n",
            "Random CCS accuracy on trainset: 0.96\n",
            "Random CCS accuracy on testset: 0.96\n",
            "Train CCS on dataset\n",
            "CCS accuracy on trainset: 0.82\n",
            "CCS accuracy on testset: 0.96\n",
            "Random CCS accuracy on trainset: 0.96\n",
            "Random CCS accuracy on testset: 0.96\n",
            "Train CCS on dataset\n",
            "CCS accuracy on trainset: 0.82\n",
            "CCS accuracy on testset: 0.96\n",
            "Random CCS accuracy on trainset: 0.96\n",
            "Random CCS accuracy on testset: 0.96\n",
            "Train CCS on dataset\n",
            "CCS accuracy on trainset: 0.8200000000000001\n",
            "CCS accuracy on testset: 0.96\n",
            "Random CCS accuracy on trainset: 0.96\n",
            "Random CCS accuracy on testset: 0.96\n",
            "Train CCS on dataset\n",
            "CCS accuracy on trainset: 0.8200000000000001\n",
            "CCS accuracy on testset: 0.96\n",
            "Random CCS accuracy on trainset: 0.96\n",
            "Random CCS accuracy on testset: 0.96\n",
            "Train CCS on dataset\n",
            "CCS accuracy on trainset: 0.56\n",
            "CCS accuracy on testset: 0.5800000000000001\n",
            "Random CCS accuracy on trainset: 0.5800000000000001\n",
            "Random CCS accuracy on testset: 0.5800000000000001\n",
            "Train CCS on dataset\n",
            "CCS accuracy on trainset: 0.8200000000000001\n",
            "CCS accuracy on testset: 0.96\n",
            "Random CCS accuracy on trainset: 0.96\n",
            "Random CCS accuracy on testset: 0.96\n",
            "CCS accuracy on trainset - Mean: 0.796; Std: 0.07889233169326407\n",
            "CCS accuracy on testset - Mean: 0.9219999999999999; Std: 0.11399999999999996\n",
            "Rand accuracy on trainset - Mean: 0.618; Std: 0.06477653896280657\n",
            "Rand accuracy on testset - Mean: 0.6699999999999999; Std: 0.09518403227432633\n"
          ]
        }
      ],
      "source": [
        "ccs_train1, ccs_test1, rand_train1, rand_test1 = run_trials(neg_hs_train_imdb1, pos_hs_train_imdb1, neg_hs_test_imdb1, pos_hs_test_imdb1, y_train_imdb1, y_test_imdb1)"
      ]
    },
    {
      "cell_type": "code",
      "execution_count": null,
      "metadata": {
        "colab": {
          "base_uri": "https://localhost:8080/",
          "height": 552
        },
        "id": "MMkm2B3LwwpZ",
        "outputId": "e8d343db-77d4-4b51-f5f4-8190676d4e7a"
      },
      "outputs": [
        {
          "data": {
            "image/png": "[encoded data removed]",
            "text/plain": [
              "<Figure size 720x504 with 1 Axes>"
            ]
          },
          "metadata": {
            "needs_background": "light"
          },
          "output_type": "display_data"
        }
      ],
      "source": [
        "import matplotlib.pyplot as plt\n",
        "\n",
        "# create whisker plot\n",
        "data = [ccs_train1, rand_train1, ccs_test1, rand_test1]\n",
        "\n",
        "fig = plt.figure(figsize =(10, 7))\n",
        " \n",
        "# Creating axes instance\n",
        "ax = fig.add_axes([0, 0, 1, 1])\n",
        " \n",
        "# Creating plot\n",
        "bp = ax.boxplot(data)\n",
        " \n",
        "# show plot\n",
        "plt.show()"
      ]
    },
    {
      "cell_type": "code",
      "execution_count": null,
      "metadata": {
        "colab": {
          "base_uri": "https://localhost:8080/"
        },
        "id": "KzPvAB9G-IUF",
        "outputId": "6c503088-0196-4d88-b9b4-6415277985ec"
      },
      "outputs": [
        {
          "name": "stdout",
          "output_type": "stream",
          "text": [
            "Train CCS on dataset\n",
            "CCS accuracy on trainset: 0.56\n",
            "CCS accuracy on testset: 0.52\n",
            "Random CCS accuracy on trainset: 0.52\n",
            "Random CCS accuracy on testset: 0.52\n",
            "Train CCS on dataset\n",
            "CCS accuracy on trainset: 0.56\n",
            "CCS accuracy on testset: 0.52\n",
            "Random CCS accuracy on trainset: 0.52\n",
            "Random CCS accuracy on testset: 0.52\n",
            "Train CCS on dataset\n",
            "CCS accuracy on trainset: 0.56\n",
            "CCS accuracy on testset: 0.52\n",
            "Random CCS accuracy on trainset: 0.52\n",
            "Random CCS accuracy on testset: 0.52\n",
            "Train CCS on dataset\n",
            "CCS accuracy on trainset: 0.56\n",
            "CCS accuracy on testset: 0.52\n",
            "Random CCS accuracy on trainset: 0.52\n",
            "Random CCS accuracy on testset: 0.52\n",
            "Train CCS on dataset\n",
            "CCS accuracy on trainset: 0.56\n",
            "CCS accuracy on testset: 0.52\n",
            "Random CCS accuracy on trainset: 0.52\n",
            "Random CCS accuracy on testset: 0.52\n",
            "Train CCS on dataset\n",
            "CCS accuracy on trainset: 0.56\n",
            "CCS accuracy on testset: 0.52\n",
            "Random CCS accuracy on trainset: 0.52\n",
            "Random CCS accuracy on testset: 0.52\n",
            "Train CCS on dataset\n",
            "CCS accuracy on trainset: 0.56\n",
            "CCS accuracy on testset: 0.52\n",
            "Random CCS accuracy on trainset: 0.52\n",
            "Random CCS accuracy on testset: 0.52\n",
            "Train CCS on dataset\n",
            "CCS accuracy on trainset: 0.56\n",
            "CCS accuracy on testset: 0.52\n",
            "Random CCS accuracy on trainset: 0.52\n",
            "Random CCS accuracy on testset: 0.52\n",
            "Train CCS on dataset\n",
            "CCS accuracy on trainset: 0.56\n",
            "CCS accuracy on testset: 0.52\n",
            "Random CCS accuracy on trainset: 0.52\n",
            "Random CCS accuracy on testset: 0.52\n",
            "Train CCS on dataset\n",
            "CCS accuracy on trainset: 0.56\n",
            "CCS accuracy on testset: 0.52\n",
            "Random CCS accuracy on trainset: 0.52\n",
            "Random CCS accuracy on testset: 0.52\n",
            "CCS accuracy on trainset - Mean: 0.5600000000000002; Std: 1.1102230246251565e-16\n",
            "CCS accuracy on testset - Mean: 0.5199999999999999; Std: 1.1102230246251565e-16\n",
            "Rand accuracy on trainset - Mean: 0.5539999999999999; Std: 0.0335261092284804\n",
            "Rand accuracy on testset - Mean: 0.5720000000000001; Std: 0.046647615158762396\n"
          ]
        }
      ],
      "source": [
        "ccs_train2, ccs_test2, rand_train2, rand_test2 = run_trials(neg_hs_train_imdb2, pos_hs_train_imdb2, neg_hs_test_imdb2, pos_hs_test_imdb2, y_train_imdb2, y_test_imdb2)"
      ]
    },
    {
      "cell_type": "code",
      "execution_count": null,
      "metadata": {
        "colab": {
          "base_uri": "https://localhost:8080/",
          "height": 552
        },
        "id": "TS2VELgp2Aev",
        "outputId": "1b83d0e8-4953-476c-8a43-764d66e24544"
      },
      "outputs": [
        {
          "data": {
            "image/png": "[encoded data removed]",
            "text/plain": [
              "<Figure size 720x504 with 1 Axes>"
            ]
          },
          "metadata": {
            "needs_background": "light"
          },
          "output_type": "display_data"
        }
      ],
      "source": [
        "import matplotlib.pyplot as plt\n",
        "\n",
        "# create whisker plot\n",
        "data = [ccs_train2, rand_train2, ccs_test2, rand_test2]\n",
        "\n",
        "fig = plt.figure(figsize =(10, 7))\n",
        " \n",
        "# Creating axes instance\n",
        "ax = fig.add_axes([0, 0, 1, 1])\n",
        " \n",
        "# Creating plot\n",
        "bp = ax.boxplot(data)\n",
        " \n",
        "# show plot\n",
        "plt.show()"
      ]
    },
    {
      "cell_type": "code",
      "execution_count": null,
      "metadata": {
        "colab": {
          "base_uri": "https://localhost:8080/"
        },
        "id": "7raEh8dv4mgC",
        "outputId": "db701d0a-02c0-4fec-9c90-68e7aec707c1"
      },
      "outputs": [
        {
          "name": "stdout",
          "output_type": "stream",
          "text": [
            "Train CCS on dataset\n",
            "CCS accuracy on trainset: 0.92\n",
            "CCS accuracy on testset: 0.94\n",
            "Random CCS accuracy on trainset: 0.94\n",
            "Random CCS accuracy on testset: 0.94\n",
            "Train CCS on dataset\n",
            "CCS accuracy on trainset: 0.9\n",
            "CCS accuracy on testset: 0.92\n",
            "Random CCS accuracy on trainset: 0.92\n",
            "Random CCS accuracy on testset: 0.92\n",
            "Train CCS on dataset\n",
            "CCS accuracy on trainset: 0.84\n",
            "CCS accuracy on testset: 0.94\n",
            "Random CCS accuracy on trainset: 0.94\n",
            "Random CCS accuracy on testset: 0.94\n",
            "Train CCS on dataset\n",
            "CCS accuracy on trainset: 0.92\n",
            "CCS accuracy on testset: 0.94\n",
            "Random CCS accuracy on trainset: 0.94\n",
            "Random CCS accuracy on testset: 0.94\n",
            "Train CCS on dataset\n",
            "CCS accuracy on trainset: 0.92\n",
            "CCS accuracy on testset: 0.94\n",
            "Random CCS accuracy on trainset: 0.94\n",
            "Random CCS accuracy on testset: 0.94\n",
            "Train CCS on dataset\n",
            "CCS accuracy on trainset: 0.92\n",
            "CCS accuracy on testset: 0.94\n",
            "Random CCS accuracy on trainset: 0.94\n",
            "Random CCS accuracy on testset: 0.94\n",
            "Train CCS on dataset\n",
            "CCS accuracy on trainset: 0.88\n",
            "CCS accuracy on testset: 0.92\n",
            "Random CCS accuracy on trainset: 0.92\n",
            "Random CCS accuracy on testset: 0.92\n",
            "Train CCS on dataset\n",
            "CCS accuracy on trainset: 0.8200000000000001\n",
            "CCS accuracy on testset: 0.9\n",
            "Random CCS accuracy on trainset: 0.9\n",
            "Random CCS accuracy on testset: 0.9\n",
            "Train CCS on dataset\n",
            "CCS accuracy on trainset: 0.9\n",
            "CCS accuracy on testset: 0.92\n",
            "Random CCS accuracy on trainset: 0.92\n",
            "Random CCS accuracy on testset: 0.92\n",
            "Train CCS on dataset\n",
            "CCS accuracy on trainset: 0.84\n",
            "CCS accuracy on testset: 0.94\n",
            "Random CCS accuracy on trainset: 0.94\n",
            "Random CCS accuracy on testset: 0.94\n",
            "CCS accuracy on trainset - Mean: 0.8859999999999999; Std: 0.03693237062523879\n",
            "CCS accuracy on testset - Mean: 0.9299999999999999; Std: 0.0134164078649987\n",
            "Rand accuracy on trainset - Mean: 0.6639999999999999; Std: 0.08428523002282193\n",
            "Rand accuracy on testset - Mean: 0.6279999999999999; Std: 0.0515363949069005\n"
          ]
        }
      ],
      "source": [
        "ccs_train3, ccs_test3, rand_train3, rand_test3 = run_trials(neg_hs_train_imdb3, pos_hs_train_imdb3, neg_hs_test_imdb3, pos_hs_test_imdb3, y_train_imdb3, y_test_imdb3)"
      ]
    },
    {
      "cell_type": "code",
      "execution_count": null,
      "metadata": {
        "colab": {
          "base_uri": "https://localhost:8080/",
          "height": 552
        },
        "id": "LpqoIkQy49f-",
        "outputId": "dcfc86ec-269e-4444-cc94-2d9c86331ea8"
      },
      "outputs": [
        {
          "data": {
            "image/png": "[encoded data removed]",
            "text/plain": [
              "<Figure size 720x504 with 1 Axes>"
            ]
          },
          "metadata": {
            "needs_background": "light"
          },
          "output_type": "display_data"
        }
      ],
      "source": [
        "import matplotlib.pyplot as plt\n",
        "\n",
        "# create whisker plot\n",
        "data = [ccs_train3, rand_train3, ccs_test3, rand_test3]\n",
        "\n",
        "fig = plt.figure(figsize =(10, 7))\n",
        " \n",
        "# Creating axes instance\n",
        "ax = fig.add_axes([0, 0, 1, 1])\n",
        " \n",
        "# Creating plot\n",
        "bp = ax.boxplot(data)\n",
        " \n",
        "# show plot\n",
        "plt.show()"
      ]
    },
    {
      "cell_type": "code",
      "execution_count": null,
      "metadata": {
        "colab": {
          "base_uri": "https://localhost:8080/",
          "height": 524
        },
        "id": "zWH8oYEa5uyn",
        "outputId": "562e4884-c12a-40b5-fe30-2ac4cf9a99b3"
      },
      "outputs": [
        {
          "name": "stderr",
          "output_type": "stream",
          "text": [
            "<ipython-input-52-20755614aa93>:13: UserWarning: FixedFormatter should only be used together with FixedLocator\n",
            "  ax.set_xticklabels(['ccs train prompt 1', 'random train prompt 1',\n"
          ]
        },
        {
          "data": {
            "image/png": "[encoded data removed]",
            "text/plain": [
              "<Figure size 1440x504 with 1 Axes>"
            ]
          },
          "metadata": {
            "needs_background": "light"
          },
          "output_type": "display_data"
        }
      ],
      "source": [
        "import matplotlib.pyplot as plt\n",
        "\n",
        "# create whisker plot\n",
        "data = [ccs_train1, rand_train1, ccs_test1, rand_test1, ccs_train2, rand_train2, ccs_test2, rand_test2, ccs_train3, rand_train3, ccs_test3, rand_test3]\n",
        "\n",
        "fig = plt.figure(figsize =(20, 7))\n",
        " \n",
        "# Creating axes instance\n",
        "ax = fig.add_axes([0, 0, 1, 1])\n",
        "ax.set_ylim(0,1.5)\n",
        "\n",
        "# set x-axis labels\n",
        "ax.set_xticklabels(['ccs train prompt 1', 'random train prompt 1',\n",
        "                    'ccs test prompt 1', 'random test prompt 1', 'ccs train prompt 2', 'random train prompt 2',\n",
        "                    'ccs test prompt 2', 'random test prompt 2', 'ccs train prompt 3', 'random train prompt 3',\n",
        "                    'ccs test prompt 3', 'random test prompt 3'])\n",
        " \n",
        "# Creating plot\n",
        "bp = ax.boxplot(data)\n",
        " \n",
        "# show plot\n",
        "plt.show()"
      ]
    },
    {
      "cell_type": "markdown",
      "metadata": {
        "id": "GThOYvdx7maX"
      },
      "source": [
        "From left to right in the plot above:\n",
        "\n",
        "ccs accuracy on train with prompt 1, random baseline on train prompt 1, ccs accuracy on test with prompt 1, random baseline on test prompt 1,\n",
        "ccs accuracy on train with prompt 2, random baseline on train prompt 2, ccs accuracy on test with prompt 2, random baseline on test prompt 2,\n",
        "ccs accuracy on train with prompt 3, random baseline on train prompt 3, ccs accuracy on test with prompt 3, random baseline on test prompt 3\n",
        "\n",
        "For some reason, the second prompt format destroys the performance of the model. Why???\n"
      ]
    },
    {
      "cell_type": "markdown",
      "metadata": {
        "id": "U8mj58JVBDZy"
      },
      "source": [
        "# Immediate Next Steps\n",
        "\n",
        "\n",
        "\n",
        "*   visualize the clusters of model hidden states corresponding to true and false inputs. (we will need to lower the dimension of the hidden state vectors.)\n",
        "*   observe how these clusters differ for different prompt formulations\n",
        "\n",
        "*   We are doing this because we are curious about whether the data is easy or hard to separate. this will give us intuition for whether a random cluster should do well or poorly on the dataset. also, it would be helpful to understand whether each dataset gives rise to two clean clusters or whether they overlap to some extent.\n",
        "\n",
        "\n",
        "\n"
      ]
    },
    {
      "cell_type": "code",
      "execution_count": null,
      "metadata": {
        "id": "nIXRZK04F2TN"
      },
      "outputs": [],
      "source": []
    }
  ],
  "metadata": {
    "accelerator": "GPU",
    "colab": {
      "provenance": []
    },
    "gpuClass": "standard",
    "kernelspec": {
      "display_name": "Python 3",
      "name": "python3"
    },
    "language_info": {
      "name": "python"
    },
    "widgets": {
      "application/vnd.jupyter.widget-state+json": {
        "0036ddf2fbf04f65a1eec6c66daf8aee": {
          "model_module": "@jupyter-widgets/controls",
          "model_module_version": "1.5.0",
          "model_name": "FloatProgressModel",
          "state": {
            "_dom_classes": [],
            "_model_module": "@jupyter-widgets/controls",
            "_model_module_version": "1.5.0",
            "_model_name": "FloatProgressModel",
            "_view_count": null,
            "_view_module": "@jupyter-widgets/controls",
            "_view_module_version": "1.5.0",
            "_view_name": "ProgressView",
            "bar_style": "success",
            "description": "",
            "description_tooltip": null,
            "layout": "IPY_MODEL_bf4ff75765504793b108b552df377ff0",
            "max": 633,
            "min": 0,
            "orientation": "horizontal",
            "style": "IPY_MODEL_4d8bdbca3c7c4269bc0a7b4eb26c93bc",
            "value": 633
          }
        },
        "0084284d6f38419688c770ff8259bb5d": {
          "model_module": "@jupyter-widgets/controls",
          "model_module_version": "1.5.0",
          "model_name": "HBoxModel",
          "state": {
            "_dom_classes": [],
            "_model_module": "@jupyter-widgets/controls",
            "_model_module_version": "1.5.0",
            "_model_name": "HBoxModel",
            "_view_count": null,
            "_view_module": "@jupyter-widgets/controls",
            "_view_module_version": "1.5.0",
            "_view_name": "HBoxView",
            "box_style": "",
            "children": [
              "IPY_MODEL_a7a3ce94a7a747b2a9caf9fee1542596",
              "IPY_MODEL_4c1284dd4c4d480291bf1bbe99933e08",
              "IPY_MODEL_a12a808d8e99458ea4e6a7a30853c382"
            ],
            "layout": "IPY_MODEL_ed003a6074d84265acf95d9c2f3b49a9"
          }
        },
        "018cdb3cbe554349bb90d0426e100641": {
          "model_module": "@jupyter-widgets/controls",
          "model_module_version": "1.5.0",
          "model_name": "HTMLModel",
          "state": {
            "_dom_classes": [],
            "_model_module": "@jupyter-widgets/controls",
            "_model_module_version": "1.5.0",
            "_model_name": "HTMLModel",
            "_view_count": null,
            "_view_module": "@jupyter-widgets/controls",
            "_view_module_version": "1.5.0",
            "_view_name": "HTMLView",
            "description": "",
            "description_tooltip": null,
            "layout": "IPY_MODEL_8ce607c29ac8463596b8676dfe597af5",
            "placeholder": "​",
            "style": "IPY_MODEL_59493af7e8dd485996e196d7d0c06f33",
            "value": " 400000/400000 [00:40&lt;00:00, 28260.91 examples/s]"
          }
        },
        "033bd60e2b5b4383b78e819bad8e6480": {
          "model_module": "@jupyter-widgets/base",
          "model_module_version": "1.2.0",
          "model_name": "LayoutModel",
          "state": {
            "_model_module": "@jupyter-widgets/base",
            "_model_module_version": "1.2.0",
            "_model_name": "LayoutModel",
            "_view_count": null,
            "_view_module": "@jupyter-widgets/base",
            "_view_module_version": "1.2.0",
            "_view_name": "LayoutView",
            "align_content": null,
            "align_items": null,
            "align_self": null,
            "border": null,
            "bottom": null,
            "display": null,
            "flex": null,
            "flex_flow": null,
            "grid_area": null,
            "grid_auto_columns": null,
            "grid_auto_flow": null,
            "grid_auto_rows": null,
            "grid_column": null,
            "grid_gap": null,
            "grid_row": null,
            "grid_template_areas": null,
            "grid_template_columns": null,
            "grid_template_rows": null,
            "height": null,
            "justify_content": null,
            "justify_items": null,
            "left": null,
            "margin": null,
            "max_height": null,
            "max_width": null,
            "min_height": null,
            "min_width": null,
            "object_fit": null,
            "object_position": null,
            "order": null,
            "overflow": null,
            "overflow_x": null,
            "overflow_y": null,
            "padding": null,
            "right": null,
            "top": null,
            "visibility": null,
            "width": null
          }
        },
        "06b64c7693db4944b0d56a3b72d31d52": {
          "model_module": "@jupyter-widgets/controls",
          "model_module_version": "1.5.0",
          "model_name": "FloatProgressModel",
          "state": {
            "_dom_classes": [],
            "_model_module": "@jupyter-widgets/controls",
            "_model_module_version": "1.5.0",
            "_model_name": "FloatProgressModel",
            "_view_count": null,
            "_view_module": "@jupyter-widgets/controls",
            "_view_module_version": "1.5.0",
            "_view_name": "ProgressView",
            "bar_style": "success",
            "description": "",
            "description_tooltip": null,
            "layout": "IPY_MODEL_16b364f6f3aa42a28e703d254dd496f1",
            "max": 1676,
            "min": 0,
            "orientation": "horizontal",
            "style": "IPY_MODEL_11cdb893dc554112a5a1057d3fcfd655",
            "value": 1676
          }
        },
        "072f36442809409db31a05796db82d61": {
          "model_module": "@jupyter-widgets/controls",
          "model_module_version": "1.5.0",
          "model_name": "HTMLModel",
          "state": {
            "_dom_classes": [],
            "_model_module": "@jupyter-widgets/controls",
            "_model_module_version": "1.5.0",
            "_model_name": "HTMLModel",
            "_view_count": null,
            "_view_module": "@jupyter-widgets/controls",
            "_view_module_version": "1.5.0",
            "_view_name": "HTMLView",
            "description": "",
            "description_tooltip": null,
            "layout": "IPY_MODEL_169f007eb3654ddb840b656bcb2f4a5d",
            "placeholder": "​",
            "style": "IPY_MODEL_8c2f992381f34400bc6c5f37d9373380",
            "value": "100%"
          }
        },
        "07544fd378814be88eeb3cfdf4cd3e00": {
          "model_module": "@jupyter-widgets/base",
          "model_module_version": "1.2.0",
          "model_name": "LayoutModel",
          "state": {
            "_model_module": "@jupyter-widgets/base",
            "_model_module_version": "1.2.0",
            "_model_name": "LayoutModel",
            "_view_count": null,
            "_view_module": "@jupyter-widgets/base",
            "_view_module_version": "1.2.0",
            "_view_name": "LayoutView",
            "align_content": null,
            "align_items": null,
            "align_self": null,
            "border": null,
            "bottom": null,
            "display": null,
            "flex": null,
            "flex_flow": null,
            "grid_area": null,
            "grid_auto_columns": null,
            "grid_auto_flow": null,
            "grid_auto_rows": null,
            "grid_column": null,
            "grid_gap": null,
            "grid_row": null,
            "grid_template_areas": null,
            "grid_template_columns": null,
            "grid_template_rows": null,
            "height": null,
            "justify_content": null,
            "justify_items": null,
            "left": null,
            "margin": null,
            "max_height": null,
            "max_width": null,
            "min_height": null,
            "min_width": null,
            "object_fit": null,
            "object_position": null,
            "order": null,
            "overflow": null,
            "overflow_x": null,
            "overflow_y": null,
            "padding": null,
            "right": null,
            "top": null,
            "visibility": null,
            "width": null
          }
        },
        "0798b3a30b1d480e94159edc27268811": {
          "model_module": "@jupyter-widgets/base",
          "model_module_version": "1.2.0",
          "model_name": "LayoutModel",
          "state": {
            "_model_module": "@jupyter-widgets/base",
            "_model_module_version": "1.2.0",
            "_model_name": "LayoutModel",
            "_view_count": null,
            "_view_module": "@jupyter-widgets/base",
            "_view_module_version": "1.2.0",
            "_view_name": "LayoutView",
            "align_content": null,
            "align_items": null,
            "align_self": null,
            "border": null,
            "bottom": null,
            "display": null,
            "flex": null,
            "flex_flow": null,
            "grid_area": null,
            "grid_auto_columns": null,
            "grid_auto_flow": null,
            "grid_auto_rows": null,
            "grid_column": null,
            "grid_gap": null,
            "grid_row": null,
            "grid_template_areas": null,
            "grid_template_columns": null,
            "grid_template_rows": null,
            "height": null,
            "justify_content": null,
            "justify_items": null,
            "left": null,
            "margin": null,
            "max_height": null,
            "max_width": null,
            "min_height": null,
            "min_width": null,
            "object_fit": null,
            "object_position": null,
            "order": null,
            "overflow": null,
            "overflow_x": null,
            "overflow_y": null,
            "padding": null,
            "right": null,
            "top": null,
            "visibility": null,
            "width": null
          }
        },
        "091894488e374608bca252db5542ebed": {
          "model_module": "@jupyter-widgets/controls",
          "model_module_version": "1.5.0",
          "model_name": "HTMLModel",
          "state": {
            "_dom_classes": [],
            "_model_module": "@jupyter-widgets/controls",
            "_model_module_version": "1.5.0",
            "_model_name": "HTMLModel",
            "_view_count": null,
            "_view_module": "@jupyter-widgets/controls",
            "_view_module_version": "1.5.0",
            "_view_name": "HTMLView",
            "description": "",
            "description_tooltip": null,
            "layout": "IPY_MODEL_91b74bb3a9ca493c881c2169673e7aa6",
            "placeholder": "​",
            "style": "IPY_MODEL_a2266c36cc234d6da052afa350a86180",
            "value": " 2/2 [00:00&lt;00:00,  7.49it/s]"
          }
        },
        "093b0906b8ee49238604c033092d3cfe": {
          "model_module": "@jupyter-widgets/base",
          "model_module_version": "1.2.0",
          "model_name": "LayoutModel",
          "state": {
            "_model_module": "@jupyter-widgets/base",
            "_model_module_version": "1.2.0",
            "_model_name": "LayoutModel",
            "_view_count": null,
            "_view_module": "@jupyter-widgets/base",
            "_view_module_version": "1.2.0",
            "_view_name": "LayoutView",
            "align_content": null,
            "align_items": null,
            "align_self": null,
            "border": null,
            "bottom": null,
            "display": null,
            "flex": null,
            "flex_flow": null,
            "grid_area": null,
            "grid_auto_columns": null,
            "grid_auto_flow": null,
            "grid_auto_rows": null,
            "grid_column": null,
            "grid_gap": null,
            "grid_row": null,
            "grid_template_areas": null,
            "grid_template_columns": null,
            "grid_template_rows": null,
            "height": null,
            "justify_content": null,
            "justify_items": null,
            "left": null,
            "margin": null,
            "max_height": null,
            "max_width": null,
            "min_height": null,
            "min_width": null,
            "object_fit": null,
            "object_position": null,
            "order": null,
            "overflow": null,
            "overflow_x": null,
            "overflow_y": null,
            "padding": null,
            "right": null,
            "top": null,
            "visibility": null,
            "width": null
          }
        },
        "0b7ef830869b46deab2cc4a62fb27d3c": {
          "model_module": "@jupyter-widgets/base",
          "model_module_version": "1.2.0",
          "model_name": "LayoutModel",
          "state": {
            "_model_module": "@jupyter-widgets/base",
            "_model_module_version": "1.2.0",
            "_model_name": "LayoutModel",
            "_view_count": null,
            "_view_module": "@jupyter-widgets/base",
            "_view_module_version": "1.2.0",
            "_view_name": "LayoutView",
            "align_content": null,
            "align_items": null,
            "align_self": null,
            "border": null,
            "bottom": null,
            "display": null,
            "flex": null,
            "flex_flow": null,
            "grid_area": null,
            "grid_auto_columns": null,
            "grid_auto_flow": null,
            "grid_auto_rows": null,
            "grid_column": null,
            "grid_gap": null,
            "grid_row": null,
            "grid_template_areas": null,
            "grid_template_columns": null,
            "grid_template_rows": null,
            "height": null,
            "justify_content": null,
            "justify_items": null,
            "left": null,
            "margin": null,
            "max_height": null,
            "max_width": null,
            "min_height": null,
            "min_width": null,
            "object_fit": null,
            "object_position": null,
            "order": null,
            "overflow": null,
            "overflow_x": null,
            "overflow_y": null,
            "padding": null,
            "right": null,
            "top": null,
            "visibility": "hidden",
            "width": null
          }
        },
        "0eb8c16ed1dc4615b4930ba426e7776e": {
          "model_module": "@jupyter-widgets/controls",
          "model_module_version": "1.5.0",
          "model_name": "HBoxModel",
          "state": {
            "_dom_classes": [],
            "_model_module": "@jupyter-widgets/controls",
            "_model_module_version": "1.5.0",
            "_model_name": "HBoxModel",
            "_view_count": null,
            "_view_module": "@jupyter-widgets/controls",
            "_view_module_version": "1.5.0",
            "_view_name": "HBoxView",
            "box_style": "",
            "children": [
              "IPY_MODEL_a4b5f6fe838746878f338f63bb091af5",
              "IPY_MODEL_9f1e0b8bd6be47d0a83478d762cc1fe6",
              "IPY_MODEL_dbdd71bddf6d4726bd8cb1180e47085e"
            ],
            "layout": "IPY_MODEL_dd456e1d97584fcab8288f862e8ee668"
          }
        },
        "0fbf94a203254ee8ae117b7969916b32": {
          "model_module": "@jupyter-widgets/controls",
          "model_module_version": "1.5.0",
          "model_name": "HTMLModel",
          "state": {
            "_dom_classes": [],
            "_model_module": "@jupyter-widgets/controls",
            "_model_module_version": "1.5.0",
            "_model_name": "HTMLModel",
            "_view_count": null,
            "_view_module": "@jupyter-widgets/controls",
            "_view_module_version": "1.5.0",
            "_view_name": "HTMLView",
            "description": "",
            "description_tooltip": null,
            "layout": "IPY_MODEL_b0263aa76f3d4f9aa0987a088b225c2f",
            "placeholder": "​",
            "style": "IPY_MODEL_dc5879abca7c458ba26b6cd9b4024818",
            "value": " 6.64k/6.64k [00:00&lt;00:00, 355kB/s]"
          }
        },
        "11cdb893dc554112a5a1057d3fcfd655": {
          "model_module": "@jupyter-widgets/controls",
          "model_module_version": "1.5.0",
          "model_name": "ProgressStyleModel",
          "state": {
            "_model_module": "@jupyter-widgets/controls",
            "_model_module_version": "1.5.0",
            "_model_name": "ProgressStyleModel",
            "_view_count": null,
            "_view_module": "@jupyter-widgets/base",
            "_view_module_version": "1.2.0",
            "_view_name": "StyleView",
            "bar_color": null,
            "description_width": ""
          }
        },
        "1231db2e546a4da3b3b30fd5a54bf61f": {
          "model_module": "@jupyter-widgets/controls",
          "model_module_version": "1.5.0",
          "model_name": "ProgressStyleModel",
          "state": {
            "_model_module": "@jupyter-widgets/controls",
            "_model_module_version": "1.5.0",
            "_model_name": "ProgressStyleModel",
            "_view_count": null,
            "_view_module": "@jupyter-widgets/base",
            "_view_module_version": "1.2.0",
            "_view_name": "StyleView",
            "bar_color": null,
            "description_width": ""
          }
        },
        "158ecccf19a3488ba107fe1d345c38de": {
          "model_module": "@jupyter-widgets/base",
          "model_module_version": "1.2.0",
          "model_name": "LayoutModel",
          "state": {
            "_model_module": "@jupyter-widgets/base",
            "_model_module_version": "1.2.0",
            "_model_name": "LayoutModel",
            "_view_count": null,
            "_view_module": "@jupyter-widgets/base",
            "_view_module_version": "1.2.0",
            "_view_name": "LayoutView",
            "align_content": null,
            "align_items": null,
            "align_self": null,
            "border": null,
            "bottom": null,
            "display": null,
            "flex": null,
            "flex_flow": null,
            "grid_area": null,
            "grid_auto_columns": null,
            "grid_auto_flow": null,
            "grid_auto_rows": null,
            "grid_column": null,
            "grid_gap": null,
            "grid_row": null,
            "grid_template_areas": null,
            "grid_template_columns": null,
            "grid_template_rows": null,
            "height": null,
            "justify_content": null,
            "justify_items": null,
            "left": null,
            "margin": null,
            "max_height": null,
            "max_width": null,
            "min_height": null,
            "min_width": null,
            "object_fit": null,
            "object_position": null,
            "order": null,
            "overflow": null,
            "overflow_x": null,
            "overflow_y": null,
            "padding": null,
            "right": null,
            "top": null,
            "visibility": null,
            "width": null
          }
        },
        "169f007eb3654ddb840b656bcb2f4a5d": {
          "model_module": "@jupyter-widgets/base",
          "model_module_version": "1.2.0",
          "model_name": "LayoutModel",
          "state": {
            "_model_module": "@jupyter-widgets/base",
            "_model_module_version": "1.2.0",
            "_model_name": "LayoutModel",
            "_view_count": null,
            "_view_module": "@jupyter-widgets/base",
            "_view_module_version": "1.2.0",
            "_view_name": "LayoutView",
            "align_content": null,
            "align_items": null,
            "align_self": null,
            "border": null,
            "bottom": null,
            "display": null,
            "flex": null,
            "flex_flow": null,
            "grid_area": null,
            "grid_auto_columns": null,
            "grid_auto_flow": null,
            "grid_auto_rows": null,
            "grid_column": null,
            "grid_gap": null,
            "grid_row": null,
            "grid_template_areas": null,
            "grid_template_columns": null,
            "grid_template_rows": null,
            "height": null,
            "justify_content": null,
            "justify_items": null,
            "left": null,
            "margin": null,
            "max_height": null,
            "max_width": null,
            "min_height": null,
            "min_width": null,
            "object_fit": null,
            "object_position": null,
            "order": null,
            "overflow": null,
            "overflow_x": null,
            "overflow_y": null,
            "padding": null,
            "right": null,
            "top": null,
            "visibility": null,
            "width": null
          }
        },
        "16b364f6f3aa42a28e703d254dd496f1": {
          "model_module": "@jupyter-widgets/base",
          "model_module_version": "1.2.0",
          "model_name": "LayoutModel",
          "state": {
            "_model_module": "@jupyter-widgets/base",
            "_model_module_version": "1.2.0",
            "_model_name": "LayoutModel",
            "_view_count": null,
            "_view_module": "@jupyter-widgets/base",
            "_view_module_version": "1.2.0",
            "_view_name": "LayoutView",
            "align_content": null,
            "align_items": null,
            "align_self": null,
            "border": null,
            "bottom": null,
            "display": null,
            "flex": null,
            "flex_flow": null,
            "grid_area": null,
            "grid_auto_columns": null,
            "grid_auto_flow": null,
            "grid_auto_rows": null,
            "grid_column": null,
            "grid_gap": null,
            "grid_row": null,
            "grid_template_areas": null,
            "grid_template_columns": null,
            "grid_template_rows": null,
            "height": null,
            "justify_content": null,
            "justify_items": null,
            "left": null,
            "margin": null,
            "max_height": null,
            "max_width": null,
            "min_height": null,
            "min_width": null,
            "object_fit": null,
            "object_position": null,
            "order": null,
            "overflow": null,
            "overflow_x": null,
            "overflow_y": null,
            "padding": null,
            "right": null,
            "top": null,
            "visibility": null,
            "width": null
          }
        },
        "1799cea18f624f9fa76fcc1fe54370a6": {
          "model_module": "@jupyter-widgets/controls",
          "model_module_version": "1.5.0",
          "model_name": "ProgressStyleModel",
          "state": {
            "_model_module": "@jupyter-widgets/controls",
            "_model_module_version": "1.5.0",
            "_model_name": "ProgressStyleModel",
            "_view_count": null,
            "_view_module": "@jupyter-widgets/base",
            "_view_module_version": "1.2.0",
            "_view_name": "StyleView",
            "bar_color": null,
            "description_width": ""
          }
        },
        "17fd221cf8e5485d94ff7381ed553064": {
          "model_module": "@jupyter-widgets/base",
          "model_module_version": "1.2.0",
          "model_name": "LayoutModel",
          "state": {
            "_model_module": "@jupyter-widgets/base",
            "_model_module_version": "1.2.0",
            "_model_name": "LayoutModel",
            "_view_count": null,
            "_view_module": "@jupyter-widgets/base",
            "_view_module_version": "1.2.0",
            "_view_name": "LayoutView",
            "align_content": null,
            "align_items": null,
            "align_self": null,
            "border": null,
            "bottom": null,
            "display": null,
            "flex": null,
            "flex_flow": null,
            "grid_area": null,
            "grid_auto_columns": null,
            "grid_auto_flow": null,
            "grid_auto_rows": null,
            "grid_column": null,
            "grid_gap": null,
            "grid_row": null,
            "grid_template_areas": null,
            "grid_template_columns": null,
            "grid_template_rows": null,
            "height": null,
            "justify_content": null,
            "justify_items": null,
            "left": null,
            "margin": null,
            "max_height": null,
            "max_width": null,
            "min_height": null,
            "min_width": null,
            "object_fit": null,
            "object_position": null,
            "order": null,
            "overflow": null,
            "overflow_x": null,
            "overflow_y": null,
            "padding": null,
            "right": null,
            "top": null,
            "visibility": null,
            "width": null
          }
        },
        "187772027e1d422ba595edfe4f970dbf": {
          "model_module": "@jupyter-widgets/controls",
          "model_module_version": "1.5.0",
          "model_name": "FloatProgressModel",
          "state": {
            "_dom_classes": [],
            "_model_module": "@jupyter-widgets/controls",
            "_model_module_version": "1.5.0",
            "_model_name": "FloatProgressModel",
            "_view_count": null,
            "_view_module": "@jupyter-widgets/controls",
            "_view_module_version": "1.5.0",
            "_view_name": "ProgressView",
            "bar_style": "success",
            "description": "",
            "description_tooltip": null,
            "layout": "IPY_MODEL_f51c2d1beb884368975901e711c0d8e3",
            "max": 2,
            "min": 0,
            "orientation": "horizontal",
            "style": "IPY_MODEL_1799cea18f624f9fa76fcc1fe54370a6",
            "value": 2
          }
        },
        "1bb5e080722948f2bb2a82f502c02a84": {
          "model_module": "@jupyter-widgets/controls",
          "model_module_version": "1.5.0",
          "model_name": "HTMLModel",
          "state": {
            "_dom_classes": [],
            "_model_module": "@jupyter-widgets/controls",
            "_model_module_version": "1.5.0",
            "_model_name": "HTMLModel",
            "_view_count": null,
            "_view_module": "@jupyter-widgets/controls",
            "_view_module_version": "1.5.0",
            "_view_name": "HTMLView",
            "description": "",
            "description_tooltip": null,
            "layout": "IPY_MODEL_29dc15bd8752441d892b9a870d6378da",
            "placeholder": "​",
            "style": "IPY_MODEL_45289754043b4eaa8a74770d25adec15",
            "value": "Generating test split: 100%"
          }
        },
        "1d20d63400d64646ae716d4caa804864": {
          "model_module": "@jupyter-widgets/controls",
          "model_module_version": "1.5.0",
          "model_name": "HTMLModel",
          "state": {
            "_dom_classes": [],
            "_model_module": "@jupyter-widgets/controls",
            "_model_module_version": "1.5.0",
            "_model_name": "HTMLModel",
            "_view_count": null,
            "_view_module": "@jupyter-widgets/controls",
            "_view_module_version": "1.5.0",
            "_view_name": "HTMLView",
            "description": "",
            "description_tooltip": null,
            "layout": "IPY_MODEL_033bd60e2b5b4383b78e819bad8e6480",
            "placeholder": "​",
            "style": "IPY_MODEL_869acf6aedec41f69f93909bcd8f4449",
            "value": "Downloading (…)lve/main/config.json: 100%"
          }
        },
        "1f2ad46a67a9499ca831af4628598b3c": {
          "model_module": "@jupyter-widgets/controls",
          "model_module_version": "1.5.0",
          "model_name": "ProgressStyleModel",
          "state": {
            "_model_module": "@jupyter-widgets/controls",
            "_model_module_version": "1.5.0",
            "_model_name": "ProgressStyleModel",
            "_view_count": null,
            "_view_module": "@jupyter-widgets/base",
            "_view_module_version": "1.2.0",
            "_view_name": "StyleView",
            "bar_color": null,
            "description_width": ""
          }
        },
        "1f603cfeec0c429083c0a4656ab19bdc": {
          "model_module": "@jupyter-widgets/controls",
          "model_module_version": "1.5.0",
          "model_name": "HBoxModel",
          "state": {
            "_dom_classes": [],
            "_model_module": "@jupyter-widgets/controls",
            "_model_module_version": "1.5.0",
            "_model_name": "HBoxModel",
            "_view_count": null,
            "_view_module": "@jupyter-widgets/controls",
            "_view_module_version": "1.5.0",
            "_view_name": "HBoxView",
            "box_style": "",
            "children": [
              "IPY_MODEL_d7407a4e18124943be13e5718e86c238",
              "IPY_MODEL_216d2d7bfb504321af2822fcfb72b37a",
              "IPY_MODEL_65f60d7c6f9343f1974fb4d5984a0094"
            ],
            "layout": "IPY_MODEL_5da591ba49b64164a72d9436c63fb2df"
          }
        },
        "216d2d7bfb504321af2822fcfb72b37a": {
          "model_module": "@jupyter-widgets/controls",
          "model_module_version": "1.5.0",
          "model_name": "FloatProgressModel",
          "state": {
            "_dom_classes": [],
            "_model_module": "@jupyter-widgets/controls",
            "_model_module_version": "1.5.0",
            "_model_name": "FloatProgressModel",
            "_view_count": null,
            "_view_module": "@jupyter-widgets/controls",
            "_view_module_version": "1.5.0",
            "_view_name": "ProgressView",
            "bar_style": "success",
            "description": "",
            "description_tooltip": null,
            "layout": "IPY_MODEL_3e48676e6de94893af930f352b2f3a75",
            "max": 52,
            "min": 0,
            "orientation": "horizontal",
            "style": "IPY_MODEL_1f2ad46a67a9499ca831af4628598b3c",
            "value": 52
          }
        },
        "261b06b134ff48c4a38f1dc868ab16f5": {
          "model_module": "@jupyter-widgets/controls",
          "model_module_version": "1.5.0",
          "model_name": "ProgressStyleModel",
          "state": {
            "_model_module": "@jupyter-widgets/controls",
            "_model_module_version": "1.5.0",
            "_model_name": "ProgressStyleModel",
            "_view_count": null,
            "_view_module": "@jupyter-widgets/base",
            "_view_module_version": "1.2.0",
            "_view_name": "StyleView",
            "bar_color": null,
            "description_width": ""
          }
        },
        "29dc15bd8752441d892b9a870d6378da": {
          "model_module": "@jupyter-widgets/base",
          "model_module_version": "1.2.0",
          "model_name": "LayoutModel",
          "state": {
            "_model_module": "@jupyter-widgets/base",
            "_model_module_version": "1.2.0",
            "_model_name": "LayoutModel",
            "_view_count": null,
            "_view_module": "@jupyter-widgets/base",
            "_view_module_version": "1.2.0",
            "_view_name": "LayoutView",
            "align_content": null,
            "align_items": null,
            "align_self": null,
            "border": null,
            "bottom": null,
            "display": null,
            "flex": null,
            "flex_flow": null,
            "grid_area": null,
            "grid_auto_columns": null,
            "grid_auto_flow": null,
            "grid_auto_rows": null,
            "grid_column": null,
            "grid_gap": null,
            "grid_row": null,
            "grid_template_areas": null,
            "grid_template_columns": null,
            "grid_template_rows": null,
            "height": null,
            "justify_content": null,
            "justify_items": null,
            "left": null,
            "margin": null,
            "max_height": null,
            "max_width": null,
            "min_height": null,
            "min_width": null,
            "object_fit": null,
            "object_position": null,
            "order": null,
            "overflow": null,
            "overflow_x": null,
            "overflow_y": null,
            "padding": null,
            "right": null,
            "top": null,
            "visibility": null,
            "width": null
          }
        },
        "2b8f68d6c6ed4bf5916b942bf5256413": {
          "model_module": "@jupyter-widgets/base",
          "model_module_version": "1.2.0",
          "model_name": "LayoutModel",
          "state": {
            "_model_module": "@jupyter-widgets/base",
            "_model_module_version": "1.2.0",
            "_model_name": "LayoutModel",
            "_view_count": null,
            "_view_module": "@jupyter-widgets/base",
            "_view_module_version": "1.2.0",
            "_view_name": "LayoutView",
            "align_content": null,
            "align_items": null,
            "align_self": null,
            "border": null,
            "bottom": null,
            "display": null,
            "flex": null,
            "flex_flow": null,
            "grid_area": null,
            "grid_auto_columns": null,
            "grid_auto_flow": null,
            "grid_auto_rows": null,
            "grid_column": null,
            "grid_gap": null,
            "grid_row": null,
            "grid_template_areas": null,
            "grid_template_columns": null,
            "grid_template_rows": null,
            "height": null,
            "justify_content": null,
            "justify_items": null,
            "left": null,
            "margin": null,
            "max_height": null,
            "max_width": null,
            "min_height": null,
            "min_width": null,
            "object_fit": null,
            "object_position": null,
            "order": null,
            "overflow": null,
            "overflow_x": null,
            "overflow_y": null,
            "padding": null,
            "right": null,
            "top": null,
            "visibility": null,
            "width": null
          }
        },
        "2e8a49eeda0940cc9c09c9c807c3ab31": {
          "model_module": "@jupyter-widgets/controls",
          "model_module_version": "1.5.0",
          "model_name": "HBoxModel",
          "state": {
            "_dom_classes": [],
            "_model_module": "@jupyter-widgets/controls",
            "_model_module_version": "1.5.0",
            "_model_name": "HBoxModel",
            "_view_count": null,
            "_view_module": "@jupyter-widgets/controls",
            "_view_module_version": "1.5.0",
            "_view_name": "HBoxView",
            "box_style": "",
            "children": [
              "IPY_MODEL_ae679172d2254c62980bb1c463594add",
              "IPY_MODEL_8f07db0639b74473a248d26658169cd5",
              "IPY_MODEL_0fbf94a203254ee8ae117b7969916b32"
            ],
            "layout": "IPY_MODEL_85b51ee3dfa64bddadc8d0ceaed68c73"
          }
        },
        "315a671279d54ed2aa6f63e02056af2c": {
          "model_module": "@jupyter-widgets/base",
          "model_module_version": "1.2.0",
          "model_name": "LayoutModel",
          "state": {
            "_model_module": "@jupyter-widgets/base",
            "_model_module_version": "1.2.0",
            "_model_name": "LayoutModel",
            "_view_count": null,
            "_view_module": "@jupyter-widgets/base",
            "_view_module_version": "1.2.0",
            "_view_name": "LayoutView",
            "align_content": null,
            "align_items": null,
            "align_self": null,
            "border": null,
            "bottom": null,
            "display": null,
            "flex": null,
            "flex_flow": null,
            "grid_area": null,
            "grid_auto_columns": null,
            "grid_auto_flow": null,
            "grid_auto_rows": null,
            "grid_column": null,
            "grid_gap": null,
            "grid_row": null,
            "grid_template_areas": null,
            "grid_template_columns": null,
            "grid_template_rows": null,
            "height": null,
            "justify_content": null,
            "justify_items": null,
            "left": null,
            "margin": null,
            "max_height": null,
            "max_width": null,
            "min_height": null,
            "min_width": null,
            "object_fit": null,
            "object_position": null,
            "order": null,
            "overflow": null,
            "overflow_x": null,
            "overflow_y": null,
            "padding": null,
            "right": null,
            "top": null,
            "visibility": null,
            "width": null
          }
        },
        "330c26cfc3e746efb3cdd985f6ec775f": {
          "model_module": "@jupyter-widgets/controls",
          "model_module_version": "1.5.0",
          "model_name": "DescriptionStyleModel",
          "state": {
            "_model_module": "@jupyter-widgets/controls",
            "_model_module_version": "1.5.0",
            "_model_name": "DescriptionStyleModel",
            "_view_count": null,
            "_view_module": "@jupyter-widgets/base",
            "_view_module_version": "1.2.0",
            "_view_name": "StyleView",
            "description_width": ""
          }
        },
        "3465de5cdca24d3cae457cc2d8b3a140": {
          "model_module": "@jupyter-widgets/controls",
          "model_module_version": "1.5.0",
          "model_name": "HTMLModel",
          "state": {
            "_dom_classes": [],
            "_model_module": "@jupyter-widgets/controls",
            "_model_module_version": "1.5.0",
            "_model_name": "HTMLModel",
            "_view_count": null,
            "_view_module": "@jupyter-widgets/controls",
            "_view_module_version": "1.5.0",
            "_view_name": "HTMLView",
            "description": "",
            "description_tooltip": null,
            "layout": "IPY_MODEL_f34029ba6e544d728d15c423c83b4a6a",
            "placeholder": "​",
            "style": "IPY_MODEL_cbdd04cde60841c7bec2a6fec14a1718",
            "value": "100%"
          }
        },
        "34febfa967a047f3ba85b8a002fc42a3": {
          "model_module": "@jupyter-widgets/controls",
          "model_module_version": "1.5.0",
          "model_name": "HTMLModel",
          "state": {
            "_dom_classes": [],
            "_model_module": "@jupyter-widgets/controls",
            "_model_module_version": "1.5.0",
            "_model_name": "HTMLModel",
            "_view_count": null,
            "_view_module": "@jupyter-widgets/controls",
            "_view_module_version": "1.5.0",
            "_view_name": "HTMLView",
            "description": "",
            "description_tooltip": null,
            "layout": "IPY_MODEL_8238a7124a4b4a35be563b3599caf0e0",
            "placeholder": "​",
            "style": "IPY_MODEL_d22e6d14390e4cc4b949580fd305f0aa",
            "value": "100%"
          }
        },
        "3603b0d3defa469dbbe7ced97f3c2c97": {
          "model_module": "@jupyter-widgets/controls",
          "model_module_version": "1.5.0",
          "model_name": "HTMLModel",
          "state": {
            "_dom_classes": [],
            "_model_module": "@jupyter-widgets/controls",
            "_model_module_version": "1.5.0",
            "_model_name": "HTMLModel",
            "_view_count": null,
            "_view_module": "@jupyter-widgets/controls",
            "_view_module_version": "1.5.0",
            "_view_name": "HTMLView",
            "description": "",
            "description_tooltip": null,
            "layout": "IPY_MODEL_093b0906b8ee49238604c033092d3cfe",
            "placeholder": "​",
            "style": "IPY_MODEL_d1f135b4de5f42ce9832692b92792524",
            "value": "Downloading metadata: 100%"
          }
        },
        "366b6f2cc60d4a8e81d35ce68ea51bdf": {
          "model_module": "@jupyter-widgets/base",
          "model_module_version": "1.2.0",
          "model_name": "LayoutModel",
          "state": {
            "_model_module": "@jupyter-widgets/base",
            "_model_module_version": "1.2.0",
            "_model_name": "LayoutModel",
            "_view_count": null,
            "_view_module": "@jupyter-widgets/base",
            "_view_module_version": "1.2.0",
            "_view_name": "LayoutView",
            "align_content": null,
            "align_items": null,
            "align_self": null,
            "border": null,
            "bottom": null,
            "display": null,
            "flex": null,
            "flex_flow": null,
            "grid_area": null,
            "grid_auto_columns": null,
            "grid_auto_flow": null,
            "grid_auto_rows": null,
            "grid_column": null,
            "grid_gap": null,
            "grid_row": null,
            "grid_template_areas": null,
            "grid_template_columns": null,
            "grid_template_rows": null,
            "height": null,
            "justify_content": null,
            "justify_items": null,
            "left": null,
            "margin": null,
            "max_height": null,
            "max_width": null,
            "min_height": null,
            "min_width": null,
            "object_fit": null,
            "object_position": null,
            "order": null,
            "overflow": null,
            "overflow_x": null,
            "overflow_y": null,
            "padding": null,
            "right": null,
            "top": null,
            "visibility": null,
            "width": null
          }
        },
        "376668d06b454205903c705a692958de": {
          "model_module": "@jupyter-widgets/controls",
          "model_module_version": "1.5.0",
          "model_name": "HBoxModel",
          "state": {
            "_dom_classes": [],
            "_model_module": "@jupyter-widgets/controls",
            "_model_module_version": "1.5.0",
            "_model_name": "HBoxModel",
            "_view_count": null,
            "_view_module": "@jupyter-widgets/controls",
            "_view_module_version": "1.5.0",
            "_view_name": "HBoxView",
            "box_style": "",
            "children": [
              "IPY_MODEL_34febfa967a047f3ba85b8a002fc42a3",
              "IPY_MODEL_6a332a2efed84425b37c41f4ec2b57cd",
              "IPY_MODEL_091894488e374608bca252db5542ebed"
            ],
            "layout": "IPY_MODEL_419652923587455dbbf8b2d5a8de24a3"
          }
        },
        "38450121f91e4f61b2b0f95780903a74": {
          "model_module": "@jupyter-widgets/controls",
          "model_module_version": "1.5.0",
          "model_name": "DescriptionStyleModel",
          "state": {
            "_model_module": "@jupyter-widgets/controls",
            "_model_module_version": "1.5.0",
            "_model_name": "DescriptionStyleModel",
            "_view_count": null,
            "_view_module": "@jupyter-widgets/base",
            "_view_module_version": "1.2.0",
            "_view_name": "StyleView",
            "description_width": ""
          }
        },
        "39b3f171c82241aba626f485ace5b371": {
          "model_module": "@jupyter-widgets/controls",
          "model_module_version": "1.5.0",
          "model_name": "ProgressStyleModel",
          "state": {
            "_model_module": "@jupyter-widgets/controls",
            "_model_module_version": "1.5.0",
            "_model_name": "ProgressStyleModel",
            "_view_count": null,
            "_view_module": "@jupyter-widgets/base",
            "_view_module_version": "1.2.0",
            "_view_name": "StyleView",
            "bar_color": null,
            "description_width": ""
          }
        },
        "3e48676e6de94893af930f352b2f3a75": {
          "model_module": "@jupyter-widgets/base",
          "model_module_version": "1.2.0",
          "model_name": "LayoutModel",
          "state": {
            "_model_module": "@jupyter-widgets/base",
            "_model_module_version": "1.2.0",
            "_model_name": "LayoutModel",
            "_view_count": null,
            "_view_module": "@jupyter-widgets/base",
            "_view_module_version": "1.2.0",
            "_view_name": "LayoutView",
            "align_content": null,
            "align_items": null,
            "align_self": null,
            "border": null,
            "bottom": null,
            "display": null,
            "flex": null,
            "flex_flow": null,
            "grid_area": null,
            "grid_auto_columns": null,
            "grid_auto_flow": null,
            "grid_auto_rows": null,
            "grid_column": null,
            "grid_gap": null,
            "grid_row": null,
            "grid_template_areas": null,
            "grid_template_columns": null,
            "grid_template_rows": null,
            "height": null,
            "justify_content": null,
            "justify_items": null,
            "left": null,
            "margin": null,
            "max_height": null,
            "max_width": null,
            "min_height": null,
            "min_width": null,
            "object_fit": null,
            "object_position": null,
            "order": null,
            "overflow": null,
            "overflow_x": null,
            "overflow_y": null,
            "padding": null,
            "right": null,
            "top": null,
            "visibility": null,
            "width": null
          }
        },
        "3fa73086487840f0adda7c7fa6324f05": {
          "model_module": "@jupyter-widgets/base",
          "model_module_version": "1.2.0",
          "model_name": "LayoutModel",
          "state": {
            "_model_module": "@jupyter-widgets/base",
            "_model_module_version": "1.2.0",
            "_model_name": "LayoutModel",
            "_view_count": null,
            "_view_module": "@jupyter-widgets/base",
            "_view_module_version": "1.2.0",
            "_view_name": "LayoutView",
            "align_content": null,
            "align_items": null,
            "align_self": null,
            "border": null,
            "bottom": null,
            "display": null,
            "flex": null,
            "flex_flow": null,
            "grid_area": null,
            "grid_auto_columns": null,
            "grid_auto_flow": null,
            "grid_auto_rows": null,
            "grid_column": null,
            "grid_gap": null,
            "grid_row": null,
            "grid_template_areas": null,
            "grid_template_columns": null,
            "grid_template_rows": null,
            "height": null,
            "justify_content": null,
            "justify_items": null,
            "left": null,
            "margin": null,
            "max_height": null,
            "max_width": null,
            "min_height": null,
            "min_width": null,
            "object_fit": null,
            "object_position": null,
            "order": null,
            "overflow": null,
            "overflow_x": null,
            "overflow_y": null,
            "padding": null,
            "right": null,
            "top": null,
            "visibility": null,
            "width": null
          }
        },
        "419652923587455dbbf8b2d5a8de24a3": {
          "model_module": "@jupyter-widgets/base",
          "model_module_version": "1.2.0",
          "model_name": "LayoutModel",
          "state": {
            "_model_module": "@jupyter-widgets/base",
            "_model_module_version": "1.2.0",
            "_model_name": "LayoutModel",
            "_view_count": null,
            "_view_module": "@jupyter-widgets/base",
            "_view_module_version": "1.2.0",
            "_view_name": "LayoutView",
            "align_content": null,
            "align_items": null,
            "align_self": null,
            "border": null,
            "bottom": null,
            "display": null,
            "flex": null,
            "flex_flow": null,
            "grid_area": null,
            "grid_auto_columns": null,
            "grid_auto_flow": null,
            "grid_auto_rows": null,
            "grid_column": null,
            "grid_gap": null,
            "grid_row": null,
            "grid_template_areas": null,
            "grid_template_columns": null,
            "grid_template_rows": null,
            "height": null,
            "justify_content": null,
            "justify_items": null,
            "left": null,
            "margin": null,
            "max_height": null,
            "max_width": null,
            "min_height": null,
            "min_width": null,
            "object_fit": null,
            "object_position": null,
            "order": null,
            "overflow": null,
            "overflow_x": null,
            "overflow_y": null,
            "padding": null,
            "right": null,
            "top": null,
            "visibility": null,
            "width": null
          }
        },
        "438ed0f033814da3a118df10b71d304a": {
          "model_module": "@jupyter-widgets/controls",
          "model_module_version": "1.5.0",
          "model_name": "DescriptionStyleModel",
          "state": {
            "_model_module": "@jupyter-widgets/controls",
            "_model_module_version": "1.5.0",
            "_model_name": "DescriptionStyleModel",
            "_view_count": null,
            "_view_module": "@jupyter-widgets/base",
            "_view_module_version": "1.2.0",
            "_view_name": "StyleView",
            "description_width": ""
          }
        },
        "45289754043b4eaa8a74770d25adec15": {
          "model_module": "@jupyter-widgets/controls",
          "model_module_version": "1.5.0",
          "model_name": "DescriptionStyleModel",
          "state": {
            "_model_module": "@jupyter-widgets/controls",
            "_model_module_version": "1.5.0",
            "_model_name": "DescriptionStyleModel",
            "_view_count": null,
            "_view_module": "@jupyter-widgets/base",
            "_view_module_version": "1.2.0",
            "_view_name": "StyleView",
            "description_width": ""
          }
        },
        "4556848a2a1841b39c3baa2d7ec53fc6": {
          "model_module": "@jupyter-widgets/base",
          "model_module_version": "1.2.0",
          "model_name": "LayoutModel",
          "state": {
            "_model_module": "@jupyter-widgets/base",
            "_model_module_version": "1.2.0",
            "_model_name": "LayoutModel",
            "_view_count": null,
            "_view_module": "@jupyter-widgets/base",
            "_view_module_version": "1.2.0",
            "_view_name": "LayoutView",
            "align_content": null,
            "align_items": null,
            "align_self": null,
            "border": null,
            "bottom": null,
            "display": null,
            "flex": null,
            "flex_flow": null,
            "grid_area": null,
            "grid_auto_columns": null,
            "grid_auto_flow": null,
            "grid_auto_rows": null,
            "grid_column": null,
            "grid_gap": null,
            "grid_row": null,
            "grid_template_areas": null,
            "grid_template_columns": null,
            "grid_template_rows": null,
            "height": null,
            "justify_content": null,
            "justify_items": null,
            "left": null,
            "margin": null,
            "max_height": null,
            "max_width": null,
            "min_height": null,
            "min_width": null,
            "object_fit": null,
            "object_position": null,
            "order": null,
            "overflow": null,
            "overflow_x": null,
            "overflow_y": null,
            "padding": null,
            "right": null,
            "top": null,
            "visibility": null,
            "width": null
          }
        },
        "47a8860e179145d498e85b13463fda69": {
          "model_module": "@jupyter-widgets/base",
          "model_module_version": "1.2.0",
          "model_name": "LayoutModel",
          "state": {
            "_model_module": "@jupyter-widgets/base",
            "_model_module_version": "1.2.0",
            "_model_name": "LayoutModel",
            "_view_count": null,
            "_view_module": "@jupyter-widgets/base",
            "_view_module_version": "1.2.0",
            "_view_name": "LayoutView",
            "align_content": null,
            "align_items": null,
            "align_self": null,
            "border": null,
            "bottom": null,
            "display": null,
            "flex": null,
            "flex_flow": null,
            "grid_area": null,
            "grid_auto_columns": null,
            "grid_auto_flow": null,
            "grid_auto_rows": null,
            "grid_column": null,
            "grid_gap": null,
            "grid_row": null,
            "grid_template_areas": null,
            "grid_template_columns": null,
            "grid_template_rows": null,
            "height": null,
            "justify_content": null,
            "justify_items": null,
            "left": null,
            "margin": null,
            "max_height": null,
            "max_width": null,
            "min_height": null,
            "min_width": null,
            "object_fit": null,
            "object_position": null,
            "order": null,
            "overflow": null,
            "overflow_x": null,
            "overflow_y": null,
            "padding": null,
            "right": null,
            "top": null,
            "visibility": null,
            "width": null
          }
        },
        "4910bbd4b4f24e6486afa36d58786d3b": {
          "model_module": "@jupyter-widgets/base",
          "model_module_version": "1.2.0",
          "model_name": "LayoutModel",
          "state": {
            "_model_module": "@jupyter-widgets/base",
            "_model_module_version": "1.2.0",
            "_model_name": "LayoutModel",
            "_view_count": null,
            "_view_module": "@jupyter-widgets/base",
            "_view_module_version": "1.2.0",
            "_view_name": "LayoutView",
            "align_content": null,
            "align_items": null,
            "align_self": null,
            "border": null,
            "bottom": null,
            "display": null,
            "flex": null,
            "flex_flow": null,
            "grid_area": null,
            "grid_auto_columns": null,
            "grid_auto_flow": null,
            "grid_auto_rows": null,
            "grid_column": null,
            "grid_gap": null,
            "grid_row": null,
            "grid_template_areas": null,
            "grid_template_columns": null,
            "grid_template_rows": null,
            "height": null,
            "justify_content": null,
            "justify_items": null,
            "left": null,
            "margin": null,
            "max_height": null,
            "max_width": null,
            "min_height": null,
            "min_width": null,
            "object_fit": null,
            "object_position": null,
            "order": null,
            "overflow": null,
            "overflow_x": null,
            "overflow_y": null,
            "padding": null,
            "right": null,
            "top": null,
            "visibility": null,
            "width": null
          }
        },
        "4c1284dd4c4d480291bf1bbe99933e08": {
          "model_module": "@jupyter-widgets/controls",
          "model_module_version": "1.5.0",
          "model_name": "FloatProgressModel",
          "state": {
            "_dom_classes": [],
            "_model_module": "@jupyter-widgets/controls",
            "_model_module_version": "1.5.0",
            "_model_name": "FloatProgressModel",
            "_view_count": null,
            "_view_module": "@jupyter-widgets/controls",
            "_view_module_version": "1.5.0",
            "_view_name": "ProgressView",
            "bar_style": "success",
            "description": "",
            "description_tooltip": null,
            "layout": "IPY_MODEL_da5ad0d866684040aab958f0f1f1f4a3",
            "max": 2447305,
            "min": 0,
            "orientation": "horizontal",
            "style": "IPY_MODEL_e4288bdab34e4491b8e0f6b240ed4cfa",
            "value": 2447305
          }
        },
        "4d0b0b70fc76434dad6bcbe4bfe540a7": {
          "model_module": "@jupyter-widgets/controls",
          "model_module_version": "1.5.0",
          "model_name": "DescriptionStyleModel",
          "state": {
            "_model_module": "@jupyter-widgets/controls",
            "_model_module_version": "1.5.0",
            "_model_name": "DescriptionStyleModel",
            "_view_count": null,
            "_view_module": "@jupyter-widgets/base",
            "_view_module_version": "1.2.0",
            "_view_name": "StyleView",
            "description_width": ""
          }
        },
        "4d8bdbca3c7c4269bc0a7b4eb26c93bc": {
          "model_module": "@jupyter-widgets/controls",
          "model_module_version": "1.5.0",
          "model_name": "ProgressStyleModel",
          "state": {
            "_model_module": "@jupyter-widgets/controls",
            "_model_module_version": "1.5.0",
            "_model_name": "ProgressStyleModel",
            "_view_count": null,
            "_view_module": "@jupyter-widgets/base",
            "_view_module_version": "1.2.0",
            "_view_name": "StyleView",
            "bar_color": null,
            "description_width": ""
          }
        },
        "4fc094f616524947bd3e89f584afd9b6": {
          "model_module": "@jupyter-widgets/controls",
          "model_module_version": "1.5.0",
          "model_name": "FloatProgressModel",
          "state": {
            "_dom_classes": [],
            "_model_module": "@jupyter-widgets/controls",
            "_model_module_version": "1.5.0",
            "_model_name": "FloatProgressModel",
            "_view_count": null,
            "_view_module": "@jupyter-widgets/controls",
            "_view_module_version": "1.5.0",
            "_view_name": "ProgressView",
            "bar_style": "success",
            "description": "",
            "description_tooltip": null,
            "layout": "IPY_MODEL_80118bf8523647ec900cc8fc0a6e30c5",
            "max": 4111,
            "min": 0,
            "orientation": "horizontal",
            "style": "IPY_MODEL_b9eba3e59fea4fddb039d469aa7a6b48",
            "value": 4111
          }
        },
        "52148e7234de4cdd8f4f104cdb341da9": {
          "model_module": "@jupyter-widgets/controls",
          "model_module_version": "1.5.0",
          "model_name": "DescriptionStyleModel",
          "state": {
            "_model_module": "@jupyter-widgets/controls",
            "_model_module_version": "1.5.0",
            "_model_name": "DescriptionStyleModel",
            "_view_count": null,
            "_view_module": "@jupyter-widgets/base",
            "_view_module_version": "1.2.0",
            "_view_name": "StyleView",
            "description_width": ""
          }
        },
        "5235b4c6084f45d786ea6f600725e535": {
          "model_module": "@jupyter-widgets/base",
          "model_module_version": "1.2.0",
          "model_name": "LayoutModel",
          "state": {
            "_model_module": "@jupyter-widgets/base",
            "_model_module_version": "1.2.0",
            "_model_name": "LayoutModel",
            "_view_count": null,
            "_view_module": "@jupyter-widgets/base",
            "_view_module_version": "1.2.0",
            "_view_name": "LayoutView",
            "align_content": null,
            "align_items": null,
            "align_self": null,
            "border": null,
            "bottom": null,
            "display": null,
            "flex": null,
            "flex_flow": null,
            "grid_area": null,
            "grid_auto_columns": null,
            "grid_auto_flow": null,
            "grid_auto_rows": null,
            "grid_column": null,
            "grid_gap": null,
            "grid_row": null,
            "grid_template_areas": null,
            "grid_template_columns": null,
            "grid_template_rows": null,
            "height": null,
            "justify_content": null,
            "justify_items": null,
            "left": null,
            "margin": null,
            "max_height": null,
            "max_width": null,
            "min_height": null,
            "min_width": null,
            "object_fit": null,
            "object_position": null,
            "order": null,
            "overflow": null,
            "overflow_x": null,
            "overflow_y": null,
            "padding": null,
            "right": null,
            "top": null,
            "visibility": null,
            "width": null
          }
        },
        "59493af7e8dd485996e196d7d0c06f33": {
          "model_module": "@jupyter-widgets/controls",
          "model_module_version": "1.5.0",
          "model_name": "DescriptionStyleModel",
          "state": {
            "_model_module": "@jupyter-widgets/controls",
            "_model_module_version": "1.5.0",
            "_model_name": "DescriptionStyleModel",
            "_view_count": null,
            "_view_module": "@jupyter-widgets/base",
            "_view_module_version": "1.2.0",
            "_view_name": "StyleView",
            "description_width": ""
          }
        },
        "5a793409ec69431bb2e73b8ec2f01181": {
          "model_module": "@jupyter-widgets/base",
          "model_module_version": "1.2.0",
          "model_name": "LayoutModel",
          "state": {
            "_model_module": "@jupyter-widgets/base",
            "_model_module_version": "1.2.0",
            "_model_name": "LayoutModel",
            "_view_count": null,
            "_view_module": "@jupyter-widgets/base",
            "_view_module_version": "1.2.0",
            "_view_name": "LayoutView",
            "align_content": null,
            "align_items": null,
            "align_self": null,
            "border": null,
            "bottom": null,
            "display": null,
            "flex": null,
            "flex_flow": null,
            "grid_area": null,
            "grid_auto_columns": null,
            "grid_auto_flow": null,
            "grid_auto_rows": null,
            "grid_column": null,
            "grid_gap": null,
            "grid_row": null,
            "grid_template_areas": null,
            "grid_template_columns": null,
            "grid_template_rows": null,
            "height": null,
            "justify_content": null,
            "justify_items": null,
            "left": null,
            "margin": null,
            "max_height": null,
            "max_width": null,
            "min_height": null,
            "min_width": null,
            "object_fit": null,
            "object_position": null,
            "order": null,
            "overflow": null,
            "overflow_x": null,
            "overflow_y": null,
            "padding": null,
            "right": null,
            "top": null,
            "visibility": null,
            "width": null
          }
        },
        "5da591ba49b64164a72d9436c63fb2df": {
          "model_module": "@jupyter-widgets/base",
          "model_module_version": "1.2.0",
          "model_name": "LayoutModel",
          "state": {
            "_model_module": "@jupyter-widgets/base",
            "_model_module_version": "1.2.0",
            "_model_name": "LayoutModel",
            "_view_count": null,
            "_view_module": "@jupyter-widgets/base",
            "_view_module_version": "1.2.0",
            "_view_name": "LayoutView",
            "align_content": null,
            "align_items": null,
            "align_self": null,
            "border": null,
            "bottom": null,
            "display": null,
            "flex": null,
            "flex_flow": null,
            "grid_area": null,
            "grid_auto_columns": null,
            "grid_auto_flow": null,
            "grid_auto_rows": null,
            "grid_column": null,
            "grid_gap": null,
            "grid_row": null,
            "grid_template_areas": null,
            "grid_template_columns": null,
            "grid_template_rows": null,
            "height": null,
            "justify_content": null,
            "justify_items": null,
            "left": null,
            "margin": null,
            "max_height": null,
            "max_width": null,
            "min_height": null,
            "min_width": null,
            "object_fit": null,
            "object_position": null,
            "order": null,
            "overflow": null,
            "overflow_x": null,
            "overflow_y": null,
            "padding": null,
            "right": null,
            "top": null,
            "visibility": null,
            "width": null
          }
        },
        "609381e2432a48afa8cbcf70f153c681": {
          "model_module": "@jupyter-widgets/controls",
          "model_module_version": "1.5.0",
          "model_name": "DescriptionStyleModel",
          "state": {
            "_model_module": "@jupyter-widgets/controls",
            "_model_module_version": "1.5.0",
            "_model_name": "DescriptionStyleModel",
            "_view_count": null,
            "_view_module": "@jupyter-widgets/base",
            "_view_module_version": "1.2.0",
            "_view_name": "StyleView",
            "description_width": ""
          }
        },
        "62f6b56cc5c8495c8448f306d3d14f55": {
          "model_module": "@jupyter-widgets/controls",
          "model_module_version": "1.5.0",
          "model_name": "FloatProgressModel",
          "state": {
            "_dom_classes": [],
            "_model_module": "@jupyter-widgets/controls",
            "_model_module_version": "1.5.0",
            "_model_name": "FloatProgressModel",
            "_view_count": null,
            "_view_module": "@jupyter-widgets/controls",
            "_view_module_version": "1.5.0",
            "_view_name": "ProgressView",
            "bar_style": "",
            "description": "",
            "description_tooltip": null,
            "layout": "IPY_MODEL_7dc83c11b5294686819788c75be929ca",
            "max": 400000,
            "min": 0,
            "orientation": "horizontal",
            "style": "IPY_MODEL_39b3f171c82241aba626f485ace5b371",
            "value": 400000
          }
        },
        "65f60d7c6f9343f1974fb4d5984a0094": {
          "model_module": "@jupyter-widgets/controls",
          "model_module_version": "1.5.0",
          "model_name": "HTMLModel",
          "state": {
            "_dom_classes": [],
            "_model_module": "@jupyter-widgets/controls",
            "_model_module_version": "1.5.0",
            "_model_name": "HTMLModel",
            "_view_count": null,
            "_view_module": "@jupyter-widgets/controls",
            "_view_module_version": "1.5.0",
            "_view_name": "HTMLView",
            "description": "",
            "description_tooltip": null,
            "layout": "IPY_MODEL_abcc8f3d7f51487db1290bd7d8c46bee",
            "placeholder": "​",
            "style": "IPY_MODEL_f9c73e26998a424c9e3b4deea513306a",
            "value": " 52.0/52.0 [00:00&lt;00:00, 4.67kB/s]"
          }
        },
        "67cf2bc031b74228b9071e2406543fb9": {
          "model_module": "@jupyter-widgets/controls",
          "model_module_version": "1.5.0",
          "model_name": "HBoxModel",
          "state": {
            "_dom_classes": [],
            "_model_module": "@jupyter-widgets/controls",
            "_model_module_version": "1.5.0",
            "_model_name": "HBoxModel",
            "_view_count": null,
            "_view_module": "@jupyter-widgets/controls",
            "_view_module_version": "1.5.0",
            "_view_name": "HBoxView",
            "box_style": "",
            "children": [
              "IPY_MODEL_3465de5cdca24d3cae457cc2d8b3a140",
              "IPY_MODEL_9974ef6e3c014303b5e88b5ddcb34cdf",
              "IPY_MODEL_c66b196624be430bb05ed6ca94a244a9"
            ],
            "layout": "IPY_MODEL_86909169dda74091b9a0e48d27ebca07"
          }
        },
        "6a2e5ac2f5d94de4a705b806c380e6f9": {
          "model_module": "@jupyter-widgets/base",
          "model_module_version": "1.2.0",
          "model_name": "LayoutModel",
          "state": {
            "_model_module": "@jupyter-widgets/base",
            "_model_module_version": "1.2.0",
            "_model_name": "LayoutModel",
            "_view_count": null,
            "_view_module": "@jupyter-widgets/base",
            "_view_module_version": "1.2.0",
            "_view_name": "LayoutView",
            "align_content": null,
            "align_items": null,
            "align_self": null,
            "border": null,
            "bottom": null,
            "display": null,
            "flex": null,
            "flex_flow": null,
            "grid_area": null,
            "grid_auto_columns": null,
            "grid_auto_flow": null,
            "grid_auto_rows": null,
            "grid_column": null,
            "grid_gap": null,
            "grid_row": null,
            "grid_template_areas": null,
            "grid_template_columns": null,
            "grid_template_rows": null,
            "height": null,
            "justify_content": null,
            "justify_items": null,
            "left": null,
            "margin": null,
            "max_height": null,
            "max_width": null,
            "min_height": null,
            "min_width": null,
            "object_fit": null,
            "object_position": null,
            "order": null,
            "overflow": null,
            "overflow_x": null,
            "overflow_y": null,
            "padding": null,
            "right": null,
            "top": null,
            "visibility": null,
            "width": null
          }
        },
        "6a332a2efed84425b37c41f4ec2b57cd": {
          "model_module": "@jupyter-widgets/controls",
          "model_module_version": "1.5.0",
          "model_name": "FloatProgressModel",
          "state": {
            "_dom_classes": [],
            "_model_module": "@jupyter-widgets/controls",
            "_model_module_version": "1.5.0",
            "_model_name": "FloatProgressModel",
            "_view_count": null,
            "_view_module": "@jupyter-widgets/controls",
            "_view_module_version": "1.5.0",
            "_view_name": "ProgressView",
            "bar_style": "success",
            "description": "",
            "description_tooltip": null,
            "layout": "IPY_MODEL_885c7f553abc4d538137cda262db9c9b",
            "max": 2,
            "min": 0,
            "orientation": "horizontal",
            "style": "IPY_MODEL_ba99f3b268d3424ca731d51aba6e3dec",
            "value": 2
          }
        },
        "6d0a2b9eec3844ff8f68db27010b6662": {
          "model_module": "@jupyter-widgets/controls",
          "model_module_version": "1.5.0",
          "model_name": "HTMLModel",
          "state": {
            "_dom_classes": [],
            "_model_module": "@jupyter-widgets/controls",
            "_model_module_version": "1.5.0",
            "_model_name": "HTMLModel",
            "_view_count": null,
            "_view_module": "@jupyter-widgets/controls",
            "_view_module_version": "1.5.0",
            "_view_name": "HTMLView",
            "description": "",
            "description_tooltip": null,
            "layout": "IPY_MODEL_2b8f68d6c6ed4bf5916b942bf5256413",
            "placeholder": "​",
            "style": "IPY_MODEL_f06d977a96b74775ad306c7df60a40e3",
            "value": "Downloading builder script: 100%"
          }
        },
        "70c89a95594b45209e26c4e6b13b96ff": {
          "model_module": "@jupyter-widgets/controls",
          "model_module_version": "1.5.0",
          "model_name": "HBoxModel",
          "state": {
            "_dom_classes": [],
            "_model_module": "@jupyter-widgets/controls",
            "_model_module_version": "1.5.0",
            "_model_name": "HBoxModel",
            "_view_count": null,
            "_view_module": "@jupyter-widgets/controls",
            "_view_module_version": "1.5.0",
            "_view_name": "HBoxView",
            "box_style": "",
            "children": [
              "IPY_MODEL_d4116da097cc4b8998edddd0cc8908d0",
              "IPY_MODEL_d7418aac8d34474ab84b90e317f442c6",
              "IPY_MODEL_7861ef61d2ba4f33ab4a389702176a78"
            ],
            "layout": "IPY_MODEL_0b7ef830869b46deab2cc4a62fb27d3c"
          }
        },
        "71412d6b9553449ea57e3791bfeebf53": {
          "model_module": "@jupyter-widgets/base",
          "model_module_version": "1.2.0",
          "model_name": "LayoutModel",
          "state": {
            "_model_module": "@jupyter-widgets/base",
            "_model_module_version": "1.2.0",
            "_model_name": "LayoutModel",
            "_view_count": null,
            "_view_module": "@jupyter-widgets/base",
            "_view_module_version": "1.2.0",
            "_view_name": "LayoutView",
            "align_content": null,
            "align_items": null,
            "align_self": null,
            "border": null,
            "bottom": null,
            "display": null,
            "flex": null,
            "flex_flow": null,
            "grid_area": null,
            "grid_auto_columns": null,
            "grid_auto_flow": null,
            "grid_auto_rows": null,
            "grid_column": null,
            "grid_gap": null,
            "grid_row": null,
            "grid_template_areas": null,
            "grid_template_columns": null,
            "grid_template_rows": null,
            "height": null,
            "justify_content": null,
            "justify_items": null,
            "left": null,
            "margin": null,
            "max_height": null,
            "max_width": null,
            "min_height": null,
            "min_width": null,
            "object_fit": null,
            "object_position": null,
            "order": null,
            "overflow": null,
            "overflow_x": null,
            "overflow_y": null,
            "padding": null,
            "right": null,
            "top": null,
            "visibility": null,
            "width": null
          }
        },
        "74161e9acfc84c1cb95eba2883c26e0b": {
          "model_module": "@jupyter-widgets/controls",
          "model_module_version": "1.5.0",
          "model_name": "HBoxModel",
          "state": {
            "_dom_classes": [],
            "_model_module": "@jupyter-widgets/controls",
            "_model_module_version": "1.5.0",
            "_model_name": "HBoxModel",
            "_view_count": null,
            "_view_module": "@jupyter-widgets/controls",
            "_view_module_version": "1.5.0",
            "_view_name": "HBoxView",
            "box_style": "",
            "children": [
              "IPY_MODEL_1bb5e080722948f2bb2a82f502c02a84",
              "IPY_MODEL_62f6b56cc5c8495c8448f306d3d14f55",
              "IPY_MODEL_018cdb3cbe554349bb90d0426e100641"
            ],
            "layout": "IPY_MODEL_787ac817fb40441187881d99a39f1ed3"
          }
        },
        "7861ef61d2ba4f33ab4a389702176a78": {
          "model_module": "@jupyter-widgets/controls",
          "model_module_version": "1.5.0",
          "model_name": "HTMLModel",
          "state": {
            "_dom_classes": [],
            "_model_module": "@jupyter-widgets/controls",
            "_model_module_version": "1.5.0",
            "_model_name": "HTMLModel",
            "_view_count": null,
            "_view_module": "@jupyter-widgets/controls",
            "_view_module_version": "1.5.0",
            "_view_name": "HTMLView",
            "description": "",
            "description_tooltip": null,
            "layout": "IPY_MODEL_71412d6b9553449ea57e3791bfeebf53",
            "placeholder": "​",
            "style": "IPY_MODEL_f09ee335136847c790c2f0bdeb71a305",
            "value": " 3600000/3600000 [02:42&lt;00:00, 27236.40 examples/s]"
          }
        },
        "787ac817fb40441187881d99a39f1ed3": {
          "model_module": "@jupyter-widgets/base",
          "model_module_version": "1.2.0",
          "model_name": "LayoutModel",
          "state": {
            "_model_module": "@jupyter-widgets/base",
            "_model_module_version": "1.2.0",
            "_model_name": "LayoutModel",
            "_view_count": null,
            "_view_module": "@jupyter-widgets/base",
            "_view_module_version": "1.2.0",
            "_view_name": "LayoutView",
            "align_content": null,
            "align_items": null,
            "align_self": null,
            "border": null,
            "bottom": null,
            "display": null,
            "flex": null,
            "flex_flow": null,
            "grid_area": null,
            "grid_auto_columns": null,
            "grid_auto_flow": null,
            "grid_auto_rows": null,
            "grid_column": null,
            "grid_gap": null,
            "grid_row": null,
            "grid_template_areas": null,
            "grid_template_columns": null,
            "grid_template_rows": null,
            "height": null,
            "justify_content": null,
            "justify_items": null,
            "left": null,
            "margin": null,
            "max_height": null,
            "max_width": null,
            "min_height": null,
            "min_width": null,
            "object_fit": null,
            "object_position": null,
            "order": null,
            "overflow": null,
            "overflow_x": null,
            "overflow_y": null,
            "padding": null,
            "right": null,
            "top": null,
            "visibility": "hidden",
            "width": null
          }
        },
        "7ce86dde5e38485b8a67a18f766ba417": {
          "model_module": "@jupyter-widgets/controls",
          "model_module_version": "1.5.0",
          "model_name": "ProgressStyleModel",
          "state": {
            "_model_module": "@jupyter-widgets/controls",
            "_model_module_version": "1.5.0",
            "_model_name": "ProgressStyleModel",
            "_view_count": null,
            "_view_module": "@jupyter-widgets/base",
            "_view_module_version": "1.2.0",
            "_view_name": "StyleView",
            "bar_color": null,
            "description_width": ""
          }
        },
        "7dc83c11b5294686819788c75be929ca": {
          "model_module": "@jupyter-widgets/base",
          "model_module_version": "1.2.0",
          "model_name": "LayoutModel",
          "state": {
            "_model_module": "@jupyter-widgets/base",
            "_model_module_version": "1.2.0",
            "_model_name": "LayoutModel",
            "_view_count": null,
            "_view_module": "@jupyter-widgets/base",
            "_view_module_version": "1.2.0",
            "_view_name": "LayoutView",
            "align_content": null,
            "align_items": null,
            "align_self": null,
            "border": null,
            "bottom": null,
            "display": null,
            "flex": null,
            "flex_flow": null,
            "grid_area": null,
            "grid_auto_columns": null,
            "grid_auto_flow": null,
            "grid_auto_rows": null,
            "grid_column": null,
            "grid_gap": null,
            "grid_row": null,
            "grid_template_areas": null,
            "grid_template_columns": null,
            "grid_template_rows": null,
            "height": null,
            "justify_content": null,
            "justify_items": null,
            "left": null,
            "margin": null,
            "max_height": null,
            "max_width": null,
            "min_height": null,
            "min_width": null,
            "object_fit": null,
            "object_position": null,
            "order": null,
            "overflow": null,
            "overflow_x": null,
            "overflow_y": null,
            "padding": null,
            "right": null,
            "top": null,
            "visibility": null,
            "width": null
          }
        },
        "7feee0ea3e734ed089f86595615e50ae": {
          "model_module": "@jupyter-widgets/controls",
          "model_module_version": "1.5.0",
          "model_name": "DescriptionStyleModel",
          "state": {
            "_model_module": "@jupyter-widgets/controls",
            "_model_module_version": "1.5.0",
            "_model_name": "DescriptionStyleModel",
            "_view_count": null,
            "_view_module": "@jupyter-widgets/base",
            "_view_module_version": "1.2.0",
            "_view_name": "StyleView",
            "description_width": ""
          }
        },
        "80118bf8523647ec900cc8fc0a6e30c5": {
          "model_module": "@jupyter-widgets/base",
          "model_module_version": "1.2.0",
          "model_name": "LayoutModel",
          "state": {
            "_model_module": "@jupyter-widgets/base",
            "_model_module_version": "1.2.0",
            "_model_name": "LayoutModel",
            "_view_count": null,
            "_view_module": "@jupyter-widgets/base",
            "_view_module_version": "1.2.0",
            "_view_name": "LayoutView",
            "align_content": null,
            "align_items": null,
            "align_self": null,
            "border": null,
            "bottom": null,
            "display": null,
            "flex": null,
            "flex_flow": null,
            "grid_area": null,
            "grid_auto_columns": null,
            "grid_auto_flow": null,
            "grid_auto_rows": null,
            "grid_column": null,
            "grid_gap": null,
            "grid_row": null,
            "grid_template_areas": null,
            "grid_template_columns": null,
            "grid_template_rows": null,
            "height": null,
            "justify_content": null,
            "justify_items": null,
            "left": null,
            "margin": null,
            "max_height": null,
            "max_width": null,
            "min_height": null,
            "min_width": null,
            "object_fit": null,
            "object_position": null,
            "order": null,
            "overflow": null,
            "overflow_x": null,
            "overflow_y": null,
            "padding": null,
            "right": null,
            "top": null,
            "visibility": null,
            "width": null
          }
        },
        "8238a7124a4b4a35be563b3599caf0e0": {
          "model_module": "@jupyter-widgets/base",
          "model_module_version": "1.2.0",
          "model_name": "LayoutModel",
          "state": {
            "_model_module": "@jupyter-widgets/base",
            "_model_module_version": "1.2.0",
            "_model_name": "LayoutModel",
            "_view_count": null,
            "_view_module": "@jupyter-widgets/base",
            "_view_module_version": "1.2.0",
            "_view_name": "LayoutView",
            "align_content": null,
            "align_items": null,
            "align_self": null,
            "border": null,
            "bottom": null,
            "display": null,
            "flex": null,
            "flex_flow": null,
            "grid_area": null,
            "grid_auto_columns": null,
            "grid_auto_flow": null,
            "grid_auto_rows": null,
            "grid_column": null,
            "grid_gap": null,
            "grid_row": null,
            "grid_template_areas": null,
            "grid_template_columns": null,
            "grid_template_rows": null,
            "height": null,
            "justify_content": null,
            "justify_items": null,
            "left": null,
            "margin": null,
            "max_height": null,
            "max_width": null,
            "min_height": null,
            "min_width": null,
            "object_fit": null,
            "object_position": null,
            "order": null,
            "overflow": null,
            "overflow_x": null,
            "overflow_y": null,
            "padding": null,
            "right": null,
            "top": null,
            "visibility": null,
            "width": null
          }
        },
        "82862212dc57431caf0bbcbc4400a603": {
          "model_module": "@jupyter-widgets/controls",
          "model_module_version": "1.5.0",
          "model_name": "HBoxModel",
          "state": {
            "_dom_classes": [],
            "_model_module": "@jupyter-widgets/controls",
            "_model_module_version": "1.5.0",
            "_model_name": "HBoxModel",
            "_view_count": null,
            "_view_module": "@jupyter-widgets/controls",
            "_view_module_version": "1.5.0",
            "_view_name": "HBoxView",
            "box_style": "",
            "children": [
              "IPY_MODEL_1d20d63400d64646ae716d4caa804864",
              "IPY_MODEL_0036ddf2fbf04f65a1eec6c66daf8aee",
              "IPY_MODEL_abe4d2cfe24b41aeaf7159cd516889b3"
            ],
            "layout": "IPY_MODEL_fb77a6203f924e6db1fdc8444eca0a39"
          }
        },
        "8312706f39a342fa9c1f6dd7e9ebe52c": {
          "model_module": "@jupyter-widgets/controls",
          "model_module_version": "1.5.0",
          "model_name": "DescriptionStyleModel",
          "state": {
            "_model_module": "@jupyter-widgets/controls",
            "_model_module_version": "1.5.0",
            "_model_name": "DescriptionStyleModel",
            "_view_count": null,
            "_view_module": "@jupyter-widgets/base",
            "_view_module_version": "1.2.0",
            "_view_name": "StyleView",
            "description_width": ""
          }
        },
        "85b51ee3dfa64bddadc8d0ceaed68c73": {
          "model_module": "@jupyter-widgets/base",
          "model_module_version": "1.2.0",
          "model_name": "LayoutModel",
          "state": {
            "_model_module": "@jupyter-widgets/base",
            "_model_module_version": "1.2.0",
            "_model_name": "LayoutModel",
            "_view_count": null,
            "_view_module": "@jupyter-widgets/base",
            "_view_module_version": "1.2.0",
            "_view_name": "LayoutView",
            "align_content": null,
            "align_items": null,
            "align_self": null,
            "border": null,
            "bottom": null,
            "display": null,
            "flex": null,
            "flex_flow": null,
            "grid_area": null,
            "grid_auto_columns": null,
            "grid_auto_flow": null,
            "grid_auto_rows": null,
            "grid_column": null,
            "grid_gap": null,
            "grid_row": null,
            "grid_template_areas": null,
            "grid_template_columns": null,
            "grid_template_rows": null,
            "height": null,
            "justify_content": null,
            "justify_items": null,
            "left": null,
            "margin": null,
            "max_height": null,
            "max_width": null,
            "min_height": null,
            "min_width": null,
            "object_fit": null,
            "object_position": null,
            "order": null,
            "overflow": null,
            "overflow_x": null,
            "overflow_y": null,
            "padding": null,
            "right": null,
            "top": null,
            "visibility": null,
            "width": null
          }
        },
        "86909169dda74091b9a0e48d27ebca07": {
          "model_module": "@jupyter-widgets/base",
          "model_module_version": "1.2.0",
          "model_name": "LayoutModel",
          "state": {
            "_model_module": "@jupyter-widgets/base",
            "_model_module_version": "1.2.0",
            "_model_name": "LayoutModel",
            "_view_count": null,
            "_view_module": "@jupyter-widgets/base",
            "_view_module_version": "1.2.0",
            "_view_name": "LayoutView",
            "align_content": null,
            "align_items": null,
            "align_self": null,
            "border": null,
            "bottom": null,
            "display": null,
            "flex": null,
            "flex_flow": null,
            "grid_area": null,
            "grid_auto_columns": null,
            "grid_auto_flow": null,
            "grid_auto_rows": null,
            "grid_column": null,
            "grid_gap": null,
            "grid_row": null,
            "grid_template_areas": null,
            "grid_template_columns": null,
            "grid_template_rows": null,
            "height": null,
            "justify_content": null,
            "justify_items": null,
            "left": null,
            "margin": null,
            "max_height": null,
            "max_width": null,
            "min_height": null,
            "min_width": null,
            "object_fit": null,
            "object_position": null,
            "order": null,
            "overflow": null,
            "overflow_x": null,
            "overflow_y": null,
            "padding": null,
            "right": null,
            "top": null,
            "visibility": null,
            "width": null
          }
        },
        "869acf6aedec41f69f93909bcd8f4449": {
          "model_module": "@jupyter-widgets/controls",
          "model_module_version": "1.5.0",
          "model_name": "DescriptionStyleModel",
          "state": {
            "_model_module": "@jupyter-widgets/controls",
            "_model_module_version": "1.5.0",
            "_model_name": "DescriptionStyleModel",
            "_view_count": null,
            "_view_module": "@jupyter-widgets/base",
            "_view_module_version": "1.2.0",
            "_view_name": "StyleView",
            "description_width": ""
          }
        },
        "885c7f553abc4d538137cda262db9c9b": {
          "model_module": "@jupyter-widgets/base",
          "model_module_version": "1.2.0",
          "model_name": "LayoutModel",
          "state": {
            "_model_module": "@jupyter-widgets/base",
            "_model_module_version": "1.2.0",
            "_model_name": "LayoutModel",
            "_view_count": null,
            "_view_module": "@jupyter-widgets/base",
            "_view_module_version": "1.2.0",
            "_view_name": "LayoutView",
            "align_content": null,
            "align_items": null,
            "align_self": null,
            "border": null,
            "bottom": null,
            "display": null,
            "flex": null,
            "flex_flow": null,
            "grid_area": null,
            "grid_auto_columns": null,
            "grid_auto_flow": null,
            "grid_auto_rows": null,
            "grid_column": null,
            "grid_gap": null,
            "grid_row": null,
            "grid_template_areas": null,
            "grid_template_columns": null,
            "grid_template_rows": null,
            "height": null,
            "justify_content": null,
            "justify_items": null,
            "left": null,
            "margin": null,
            "max_height": null,
            "max_width": null,
            "min_height": null,
            "min_width": null,
            "object_fit": null,
            "object_position": null,
            "order": null,
            "overflow": null,
            "overflow_x": null,
            "overflow_y": null,
            "padding": null,
            "right": null,
            "top": null,
            "visibility": null,
            "width": null
          }
        },
        "88627ed7f8944cf9ae2e135878aea431": {
          "model_module": "@jupyter-widgets/controls",
          "model_module_version": "1.5.0",
          "model_name": "DescriptionStyleModel",
          "state": {
            "_model_module": "@jupyter-widgets/controls",
            "_model_module_version": "1.5.0",
            "_model_name": "DescriptionStyleModel",
            "_view_count": null,
            "_view_module": "@jupyter-widgets/base",
            "_view_module_version": "1.2.0",
            "_view_name": "StyleView",
            "description_width": ""
          }
        },
        "8c2f992381f34400bc6c5f37d9373380": {
          "model_module": "@jupyter-widgets/controls",
          "model_module_version": "1.5.0",
          "model_name": "DescriptionStyleModel",
          "state": {
            "_model_module": "@jupyter-widgets/controls",
            "_model_module_version": "1.5.0",
            "_model_name": "DescriptionStyleModel",
            "_view_count": null,
            "_view_module": "@jupyter-widgets/base",
            "_view_module_version": "1.2.0",
            "_view_name": "StyleView",
            "description_width": ""
          }
        },
        "8c892a7ce89d45ba8c2ce2f6b09ad3f6": {
          "model_module": "@jupyter-widgets/controls",
          "model_module_version": "1.5.0",
          "model_name": "HBoxModel",
          "state": {
            "_dom_classes": [],
            "_model_module": "@jupyter-widgets/controls",
            "_model_module_version": "1.5.0",
            "_model_name": "HBoxModel",
            "_view_count": null,
            "_view_module": "@jupyter-widgets/controls",
            "_view_module_version": "1.5.0",
            "_view_name": "HBoxView",
            "box_style": "",
            "children": [
              "IPY_MODEL_a02306b957004a3c815c316e847b3650",
              "IPY_MODEL_bc04b1bea05a49598f7f8b0ec511557b",
              "IPY_MODEL_d7817ed6ab7c4183b6b5b5f81af3fd16"
            ],
            "layout": "IPY_MODEL_e126f1ca532a49fdbd9cd26dbce996d5"
          }
        },
        "8ce607c29ac8463596b8676dfe597af5": {
          "model_module": "@jupyter-widgets/base",
          "model_module_version": "1.2.0",
          "model_name": "LayoutModel",
          "state": {
            "_model_module": "@jupyter-widgets/base",
            "_model_module_version": "1.2.0",
            "_model_name": "LayoutModel",
            "_view_count": null,
            "_view_module": "@jupyter-widgets/base",
            "_view_module_version": "1.2.0",
            "_view_name": "LayoutView",
            "align_content": null,
            "align_items": null,
            "align_self": null,
            "border": null,
            "bottom": null,
            "display": null,
            "flex": null,
            "flex_flow": null,
            "grid_area": null,
            "grid_auto_columns": null,
            "grid_auto_flow": null,
            "grid_auto_rows": null,
            "grid_column": null,
            "grid_gap": null,
            "grid_row": null,
            "grid_template_areas": null,
            "grid_template_columns": null,
            "grid_template_rows": null,
            "height": null,
            "justify_content": null,
            "justify_items": null,
            "left": null,
            "margin": null,
            "max_height": null,
            "max_width": null,
            "min_height": null,
            "min_width": null,
            "object_fit": null,
            "object_position": null,
            "order": null,
            "overflow": null,
            "overflow_x": null,
            "overflow_y": null,
            "padding": null,
            "right": null,
            "top": null,
            "visibility": null,
            "width": null
          }
        },
        "8e372cbc0384407587c9e987abcf7aae": {
          "model_module": "@jupyter-widgets/controls",
          "model_module_version": "1.5.0",
          "model_name": "HTMLModel",
          "state": {
            "_dom_classes": [],
            "_model_module": "@jupyter-widgets/controls",
            "_model_module_version": "1.5.0",
            "_model_name": "HTMLModel",
            "_view_count": null,
            "_view_module": "@jupyter-widgets/controls",
            "_view_module_version": "1.5.0",
            "_view_name": "HTMLView",
            "description": "",
            "description_tooltip": null,
            "layout": "IPY_MODEL_4556848a2a1841b39c3baa2d7ec53fc6",
            "placeholder": "​",
            "style": "IPY_MODEL_a742bb63c82e4f3395e7d42bd4f0021d",
            "value": " 4.11k/4.11k [00:00&lt;00:00, 191kB/s]"
          }
        },
        "8f07db0639b74473a248d26658169cd5": {
          "model_module": "@jupyter-widgets/controls",
          "model_module_version": "1.5.0",
          "model_name": "FloatProgressModel",
          "state": {
            "_dom_classes": [],
            "_model_module": "@jupyter-widgets/controls",
            "_model_module_version": "1.5.0",
            "_model_name": "FloatProgressModel",
            "_view_count": null,
            "_view_module": "@jupyter-widgets/controls",
            "_view_module_version": "1.5.0",
            "_view_name": "ProgressView",
            "bar_style": "success",
            "description": "",
            "description_tooltip": null,
            "layout": "IPY_MODEL_366b6f2cc60d4a8e81d35ce68ea51bdf",
            "max": 6641,
            "min": 0,
            "orientation": "horizontal",
            "style": "IPY_MODEL_b53f9269f77f4f5690a62db8afba9189",
            "value": 6641
          }
        },
        "91b74bb3a9ca493c881c2169673e7aa6": {
          "model_module": "@jupyter-widgets/base",
          "model_module_version": "1.2.0",
          "model_name": "LayoutModel",
          "state": {
            "_model_module": "@jupyter-widgets/base",
            "_model_module_version": "1.2.0",
            "_model_name": "LayoutModel",
            "_view_count": null,
            "_view_module": "@jupyter-widgets/base",
            "_view_module_version": "1.2.0",
            "_view_name": "LayoutView",
            "align_content": null,
            "align_items": null,
            "align_self": null,
            "border": null,
            "bottom": null,
            "display": null,
            "flex": null,
            "flex_flow": null,
            "grid_area": null,
            "grid_auto_columns": null,
            "grid_auto_flow": null,
            "grid_auto_rows": null,
            "grid_column": null,
            "grid_gap": null,
            "grid_row": null,
            "grid_template_areas": null,
            "grid_template_columns": null,
            "grid_template_rows": null,
            "height": null,
            "justify_content": null,
            "justify_items": null,
            "left": null,
            "margin": null,
            "max_height": null,
            "max_width": null,
            "min_height": null,
            "min_width": null,
            "object_fit": null,
            "object_position": null,
            "order": null,
            "overflow": null,
            "overflow_x": null,
            "overflow_y": null,
            "padding": null,
            "right": null,
            "top": null,
            "visibility": null,
            "width": null
          }
        },
        "94a1f1884d3640f4ab4a2c7d9fa01f36": {
          "model_module": "@jupyter-widgets/controls",
          "model_module_version": "1.5.0",
          "model_name": "ProgressStyleModel",
          "state": {
            "_model_module": "@jupyter-widgets/controls",
            "_model_module_version": "1.5.0",
            "_model_name": "ProgressStyleModel",
            "_view_count": null,
            "_view_module": "@jupyter-widgets/base",
            "_view_module_version": "1.2.0",
            "_view_name": "StyleView",
            "bar_color": null,
            "description_width": ""
          }
        },
        "9974ef6e3c014303b5e88b5ddcb34cdf": {
          "model_module": "@jupyter-widgets/controls",
          "model_module_version": "1.5.0",
          "model_name": "FloatProgressModel",
          "state": {
            "_dom_classes": [],
            "_model_module": "@jupyter-widgets/controls",
            "_model_module_version": "1.5.0",
            "_model_name": "FloatProgressModel",
            "_view_count": null,
            "_view_module": "@jupyter-widgets/controls",
            "_view_module_version": "1.5.0",
            "_view_name": "ProgressView",
            "bar_style": "success",
            "description": "",
            "description_tooltip": null,
            "layout": "IPY_MODEL_0798b3a30b1d480e94159edc27268811",
            "max": 2,
            "min": 0,
            "orientation": "horizontal",
            "style": "IPY_MODEL_1231db2e546a4da3b3b30fd5a54bf61f",
            "value": 2
          }
        },
        "9a626d9d9b714476bd50f6b7a46e5189": {
          "model_module": "@jupyter-widgets/controls",
          "model_module_version": "1.5.0",
          "model_name": "HTMLModel",
          "state": {
            "_dom_classes": [],
            "_model_module": "@jupyter-widgets/controls",
            "_model_module_version": "1.5.0",
            "_model_name": "HTMLModel",
            "_view_count": null,
            "_view_module": "@jupyter-widgets/controls",
            "_view_module_version": "1.5.0",
            "_view_name": "HTMLView",
            "description": "",
            "description_tooltip": null,
            "layout": "IPY_MODEL_c6d26e93e1184c9f8d2af71aa6d8233b",
            "placeholder": "​",
            "style": "IPY_MODEL_609381e2432a48afa8cbcf70f153c681",
            "value": " 2/2 [00:00&lt;00:00, 22.81it/s]"
          }
        },
        "9f1e0b8bd6be47d0a83478d762cc1fe6": {
          "model_module": "@jupyter-widgets/controls",
          "model_module_version": "1.5.0",
          "model_name": "FloatProgressModel",
          "state": {
            "_dom_classes": [],
            "_model_module": "@jupyter-widgets/controls",
            "_model_module_version": "1.5.0",
            "_model_name": "FloatProgressModel",
            "_view_count": null,
            "_view_module": "@jupyter-widgets/controls",
            "_view_module_version": "1.5.0",
            "_view_name": "ProgressView",
            "bar_style": "success",
            "description": "",
            "description_tooltip": null,
            "layout": "IPY_MODEL_315a671279d54ed2aa6f63e02056af2c",
            "max": 688339454,
            "min": 0,
            "orientation": "horizontal",
            "style": "IPY_MODEL_94a1f1884d3640f4ab4a2c7d9fa01f36",
            "value": 688339454
          }
        },
        "a02306b957004a3c815c316e847b3650": {
          "model_module": "@jupyter-widgets/controls",
          "model_module_version": "1.5.0",
          "model_name": "HTMLModel",
          "state": {
            "_dom_classes": [],
            "_model_module": "@jupyter-widgets/controls",
            "_model_module_version": "1.5.0",
            "_model_name": "HTMLModel",
            "_view_count": null,
            "_view_module": "@jupyter-widgets/controls",
            "_view_module_version": "1.5.0",
            "_view_name": "HTMLView",
            "description": "",
            "description_tooltip": null,
            "layout": "IPY_MODEL_5235b4c6084f45d786ea6f600725e535",
            "placeholder": "​",
            "style": "IPY_MODEL_fdb821be15ab435a93018585af0b31fc",
            "value": "Downloading pytorch_model.bin:  26%"
          }
        },
        "a12a808d8e99458ea4e6a7a30853c382": {
          "model_module": "@jupyter-widgets/controls",
          "model_module_version": "1.5.0",
          "model_name": "HTMLModel",
          "state": {
            "_dom_classes": [],
            "_model_module": "@jupyter-widgets/controls",
            "_model_module_version": "1.5.0",
            "_model_name": "HTMLModel",
            "_view_count": null,
            "_view_module": "@jupyter-widgets/controls",
            "_view_module_version": "1.5.0",
            "_view_name": "HTMLView",
            "description": "",
            "description_tooltip": null,
            "layout": "IPY_MODEL_07544fd378814be88eeb3cfdf4cd3e00",
            "placeholder": "​",
            "style": "IPY_MODEL_7feee0ea3e734ed089f86595615e50ae",
            "value": " 2.45M/2.45M [00:01&lt;00:00, 1.93MB/s]"
          }
        },
        "a2266c36cc234d6da052afa350a86180": {
          "model_module": "@jupyter-widgets/controls",
          "model_module_version": "1.5.0",
          "model_name": "DescriptionStyleModel",
          "state": {
            "_model_module": "@jupyter-widgets/controls",
            "_model_module_version": "1.5.0",
            "_model_name": "DescriptionStyleModel",
            "_view_count": null,
            "_view_module": "@jupyter-widgets/base",
            "_view_module_version": "1.2.0",
            "_view_name": "StyleView",
            "description_width": ""
          }
        },
        "a4b5f6fe838746878f338f63bb091af5": {
          "model_module": "@jupyter-widgets/controls",
          "model_module_version": "1.5.0",
          "model_name": "HTMLModel",
          "state": {
            "_dom_classes": [],
            "_model_module": "@jupyter-widgets/controls",
            "_model_module_version": "1.5.0",
            "_model_name": "HTMLModel",
            "_view_count": null,
            "_view_module": "@jupyter-widgets/controls",
            "_view_module_version": "1.5.0",
            "_view_name": "HTMLView",
            "description": "",
            "description_tooltip": null,
            "layout": "IPY_MODEL_47a8860e179145d498e85b13463fda69",
            "placeholder": "​",
            "style": "IPY_MODEL_bf5bc34c095f4c87a80ba63eca964755",
            "value": "Downloading data: 100%"
          }
        },
        "a742bb63c82e4f3395e7d42bd4f0021d": {
          "model_module": "@jupyter-widgets/controls",
          "model_module_version": "1.5.0",
          "model_name": "DescriptionStyleModel",
          "state": {
            "_model_module": "@jupyter-widgets/controls",
            "_model_module_version": "1.5.0",
            "_model_name": "DescriptionStyleModel",
            "_view_count": null,
            "_view_module": "@jupyter-widgets/base",
            "_view_module_version": "1.2.0",
            "_view_name": "StyleView",
            "description_width": ""
          }
        },
        "a7a3ce94a7a747b2a9caf9fee1542596": {
          "model_module": "@jupyter-widgets/controls",
          "model_module_version": "1.5.0",
          "model_name": "HTMLModel",
          "state": {
            "_dom_classes": [],
            "_model_module": "@jupyter-widgets/controls",
            "_model_module_version": "1.5.0",
            "_model_name": "HTMLModel",
            "_view_count": null,
            "_view_module": "@jupyter-widgets/controls",
            "_view_module_version": "1.5.0",
            "_view_name": "HTMLView",
            "description": "",
            "description_tooltip": null,
            "layout": "IPY_MODEL_b588fc50ede54cdc909002ca14b8d531",
            "placeholder": "​",
            "style": "IPY_MODEL_88627ed7f8944cf9ae2e135878aea431",
            "value": "Downloading spm.model: 100%"
          }
        },
        "ab293efa5a8246aca41531ef83cdb2dc": {
          "model_module": "@jupyter-widgets/controls",
          "model_module_version": "1.5.0",
          "model_name": "HBoxModel",
          "state": {
            "_dom_classes": [],
            "_model_module": "@jupyter-widgets/controls",
            "_model_module_version": "1.5.0",
            "_model_name": "HBoxModel",
            "_view_count": null,
            "_view_module": "@jupyter-widgets/controls",
            "_view_module_version": "1.5.0",
            "_view_name": "HBoxView",
            "box_style": "",
            "children": [
              "IPY_MODEL_072f36442809409db31a05796db82d61",
              "IPY_MODEL_187772027e1d422ba595edfe4f970dbf",
              "IPY_MODEL_9a626d9d9b714476bd50f6b7a46e5189"
            ],
            "layout": "IPY_MODEL_c3cda9894ee14d0d9f847f77b511f6c9"
          }
        },
        "abcc8f3d7f51487db1290bd7d8c46bee": {
          "model_module": "@jupyter-widgets/base",
          "model_module_version": "1.2.0",
          "model_name": "LayoutModel",
          "state": {
            "_model_module": "@jupyter-widgets/base",
            "_model_module_version": "1.2.0",
            "_model_name": "LayoutModel",
            "_view_count": null,
            "_view_module": "@jupyter-widgets/base",
            "_view_module_version": "1.2.0",
            "_view_name": "LayoutView",
            "align_content": null,
            "align_items": null,
            "align_self": null,
            "border": null,
            "bottom": null,
            "display": null,
            "flex": null,
            "flex_flow": null,
            "grid_area": null,
            "grid_auto_columns": null,
            "grid_auto_flow": null,
            "grid_auto_rows": null,
            "grid_column": null,
            "grid_gap": null,
            "grid_row": null,
            "grid_template_areas": null,
            "grid_template_columns": null,
            "grid_template_rows": null,
            "height": null,
            "justify_content": null,
            "justify_items": null,
            "left": null,
            "margin": null,
            "max_height": null,
            "max_width": null,
            "min_height": null,
            "min_width": null,
            "object_fit": null,
            "object_position": null,
            "order": null,
            "overflow": null,
            "overflow_x": null,
            "overflow_y": null,
            "padding": null,
            "right": null,
            "top": null,
            "visibility": null,
            "width": null
          }
        },
        "abe4d2cfe24b41aeaf7159cd516889b3": {
          "model_module": "@jupyter-widgets/controls",
          "model_module_version": "1.5.0",
          "model_name": "HTMLModel",
          "state": {
            "_dom_classes": [],
            "_model_module": "@jupyter-widgets/controls",
            "_model_module_version": "1.5.0",
            "_model_name": "HTMLModel",
            "_view_count": null,
            "_view_module": "@jupyter-widgets/controls",
            "_view_module_version": "1.5.0",
            "_view_name": "HTMLView",
            "description": "",
            "description_tooltip": null,
            "layout": "IPY_MODEL_5a793409ec69431bb2e73b8ec2f01181",
            "placeholder": "​",
            "style": "IPY_MODEL_330c26cfc3e746efb3cdd985f6ec775f",
            "value": " 633/633 [00:00&lt;00:00, 48.9kB/s]"
          }
        },
        "ae679172d2254c62980bb1c463594add": {
          "model_module": "@jupyter-widgets/controls",
          "model_module_version": "1.5.0",
          "model_name": "HTMLModel",
          "state": {
            "_dom_classes": [],
            "_model_module": "@jupyter-widgets/controls",
            "_model_module_version": "1.5.0",
            "_model_name": "HTMLModel",
            "_view_count": null,
            "_view_module": "@jupyter-widgets/controls",
            "_view_module_version": "1.5.0",
            "_view_name": "HTMLView",
            "description": "",
            "description_tooltip": null,
            "layout": "IPY_MODEL_ecacbc70787a4618bdd78b472424c606",
            "placeholder": "​",
            "style": "IPY_MODEL_4d0b0b70fc76434dad6bcbe4bfe540a7",
            "value": "Downloading readme: 100%"
          }
        },
        "b0263aa76f3d4f9aa0987a088b225c2f": {
          "model_module": "@jupyter-widgets/base",
          "model_module_version": "1.2.0",
          "model_name": "LayoutModel",
          "state": {
            "_model_module": "@jupyter-widgets/base",
            "_model_module_version": "1.2.0",
            "_model_name": "LayoutModel",
            "_view_count": null,
            "_view_module": "@jupyter-widgets/base",
            "_view_module_version": "1.2.0",
            "_view_name": "LayoutView",
            "align_content": null,
            "align_items": null,
            "align_self": null,
            "border": null,
            "bottom": null,
            "display": null,
            "flex": null,
            "flex_flow": null,
            "grid_area": null,
            "grid_auto_columns": null,
            "grid_auto_flow": null,
            "grid_auto_rows": null,
            "grid_column": null,
            "grid_gap": null,
            "grid_row": null,
            "grid_template_areas": null,
            "grid_template_columns": null,
            "grid_template_rows": null,
            "height": null,
            "justify_content": null,
            "justify_items": null,
            "left": null,
            "margin": null,
            "max_height": null,
            "max_width": null,
            "min_height": null,
            "min_width": null,
            "object_fit": null,
            "object_position": null,
            "order": null,
            "overflow": null,
            "overflow_x": null,
            "overflow_y": null,
            "padding": null,
            "right": null,
            "top": null,
            "visibility": null,
            "width": null
          }
        },
        "b4699a39f314470e85c7c5580db4837d": {
          "model_module": "@jupyter-widgets/controls",
          "model_module_version": "1.5.0",
          "model_name": "HBoxModel",
          "state": {
            "_dom_classes": [],
            "_model_module": "@jupyter-widgets/controls",
            "_model_module_version": "1.5.0",
            "_model_name": "HBoxModel",
            "_view_count": null,
            "_view_module": "@jupyter-widgets/controls",
            "_view_module_version": "1.5.0",
            "_view_name": "HBoxView",
            "box_style": "",
            "children": [
              "IPY_MODEL_6d0a2b9eec3844ff8f68db27010b6662",
              "IPY_MODEL_4fc094f616524947bd3e89f584afd9b6",
              "IPY_MODEL_8e372cbc0384407587c9e987abcf7aae"
            ],
            "layout": "IPY_MODEL_e3cd10b0c19f4fc59dae028e11985b20"
          }
        },
        "b53f9269f77f4f5690a62db8afba9189": {
          "model_module": "@jupyter-widgets/controls",
          "model_module_version": "1.5.0",
          "model_name": "ProgressStyleModel",
          "state": {
            "_model_module": "@jupyter-widgets/controls",
            "_model_module_version": "1.5.0",
            "_model_name": "ProgressStyleModel",
            "_view_count": null,
            "_view_module": "@jupyter-widgets/base",
            "_view_module_version": "1.2.0",
            "_view_name": "StyleView",
            "bar_color": null,
            "description_width": ""
          }
        },
        "b588fc50ede54cdc909002ca14b8d531": {
          "model_module": "@jupyter-widgets/base",
          "model_module_version": "1.2.0",
          "model_name": "LayoutModel",
          "state": {
            "_model_module": "@jupyter-widgets/base",
            "_model_module_version": "1.2.0",
            "_model_name": "LayoutModel",
            "_view_count": null,
            "_view_module": "@jupyter-widgets/base",
            "_view_module_version": "1.2.0",
            "_view_name": "LayoutView",
            "align_content": null,
            "align_items": null,
            "align_self": null,
            "border": null,
            "bottom": null,
            "display": null,
            "flex": null,
            "flex_flow": null,
            "grid_area": null,
            "grid_auto_columns": null,
            "grid_auto_flow": null,
            "grid_auto_rows": null,
            "grid_column": null,
            "grid_gap": null,
            "grid_row": null,
            "grid_template_areas": null,
            "grid_template_columns": null,
            "grid_template_rows": null,
            "height": null,
            "justify_content": null,
            "justify_items": null,
            "left": null,
            "margin": null,
            "max_height": null,
            "max_width": null,
            "min_height": null,
            "min_width": null,
            "object_fit": null,
            "object_position": null,
            "order": null,
            "overflow": null,
            "overflow_x": null,
            "overflow_y": null,
            "padding": null,
            "right": null,
            "top": null,
            "visibility": null,
            "width": null
          }
        },
        "b9eba3e59fea4fddb039d469aa7a6b48": {
          "model_module": "@jupyter-widgets/controls",
          "model_module_version": "1.5.0",
          "model_name": "ProgressStyleModel",
          "state": {
            "_model_module": "@jupyter-widgets/controls",
            "_model_module_version": "1.5.0",
            "_model_name": "ProgressStyleModel",
            "_view_count": null,
            "_view_module": "@jupyter-widgets/base",
            "_view_module_version": "1.2.0",
            "_view_name": "StyleView",
            "bar_color": null,
            "description_width": ""
          }
        },
        "ba5ef3b8826b4e4498f1a4fe99f07d6a": {
          "model_module": "@jupyter-widgets/base",
          "model_module_version": "1.2.0",
          "model_name": "LayoutModel",
          "state": {
            "_model_module": "@jupyter-widgets/base",
            "_model_module_version": "1.2.0",
            "_model_name": "LayoutModel",
            "_view_count": null,
            "_view_module": "@jupyter-widgets/base",
            "_view_module_version": "1.2.0",
            "_view_name": "LayoutView",
            "align_content": null,
            "align_items": null,
            "align_self": null,
            "border": null,
            "bottom": null,
            "display": null,
            "flex": null,
            "flex_flow": null,
            "grid_area": null,
            "grid_auto_columns": null,
            "grid_auto_flow": null,
            "grid_auto_rows": null,
            "grid_column": null,
            "grid_gap": null,
            "grid_row": null,
            "grid_template_areas": null,
            "grid_template_columns": null,
            "grid_template_rows": null,
            "height": null,
            "justify_content": null,
            "justify_items": null,
            "left": null,
            "margin": null,
            "max_height": null,
            "max_width": null,
            "min_height": null,
            "min_width": null,
            "object_fit": null,
            "object_position": null,
            "order": null,
            "overflow": null,
            "overflow_x": null,
            "overflow_y": null,
            "padding": null,
            "right": null,
            "top": null,
            "visibility": null,
            "width": null
          }
        },
        "ba99f3b268d3424ca731d51aba6e3dec": {
          "model_module": "@jupyter-widgets/controls",
          "model_module_version": "1.5.0",
          "model_name": "ProgressStyleModel",
          "state": {
            "_model_module": "@jupyter-widgets/controls",
            "_model_module_version": "1.5.0",
            "_model_name": "ProgressStyleModel",
            "_view_count": null,
            "_view_module": "@jupyter-widgets/base",
            "_view_module_version": "1.2.0",
            "_view_name": "StyleView",
            "bar_color": null,
            "description_width": ""
          }
        },
        "bc04b1bea05a49598f7f8b0ec511557b": {
          "model_module": "@jupyter-widgets/controls",
          "model_module_version": "1.5.0",
          "model_name": "FloatProgressModel",
          "state": {
            "_dom_classes": [],
            "_model_module": "@jupyter-widgets/controls",
            "_model_module_version": "1.5.0",
            "_model_name": "FloatProgressModel",
            "_view_count": null,
            "_view_module": "@jupyter-widgets/controls",
            "_view_module_version": "1.5.0",
            "_view_name": "ProgressView",
            "bar_style": "danger",
            "description": "",
            "description_tooltip": null,
            "layout": "IPY_MODEL_6a2e5ac2f5d94de4a705b806c380e6f9",
            "max": 3135788407,
            "min": 0,
            "orientation": "horizontal",
            "style": "IPY_MODEL_7ce86dde5e38485b8a67a18f766ba417",
            "value": 817889280
          }
        },
        "bf4ff75765504793b108b552df377ff0": {
          "model_module": "@jupyter-widgets/base",
          "model_module_version": "1.2.0",
          "model_name": "LayoutModel",
          "state": {
            "_model_module": "@jupyter-widgets/base",
            "_model_module_version": "1.2.0",
            "_model_name": "LayoutModel",
            "_view_count": null,
            "_view_module": "@jupyter-widgets/base",
            "_view_module_version": "1.2.0",
            "_view_name": "LayoutView",
            "align_content": null,
            "align_items": null,
            "align_self": null,
            "border": null,
            "bottom": null,
            "display": null,
            "flex": null,
            "flex_flow": null,
            "grid_area": null,
            "grid_auto_columns": null,
            "grid_auto_flow": null,
            "grid_auto_rows": null,
            "grid_column": null,
            "grid_gap": null,
            "grid_row": null,
            "grid_template_areas": null,
            "grid_template_columns": null,
            "grid_template_rows": null,
            "height": null,
            "justify_content": null,
            "justify_items": null,
            "left": null,
            "margin": null,
            "max_height": null,
            "max_width": null,
            "min_height": null,
            "min_width": null,
            "object_fit": null,
            "object_position": null,
            "order": null,
            "overflow": null,
            "overflow_x": null,
            "overflow_y": null,
            "padding": null,
            "right": null,
            "top": null,
            "visibility": null,
            "width": null
          }
        },
        "bf5bc34c095f4c87a80ba63eca964755": {
          "model_module": "@jupyter-widgets/controls",
          "model_module_version": "1.5.0",
          "model_name": "DescriptionStyleModel",
          "state": {
            "_model_module": "@jupyter-widgets/controls",
            "_model_module_version": "1.5.0",
            "_model_name": "DescriptionStyleModel",
            "_view_count": null,
            "_view_module": "@jupyter-widgets/base",
            "_view_module_version": "1.2.0",
            "_view_name": "StyleView",
            "description_width": ""
          }
        },
        "c18723b2483e4c2f8f3c4e3e568b9c3c": {
          "model_module": "@jupyter-widgets/controls",
          "model_module_version": "1.5.0",
          "model_name": "HTMLModel",
          "state": {
            "_dom_classes": [],
            "_model_module": "@jupyter-widgets/controls",
            "_model_module_version": "1.5.0",
            "_model_name": "HTMLModel",
            "_view_count": null,
            "_view_module": "@jupyter-widgets/controls",
            "_view_module_version": "1.5.0",
            "_view_name": "HTMLView",
            "description": "",
            "description_tooltip": null,
            "layout": "IPY_MODEL_c2010188dd2942c1b97562aebea39e56",
            "placeholder": "​",
            "style": "IPY_MODEL_cf0b332733394e75bd87cb231c6de3ed",
            "value": " 1.68k/1.68k [00:00&lt;00:00, 112kB/s]"
          }
        },
        "c2010188dd2942c1b97562aebea39e56": {
          "model_module": "@jupyter-widgets/base",
          "model_module_version": "1.2.0",
          "model_name": "LayoutModel",
          "state": {
            "_model_module": "@jupyter-widgets/base",
            "_model_module_version": "1.2.0",
            "_model_name": "LayoutModel",
            "_view_count": null,
            "_view_module": "@jupyter-widgets/base",
            "_view_module_version": "1.2.0",
            "_view_name": "LayoutView",
            "align_content": null,
            "align_items": null,
            "align_self": null,
            "border": null,
            "bottom": null,
            "display": null,
            "flex": null,
            "flex_flow": null,
            "grid_area": null,
            "grid_auto_columns": null,
            "grid_auto_flow": null,
            "grid_auto_rows": null,
            "grid_column": null,
            "grid_gap": null,
            "grid_row": null,
            "grid_template_areas": null,
            "grid_template_columns": null,
            "grid_template_rows": null,
            "height": null,
            "justify_content": null,
            "justify_items": null,
            "left": null,
            "margin": null,
            "max_height": null,
            "max_width": null,
            "min_height": null,
            "min_width": null,
            "object_fit": null,
            "object_position": null,
            "order": null,
            "overflow": null,
            "overflow_x": null,
            "overflow_y": null,
            "padding": null,
            "right": null,
            "top": null,
            "visibility": null,
            "width": null
          }
        },
        "c3cda9894ee14d0d9f847f77b511f6c9": {
          "model_module": "@jupyter-widgets/base",
          "model_module_version": "1.2.0",
          "model_name": "LayoutModel",
          "state": {
            "_model_module": "@jupyter-widgets/base",
            "_model_module_version": "1.2.0",
            "_model_name": "LayoutModel",
            "_view_count": null,
            "_view_module": "@jupyter-widgets/base",
            "_view_module_version": "1.2.0",
            "_view_name": "LayoutView",
            "align_content": null,
            "align_items": null,
            "align_self": null,
            "border": null,
            "bottom": null,
            "display": null,
            "flex": null,
            "flex_flow": null,
            "grid_area": null,
            "grid_auto_columns": null,
            "grid_auto_flow": null,
            "grid_auto_rows": null,
            "grid_column": null,
            "grid_gap": null,
            "grid_row": null,
            "grid_template_areas": null,
            "grid_template_columns": null,
            "grid_template_rows": null,
            "height": null,
            "justify_content": null,
            "justify_items": null,
            "left": null,
            "margin": null,
            "max_height": null,
            "max_width": null,
            "min_height": null,
            "min_width": null,
            "object_fit": null,
            "object_position": null,
            "order": null,
            "overflow": null,
            "overflow_x": null,
            "overflow_y": null,
            "padding": null,
            "right": null,
            "top": null,
            "visibility": null,
            "width": null
          }
        },
        "c66b196624be430bb05ed6ca94a244a9": {
          "model_module": "@jupyter-widgets/controls",
          "model_module_version": "1.5.0",
          "model_name": "HTMLModel",
          "state": {
            "_dom_classes": [],
            "_model_module": "@jupyter-widgets/controls",
            "_model_module_version": "1.5.0",
            "_model_name": "HTMLModel",
            "_view_count": null,
            "_view_module": "@jupyter-widgets/controls",
            "_view_module_version": "1.5.0",
            "_view_name": "HTMLView",
            "description": "",
            "description_tooltip": null,
            "layout": "IPY_MODEL_d11ca59d552c44638e247a80a718baac",
            "placeholder": "​",
            "style": "IPY_MODEL_8312706f39a342fa9c1f6dd7e9ebe52c",
            "value": " 2/2 [00:00&lt;00:00,  3.47it/s]"
          }
        },
        "c6d26e93e1184c9f8d2af71aa6d8233b": {
          "model_module": "@jupyter-widgets/base",
          "model_module_version": "1.2.0",
          "model_name": "LayoutModel",
          "state": {
            "_model_module": "@jupyter-widgets/base",
            "_model_module_version": "1.2.0",
            "_model_name": "LayoutModel",
            "_view_count": null,
            "_view_module": "@jupyter-widgets/base",
            "_view_module_version": "1.2.0",
            "_view_name": "LayoutView",
            "align_content": null,
            "align_items": null,
            "align_self": null,
            "border": null,
            "bottom": null,
            "display": null,
            "flex": null,
            "flex_flow": null,
            "grid_area": null,
            "grid_auto_columns": null,
            "grid_auto_flow": null,
            "grid_auto_rows": null,
            "grid_column": null,
            "grid_gap": null,
            "grid_row": null,
            "grid_template_areas": null,
            "grid_template_columns": null,
            "grid_template_rows": null,
            "height": null,
            "justify_content": null,
            "justify_items": null,
            "left": null,
            "margin": null,
            "max_height": null,
            "max_width": null,
            "min_height": null,
            "min_width": null,
            "object_fit": null,
            "object_position": null,
            "order": null,
            "overflow": null,
            "overflow_x": null,
            "overflow_y": null,
            "padding": null,
            "right": null,
            "top": null,
            "visibility": null,
            "width": null
          }
        },
        "cbdd04cde60841c7bec2a6fec14a1718": {
          "model_module": "@jupyter-widgets/controls",
          "model_module_version": "1.5.0",
          "model_name": "DescriptionStyleModel",
          "state": {
            "_model_module": "@jupyter-widgets/controls",
            "_model_module_version": "1.5.0",
            "_model_name": "DescriptionStyleModel",
            "_view_count": null,
            "_view_module": "@jupyter-widgets/base",
            "_view_module_version": "1.2.0",
            "_view_name": "StyleView",
            "description_width": ""
          }
        },
        "cf0b332733394e75bd87cb231c6de3ed": {
          "model_module": "@jupyter-widgets/controls",
          "model_module_version": "1.5.0",
          "model_name": "DescriptionStyleModel",
          "state": {
            "_model_module": "@jupyter-widgets/controls",
            "_model_module_version": "1.5.0",
            "_model_name": "DescriptionStyleModel",
            "_view_count": null,
            "_view_module": "@jupyter-widgets/base",
            "_view_module_version": "1.2.0",
            "_view_name": "StyleView",
            "description_width": ""
          }
        },
        "d11ca59d552c44638e247a80a718baac": {
          "model_module": "@jupyter-widgets/base",
          "model_module_version": "1.2.0",
          "model_name": "LayoutModel",
          "state": {
            "_model_module": "@jupyter-widgets/base",
            "_model_module_version": "1.2.0",
            "_model_name": "LayoutModel",
            "_view_count": null,
            "_view_module": "@jupyter-widgets/base",
            "_view_module_version": "1.2.0",
            "_view_name": "LayoutView",
            "align_content": null,
            "align_items": null,
            "align_self": null,
            "border": null,
            "bottom": null,
            "display": null,
            "flex": null,
            "flex_flow": null,
            "grid_area": null,
            "grid_auto_columns": null,
            "grid_auto_flow": null,
            "grid_auto_rows": null,
            "grid_column": null,
            "grid_gap": null,
            "grid_row": null,
            "grid_template_areas": null,
            "grid_template_columns": null,
            "grid_template_rows": null,
            "height": null,
            "justify_content": null,
            "justify_items": null,
            "left": null,
            "margin": null,
            "max_height": null,
            "max_width": null,
            "min_height": null,
            "min_width": null,
            "object_fit": null,
            "object_position": null,
            "order": null,
            "overflow": null,
            "overflow_x": null,
            "overflow_y": null,
            "padding": null,
            "right": null,
            "top": null,
            "visibility": null,
            "width": null
          }
        },
        "d1f135b4de5f42ce9832692b92792524": {
          "model_module": "@jupyter-widgets/controls",
          "model_module_version": "1.5.0",
          "model_name": "DescriptionStyleModel",
          "state": {
            "_model_module": "@jupyter-widgets/controls",
            "_model_module_version": "1.5.0",
            "_model_name": "DescriptionStyleModel",
            "_view_count": null,
            "_view_module": "@jupyter-widgets/base",
            "_view_module_version": "1.2.0",
            "_view_name": "StyleView",
            "description_width": ""
          }
        },
        "d22e6d14390e4cc4b949580fd305f0aa": {
          "model_module": "@jupyter-widgets/controls",
          "model_module_version": "1.5.0",
          "model_name": "DescriptionStyleModel",
          "state": {
            "_model_module": "@jupyter-widgets/controls",
            "_model_module_version": "1.5.0",
            "_model_name": "DescriptionStyleModel",
            "_view_count": null,
            "_view_module": "@jupyter-widgets/base",
            "_view_module_version": "1.2.0",
            "_view_name": "StyleView",
            "description_width": ""
          }
        },
        "d4116da097cc4b8998edddd0cc8908d0": {
          "model_module": "@jupyter-widgets/controls",
          "model_module_version": "1.5.0",
          "model_name": "HTMLModel",
          "state": {
            "_dom_classes": [],
            "_model_module": "@jupyter-widgets/controls",
            "_model_module_version": "1.5.0",
            "_model_name": "HTMLModel",
            "_view_count": null,
            "_view_module": "@jupyter-widgets/controls",
            "_view_module_version": "1.5.0",
            "_view_name": "HTMLView",
            "description": "",
            "description_tooltip": null,
            "layout": "IPY_MODEL_ba5ef3b8826b4e4498f1a4fe99f07d6a",
            "placeholder": "​",
            "style": "IPY_MODEL_438ed0f033814da3a118df10b71d304a",
            "value": "Generating train split: 100%"
          }
        },
        "d463c2d44b8c465f86a387c2031f957d": {
          "model_module": "@jupyter-widgets/controls",
          "model_module_version": "1.5.0",
          "model_name": "HBoxModel",
          "state": {
            "_dom_classes": [],
            "_model_module": "@jupyter-widgets/controls",
            "_model_module_version": "1.5.0",
            "_model_name": "HBoxModel",
            "_view_count": null,
            "_view_module": "@jupyter-widgets/controls",
            "_view_module_version": "1.5.0",
            "_view_name": "HBoxView",
            "box_style": "",
            "children": [
              "IPY_MODEL_3603b0d3defa469dbbe7ced97f3c2c97",
              "IPY_MODEL_06b64c7693db4944b0d56a3b72d31d52",
              "IPY_MODEL_c18723b2483e4c2f8f3c4e3e568b9c3c"
            ],
            "layout": "IPY_MODEL_158ecccf19a3488ba107fe1d345c38de"
          }
        },
        "d7407a4e18124943be13e5718e86c238": {
          "model_module": "@jupyter-widgets/controls",
          "model_module_version": "1.5.0",
          "model_name": "HTMLModel",
          "state": {
            "_dom_classes": [],
            "_model_module": "@jupyter-widgets/controls",
            "_model_module_version": "1.5.0",
            "_model_name": "HTMLModel",
            "_view_count": null,
            "_view_module": "@jupyter-widgets/controls",
            "_view_module_version": "1.5.0",
            "_view_name": "HTMLView",
            "description": "",
            "description_tooltip": null,
            "layout": "IPY_MODEL_f76eac5864334e199e94effafabc0242",
            "placeholder": "​",
            "style": "IPY_MODEL_f7fa9bcf15f24e7bb5cecef933b4b389",
            "value": "Downloading (…)okenizer_config.json: 100%"
          }
        },
        "d7418aac8d34474ab84b90e317f442c6": {
          "model_module": "@jupyter-widgets/controls",
          "model_module_version": "1.5.0",
          "model_name": "FloatProgressModel",
          "state": {
            "_dom_classes": [],
            "_model_module": "@jupyter-widgets/controls",
            "_model_module_version": "1.5.0",
            "_model_name": "FloatProgressModel",
            "_view_count": null,
            "_view_module": "@jupyter-widgets/controls",
            "_view_module_version": "1.5.0",
            "_view_name": "ProgressView",
            "bar_style": "",
            "description": "",
            "description_tooltip": null,
            "layout": "IPY_MODEL_4910bbd4b4f24e6486afa36d58786d3b",
            "max": 3600000,
            "min": 0,
            "orientation": "horizontal",
            "style": "IPY_MODEL_261b06b134ff48c4a38f1dc868ab16f5",
            "value": 3600000
          }
        },
        "d7817ed6ab7c4183b6b5b5f81af3fd16": {
          "model_module": "@jupyter-widgets/controls",
          "model_module_version": "1.5.0",
          "model_name": "HTMLModel",
          "state": {
            "_dom_classes": [],
            "_model_module": "@jupyter-widgets/controls",
            "_model_module_version": "1.5.0",
            "_model_name": "HTMLModel",
            "_view_count": null,
            "_view_module": "@jupyter-widgets/controls",
            "_view_module_version": "1.5.0",
            "_view_name": "HTMLView",
            "description": "",
            "description_tooltip": null,
            "layout": "IPY_MODEL_17fd221cf8e5485d94ff7381ed553064",
            "placeholder": "​",
            "style": "IPY_MODEL_38450121f91e4f61b2b0f95780903a74",
            "value": " 818M/3.14G [17:03&lt;02:02, 18.9MB/s]"
          }
        },
        "da5ad0d866684040aab958f0f1f1f4a3": {
          "model_module": "@jupyter-widgets/base",
          "model_module_version": "1.2.0",
          "model_name": "LayoutModel",
          "state": {
            "_model_module": "@jupyter-widgets/base",
            "_model_module_version": "1.2.0",
            "_model_name": "LayoutModel",
            "_view_count": null,
            "_view_module": "@jupyter-widgets/base",
            "_view_module_version": "1.2.0",
            "_view_name": "LayoutView",
            "align_content": null,
            "align_items": null,
            "align_self": null,
            "border": null,
            "bottom": null,
            "display": null,
            "flex": null,
            "flex_flow": null,
            "grid_area": null,
            "grid_auto_columns": null,
            "grid_auto_flow": null,
            "grid_auto_rows": null,
            "grid_column": null,
            "grid_gap": null,
            "grid_row": null,
            "grid_template_areas": null,
            "grid_template_columns": null,
            "grid_template_rows": null,
            "height": null,
            "justify_content": null,
            "justify_items": null,
            "left": null,
            "margin": null,
            "max_height": null,
            "max_width": null,
            "min_height": null,
            "min_width": null,
            "object_fit": null,
            "object_position": null,
            "order": null,
            "overflow": null,
            "overflow_x": null,
            "overflow_y": null,
            "padding": null,
            "right": null,
            "top": null,
            "visibility": null,
            "width": null
          }
        },
        "dbdd71bddf6d4726bd8cb1180e47085e": {
          "model_module": "@jupyter-widgets/controls",
          "model_module_version": "1.5.0",
          "model_name": "HTMLModel",
          "state": {
            "_dom_classes": [],
            "_model_module": "@jupyter-widgets/controls",
            "_model_module_version": "1.5.0",
            "_model_name": "HTMLModel",
            "_view_count": null,
            "_view_module": "@jupyter-widgets/controls",
            "_view_module_version": "1.5.0",
            "_view_name": "HTMLView",
            "description": "",
            "description_tooltip": null,
            "layout": "IPY_MODEL_3fa73086487840f0adda7c7fa6324f05",
            "placeholder": "​",
            "style": "IPY_MODEL_52148e7234de4cdd8f4f104cdb341da9",
            "value": " 688M/688M [00:53&lt;00:00, 13.5MB/s]"
          }
        },
        "dc5879abca7c458ba26b6cd9b4024818": {
          "model_module": "@jupyter-widgets/controls",
          "model_module_version": "1.5.0",
          "model_name": "DescriptionStyleModel",
          "state": {
            "_model_module": "@jupyter-widgets/controls",
            "_model_module_version": "1.5.0",
            "_model_name": "DescriptionStyleModel",
            "_view_count": null,
            "_view_module": "@jupyter-widgets/base",
            "_view_module_version": "1.2.0",
            "_view_name": "StyleView",
            "description_width": ""
          }
        },
        "dd456e1d97584fcab8288f862e8ee668": {
          "model_module": "@jupyter-widgets/base",
          "model_module_version": "1.2.0",
          "model_name": "LayoutModel",
          "state": {
            "_model_module": "@jupyter-widgets/base",
            "_model_module_version": "1.2.0",
            "_model_name": "LayoutModel",
            "_view_count": null,
            "_view_module": "@jupyter-widgets/base",
            "_view_module_version": "1.2.0",
            "_view_name": "LayoutView",
            "align_content": null,
            "align_items": null,
            "align_self": null,
            "border": null,
            "bottom": null,
            "display": null,
            "flex": null,
            "flex_flow": null,
            "grid_area": null,
            "grid_auto_columns": null,
            "grid_auto_flow": null,
            "grid_auto_rows": null,
            "grid_column": null,
            "grid_gap": null,
            "grid_row": null,
            "grid_template_areas": null,
            "grid_template_columns": null,
            "grid_template_rows": null,
            "height": null,
            "justify_content": null,
            "justify_items": null,
            "left": null,
            "margin": null,
            "max_height": null,
            "max_width": null,
            "min_height": null,
            "min_width": null,
            "object_fit": null,
            "object_position": null,
            "order": null,
            "overflow": null,
            "overflow_x": null,
            "overflow_y": null,
            "padding": null,
            "right": null,
            "top": null,
            "visibility": null,
            "width": null
          }
        },
        "e126f1ca532a49fdbd9cd26dbce996d5": {
          "model_module": "@jupyter-widgets/base",
          "model_module_version": "1.2.0",
          "model_name": "LayoutModel",
          "state": {
            "_model_module": "@jupyter-widgets/base",
            "_model_module_version": "1.2.0",
            "_model_name": "LayoutModel",
            "_view_count": null,
            "_view_module": "@jupyter-widgets/base",
            "_view_module_version": "1.2.0",
            "_view_name": "LayoutView",
            "align_content": null,
            "align_items": null,
            "align_self": null,
            "border": null,
            "bottom": null,
            "display": null,
            "flex": null,
            "flex_flow": null,
            "grid_area": null,
            "grid_auto_columns": null,
            "grid_auto_flow": null,
            "grid_auto_rows": null,
            "grid_column": null,
            "grid_gap": null,
            "grid_row": null,
            "grid_template_areas": null,
            "grid_template_columns": null,
            "grid_template_rows": null,
            "height": null,
            "justify_content": null,
            "justify_items": null,
            "left": null,
            "margin": null,
            "max_height": null,
            "max_width": null,
            "min_height": null,
            "min_width": null,
            "object_fit": null,
            "object_position": null,
            "order": null,
            "overflow": null,
            "overflow_x": null,
            "overflow_y": null,
            "padding": null,
            "right": null,
            "top": null,
            "visibility": null,
            "width": null
          }
        },
        "e3cd10b0c19f4fc59dae028e11985b20": {
          "model_module": "@jupyter-widgets/base",
          "model_module_version": "1.2.0",
          "model_name": "LayoutModel",
          "state": {
            "_model_module": "@jupyter-widgets/base",
            "_model_module_version": "1.2.0",
            "_model_name": "LayoutModel",
            "_view_count": null,
            "_view_module": "@jupyter-widgets/base",
            "_view_module_version": "1.2.0",
            "_view_name": "LayoutView",
            "align_content": null,
            "align_items": null,
            "align_self": null,
            "border": null,
            "bottom": null,
            "display": null,
            "flex": null,
            "flex_flow": null,
            "grid_area": null,
            "grid_auto_columns": null,
            "grid_auto_flow": null,
            "grid_auto_rows": null,
            "grid_column": null,
            "grid_gap": null,
            "grid_row": null,
            "grid_template_areas": null,
            "grid_template_columns": null,
            "grid_template_rows": null,
            "height": null,
            "justify_content": null,
            "justify_items": null,
            "left": null,
            "margin": null,
            "max_height": null,
            "max_width": null,
            "min_height": null,
            "min_width": null,
            "object_fit": null,
            "object_position": null,
            "order": null,
            "overflow": null,
            "overflow_x": null,
            "overflow_y": null,
            "padding": null,
            "right": null,
            "top": null,
            "visibility": null,
            "width": null
          }
        },
        "e4288bdab34e4491b8e0f6b240ed4cfa": {
          "model_module": "@jupyter-widgets/controls",
          "model_module_version": "1.5.0",
          "model_name": "ProgressStyleModel",
          "state": {
            "_model_module": "@jupyter-widgets/controls",
            "_model_module_version": "1.5.0",
            "_model_name": "ProgressStyleModel",
            "_view_count": null,
            "_view_module": "@jupyter-widgets/base",
            "_view_module_version": "1.2.0",
            "_view_name": "StyleView",
            "bar_color": null,
            "description_width": ""
          }
        },
        "ecacbc70787a4618bdd78b472424c606": {
          "model_module": "@jupyter-widgets/base",
          "model_module_version": "1.2.0",
          "model_name": "LayoutModel",
          "state": {
            "_model_module": "@jupyter-widgets/base",
            "_model_module_version": "1.2.0",
            "_model_name": "LayoutModel",
            "_view_count": null,
            "_view_module": "@jupyter-widgets/base",
            "_view_module_version": "1.2.0",
            "_view_name": "LayoutView",
            "align_content": null,
            "align_items": null,
            "align_self": null,
            "border": null,
            "bottom": null,
            "display": null,
            "flex": null,
            "flex_flow": null,
            "grid_area": null,
            "grid_auto_columns": null,
            "grid_auto_flow": null,
            "grid_auto_rows": null,
            "grid_column": null,
            "grid_gap": null,
            "grid_row": null,
            "grid_template_areas": null,
            "grid_template_columns": null,
            "grid_template_rows": null,
            "height": null,
            "justify_content": null,
            "justify_items": null,
            "left": null,
            "margin": null,
            "max_height": null,
            "max_width": null,
            "min_height": null,
            "min_width": null,
            "object_fit": null,
            "object_position": null,
            "order": null,
            "overflow": null,
            "overflow_x": null,
            "overflow_y": null,
            "padding": null,
            "right": null,
            "top": null,
            "visibility": null,
            "width": null
          }
        },
        "ed003a6074d84265acf95d9c2f3b49a9": {
          "model_module": "@jupyter-widgets/base",
          "model_module_version": "1.2.0",
          "model_name": "LayoutModel",
          "state": {
            "_model_module": "@jupyter-widgets/base",
            "_model_module_version": "1.2.0",
            "_model_name": "LayoutModel",
            "_view_count": null,
            "_view_module": "@jupyter-widgets/base",
            "_view_module_version": "1.2.0",
            "_view_name": "LayoutView",
            "align_content": null,
            "align_items": null,
            "align_self": null,
            "border": null,
            "bottom": null,
            "display": null,
            "flex": null,
            "flex_flow": null,
            "grid_area": null,
            "grid_auto_columns": null,
            "grid_auto_flow": null,
            "grid_auto_rows": null,
            "grid_column": null,
            "grid_gap": null,
            "grid_row": null,
            "grid_template_areas": null,
            "grid_template_columns": null,
            "grid_template_rows": null,
            "height": null,
            "justify_content": null,
            "justify_items": null,
            "left": null,
            "margin": null,
            "max_height": null,
            "max_width": null,
            "min_height": null,
            "min_width": null,
            "object_fit": null,
            "object_position": null,
            "order": null,
            "overflow": null,
            "overflow_x": null,
            "overflow_y": null,
            "padding": null,
            "right": null,
            "top": null,
            "visibility": null,
            "width": null
          }
        },
        "f06d977a96b74775ad306c7df60a40e3": {
          "model_module": "@jupyter-widgets/controls",
          "model_module_version": "1.5.0",
          "model_name": "DescriptionStyleModel",
          "state": {
            "_model_module": "@jupyter-widgets/controls",
            "_model_module_version": "1.5.0",
            "_model_name": "DescriptionStyleModel",
            "_view_count": null,
            "_view_module": "@jupyter-widgets/base",
            "_view_module_version": "1.2.0",
            "_view_name": "StyleView",
            "description_width": ""
          }
        },
        "f09ee335136847c790c2f0bdeb71a305": {
          "model_module": "@jupyter-widgets/controls",
          "model_module_version": "1.5.0",
          "model_name": "DescriptionStyleModel",
          "state": {
            "_model_module": "@jupyter-widgets/controls",
            "_model_module_version": "1.5.0",
            "_model_name": "DescriptionStyleModel",
            "_view_count": null,
            "_view_module": "@jupyter-widgets/base",
            "_view_module_version": "1.2.0",
            "_view_name": "StyleView",
            "description_width": ""
          }
        },
        "f34029ba6e544d728d15c423c83b4a6a": {
          "model_module": "@jupyter-widgets/base",
          "model_module_version": "1.2.0",
          "model_name": "LayoutModel",
          "state": {
            "_model_module": "@jupyter-widgets/base",
            "_model_module_version": "1.2.0",
            "_model_name": "LayoutModel",
            "_view_count": null,
            "_view_module": "@jupyter-widgets/base",
            "_view_module_version": "1.2.0",
            "_view_name": "LayoutView",
            "align_content": null,
            "align_items": null,
            "align_self": null,
            "border": null,
            "bottom": null,
            "display": null,
            "flex": null,
            "flex_flow": null,
            "grid_area": null,
            "grid_auto_columns": null,
            "grid_auto_flow": null,
            "grid_auto_rows": null,
            "grid_column": null,
            "grid_gap": null,
            "grid_row": null,
            "grid_template_areas": null,
            "grid_template_columns": null,
            "grid_template_rows": null,
            "height": null,
            "justify_content": null,
            "justify_items": null,
            "left": null,
            "margin": null,
            "max_height": null,
            "max_width": null,
            "min_height": null,
            "min_width": null,
            "object_fit": null,
            "object_position": null,
            "order": null,
            "overflow": null,
            "overflow_x": null,
            "overflow_y": null,
            "padding": null,
            "right": null,
            "top": null,
            "visibility": null,
            "width": null
          }
        },
        "f51c2d1beb884368975901e711c0d8e3": {
          "model_module": "@jupyter-widgets/base",
          "model_module_version": "1.2.0",
          "model_name": "LayoutModel",
          "state": {
            "_model_module": "@jupyter-widgets/base",
            "_model_module_version": "1.2.0",
            "_model_name": "LayoutModel",
            "_view_count": null,
            "_view_module": "@jupyter-widgets/base",
            "_view_module_version": "1.2.0",
            "_view_name": "LayoutView",
            "align_content": null,
            "align_items": null,
            "align_self": null,
            "border": null,
            "bottom": null,
            "display": null,
            "flex": null,
            "flex_flow": null,
            "grid_area": null,
            "grid_auto_columns": null,
            "grid_auto_flow": null,
            "grid_auto_rows": null,
            "grid_column": null,
            "grid_gap": null,
            "grid_row": null,
            "grid_template_areas": null,
            "grid_template_columns": null,
            "grid_template_rows": null,
            "height": null,
            "justify_content": null,
            "justify_items": null,
            "left": null,
            "margin": null,
            "max_height": null,
            "max_width": null,
            "min_height": null,
            "min_width": null,
            "object_fit": null,
            "object_position": null,
            "order": null,
            "overflow": null,
            "overflow_x": null,
            "overflow_y": null,
            "padding": null,
            "right": null,
            "top": null,
            "visibility": null,
            "width": null
          }
        },
        "f76eac5864334e199e94effafabc0242": {
          "model_module": "@jupyter-widgets/base",
          "model_module_version": "1.2.0",
          "model_name": "LayoutModel",
          "state": {
            "_model_module": "@jupyter-widgets/base",
            "_model_module_version": "1.2.0",
            "_model_name": "LayoutModel",
            "_view_count": null,
            "_view_module": "@jupyter-widgets/base",
            "_view_module_version": "1.2.0",
            "_view_name": "LayoutView",
            "align_content": null,
            "align_items": null,
            "align_self": null,
            "border": null,
            "bottom": null,
            "display": null,
            "flex": null,
            "flex_flow": null,
            "grid_area": null,
            "grid_auto_columns": null,
            "grid_auto_flow": null,
            "grid_auto_rows": null,
            "grid_column": null,
            "grid_gap": null,
            "grid_row": null,
            "grid_template_areas": null,
            "grid_template_columns": null,
            "grid_template_rows": null,
            "height": null,
            "justify_content": null,
            "justify_items": null,
            "left": null,
            "margin": null,
            "max_height": null,
            "max_width": null,
            "min_height": null,
            "min_width": null,
            "object_fit": null,
            "object_position": null,
            "order": null,
            "overflow": null,
            "overflow_x": null,
            "overflow_y": null,
            "padding": null,
            "right": null,
            "top": null,
            "visibility": null,
            "width": null
          }
        },
        "f7fa9bcf15f24e7bb5cecef933b4b389": {
          "model_module": "@jupyter-widgets/controls",
          "model_module_version": "1.5.0",
          "model_name": "DescriptionStyleModel",
          "state": {
            "_model_module": "@jupyter-widgets/controls",
            "_model_module_version": "1.5.0",
            "_model_name": "DescriptionStyleModel",
            "_view_count": null,
            "_view_module": "@jupyter-widgets/base",
            "_view_module_version": "1.2.0",
            "_view_name": "StyleView",
            "description_width": ""
          }
        },
        "f9c73e26998a424c9e3b4deea513306a": {
          "model_module": "@jupyter-widgets/controls",
          "model_module_version": "1.5.0",
          "model_name": "DescriptionStyleModel",
          "state": {
            "_model_module": "@jupyter-widgets/controls",
            "_model_module_version": "1.5.0",
            "_model_name": "DescriptionStyleModel",
            "_view_count": null,
            "_view_module": "@jupyter-widgets/base",
            "_view_module_version": "1.2.0",
            "_view_name": "StyleView",
            "description_width": ""
          }
        },
        "fb77a6203f924e6db1fdc8444eca0a39": {
          "model_module": "@jupyter-widgets/base",
          "model_module_version": "1.2.0",
          "model_name": "LayoutModel",
          "state": {
            "_model_module": "@jupyter-widgets/base",
            "_model_module_version": "1.2.0",
            "_model_name": "LayoutModel",
            "_view_count": null,
            "_view_module": "@jupyter-widgets/base",
            "_view_module_version": "1.2.0",
            "_view_name": "LayoutView",
            "align_content": null,
            "align_items": null,
            "align_self": null,
            "border": null,
            "bottom": null,
            "display": null,
            "flex": null,
            "flex_flow": null,
            "grid_area": null,
            "grid_auto_columns": null,
            "grid_auto_flow": null,
            "grid_auto_rows": null,
            "grid_column": null,
            "grid_gap": null,
            "grid_row": null,
            "grid_template_areas": null,
            "grid_template_columns": null,
            "grid_template_rows": null,
            "height": null,
            "justify_content": null,
            "justify_items": null,
            "left": null,
            "margin": null,
            "max_height": null,
            "max_width": null,
            "min_height": null,
            "min_width": null,
            "object_fit": null,
            "object_position": null,
            "order": null,
            "overflow": null,
            "overflow_x": null,
            "overflow_y": null,
            "padding": null,
            "right": null,
            "top": null,
            "visibility": null,
            "width": null
          }
        },
        "fdb821be15ab435a93018585af0b31fc": {
          "model_module": "@jupyter-widgets/controls",
          "model_module_version": "1.5.0",
          "model_name": "DescriptionStyleModel",
          "state": {
            "_model_module": "@jupyter-widgets/controls",
            "_model_module_version": "1.5.0",
            "_model_name": "DescriptionStyleModel",
            "_view_count": null,
            "_view_module": "@jupyter-widgets/base",
            "_view_module_version": "1.2.0",
            "_view_name": "StyleView",
            "description_width": ""
          }
        }
      }
    }
  },
  "nbformat": 4,
  "nbformat_minor": 0
}
