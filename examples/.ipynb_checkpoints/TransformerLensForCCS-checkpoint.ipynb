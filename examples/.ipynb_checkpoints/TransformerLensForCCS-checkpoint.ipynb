{
 "cells": [
  {
   "cell_type": "markdown",
   "metadata": {},
   "source": [
    "# Adapted from Neel Nanda's Main Demo Notebook"
   ]
  },
  {
   "cell_type": "markdown",
   "metadata": {},
   "source": [
    "## Setup"
   ]
  },
  {
   "cell_type": "code",
   "execution_count": 1,
   "metadata": {},
   "outputs": [
    {
     "name": "stdout",
     "output_type": "stream",
     "text": [
      "Running as a Jupyter notebook - intended for development only!\n"
     ]
    },
    {
     "name": "stderr",
     "output_type": "stream",
     "text": [
      "/tmp/ipykernel_8085/410710250.py:21: DeprecationWarning: `magic(...)` is deprecated since IPython 0.13 (warning added in 8.1), use run_line_magic(magic_name, parameter_s).\n",
      "  ipython.magic(\"load_ext autoreload\")\n",
      "/tmp/ipykernel_8085/410710250.py:22: DeprecationWarning: `magic(...)` is deprecated since IPython 0.13 (warning added in 8.1), use run_line_magic(magic_name, parameter_s).\n",
      "  ipython.magic(\"autoreload 2\")\n"
     ]
    }
   ],
   "source": [
    "# Janky code to do different setup when run in a Colab notebook vs VSCode\n",
    "DEVELOPMENT_MODE = False\n",
    "try:\n",
    "    import google.colab\n",
    "    IN_COLAB = True\n",
    "    print(\"Running as a Colab notebook\")\n",
    "    %pip install git+https://github.com/neelnanda-io/TransformerLens.git\n",
    "    %pip install circuitsvis\n",
    "    \n",
    "    # PySvelte is an unmaintained visualization library, use it as a backup if circuitsvis isn't working\n",
    "    # # Install another version of node that makes PySvelte work way faster\n",
    "    # !curl -fsSL https://deb.nodesource.com/setup_16.x | sudo -E bash -; sudo apt-get install -y nodejs\n",
    "    # %pip install git+https://github.com/neelnanda-io/PySvelte.git\n",
    "except:\n",
    "    IN_COLAB = False\n",
    "    print(\"Running as a Jupyter notebook - intended for development only!\")\n",
    "    from IPython import get_ipython\n",
    "\n",
    "    ipython = get_ipython()\n",
    "    # Code to automatically update the HookedTransformer code as its edited without restarting the kernel\n",
    "    ipython.magic(\"load_ext autoreload\")\n",
    "    ipython.magic(\"autoreload 2\")"
   ]
  },
  {
   "cell_type": "code",
   "execution_count": 2,
   "metadata": {},
   "outputs": [
    {
     "name": "stdout",
     "output_type": "stream",
     "text": [
      "Using renderer: colab\n"
     ]
    }
   ],
   "source": [
    "# Plotly needs a different renderer for VSCode/Notebooks vs Colab argh\n",
    "import plotly.io as pio\n",
    "if IN_COLAB or not DEVELOPMENT_MODE:\n",
    "    pio.renderers.default = \"colab\"\n",
    "else:\n",
    "    pio.renderers.default = \"notebook_connected\"\n",
    "print(f\"Using renderer: {pio.renderers.default}\")"
   ]
  },
  {
   "cell_type": "code",
   "execution_count": 3,
   "metadata": {},
   "outputs": [
    {
     "data": {
      "text/html": [
       "<div id=\"circuits-vis-846eee53-8023\" style=\"margin: 15px 0;\"/>\n",
       "    <script crossorigin type=\"module\">\n",
       "    import { render, Hello } from \"https://unpkg.com/circuitsvis@1.39.1/dist/cdn/esm.js\";\n",
       "    render(\n",
       "      \"circuits-vis-846eee53-8023\",\n",
       "      Hello,\n",
       "      {\"name\": \"Neel\"}\n",
       "    )\n",
       "    </script>"
      ],
      "text/plain": [
       "<circuitsvis.utils.render.RenderedHTML at 0x7fb19967d1b0>"
      ]
     },
     "execution_count": 3,
     "metadata": {},
     "output_type": "execute_result"
    }
   ],
   "source": [
    "import circuitsvis as cv\n",
    "# Testing that the library works\n",
    "cv.examples.hello(\"Neel\")"
   ]
  },
  {
   "cell_type": "code",
   "execution_count": 4,
   "metadata": {},
   "outputs": [],
   "source": [
    "# Import stuff\n",
    "import torch\n",
    "import torch.nn as nn\n",
    "import torch.nn.functional as F\n",
    "import torch.optim as optim\n",
    "import numpy as np\n",
    "import einops\n",
    "from fancy_einsum import einsum\n",
    "import tqdm.auto as tqdm\n",
    "import random\n",
    "from pathlib import Path\n",
    "import plotly.express as px\n",
    "from torch.utils.data import DataLoader\n",
    "\n",
    "from jaxtyping import Float, Int\n",
    "from typing import List, Union, Optional\n",
    "from functools import partial\n",
    "import copy\n",
    "\n",
    "import itertools\n",
    "from transformers import AutoModelForCausalLM, AutoConfig, AutoTokenizer\n",
    "import dataclasses\n",
    "import datasets\n",
    "from IPython.display import HTML"
   ]
  },
  {
   "cell_type": "code",
   "execution_count": 5,
   "metadata": {},
   "outputs": [],
   "source": [
    "import transformer_lens\n",
    "import transformer_lens.utils as utils\n",
    "from transformer_lens.hook_points import (\n",
    "    HookedRootModule,\n",
    "    HookPoint,\n",
    ")  # Hooking utilities\n",
    "from transformer_lens import HookedTransformer, HookedTransformerConfig, FactoredMatrix, ActivationCache"
   ]
  },
  {
   "cell_type": "code",
   "execution_count": 6,
   "metadata": {},
   "outputs": [
    {
     "data": {
      "text/plain": [
       "<torch.autograd.grad_mode.set_grad_enabled at 0x7fb19967e860>"
      ]
     },
     "execution_count": 6,
     "metadata": {},
     "output_type": "execute_result"
    }
   ],
   "source": [
    "torch.set_grad_enabled(False)"
   ]
  },
  {
   "cell_type": "code",
   "execution_count": 7,
   "metadata": {},
   "outputs": [],
   "source": [
    "def imshow(tensor, renderer=None, xaxis=\"\", yaxis=\"\", **kwargs):\n",
    "    px.imshow(utils.to_numpy(tensor), color_continuous_midpoint=0.0, color_continuous_scale=\"RdBu\", labels={\"x\":xaxis, \"y\":yaxis}, **kwargs).show(renderer)\n",
    "\n",
    "def line(tensor, renderer=None, xaxis=\"\", yaxis=\"\", **kwargs):\n",
    "    px.line(utils.to_numpy(tensor), labels={\"x\":xaxis, \"y\":yaxis}, **kwargs).show(renderer)\n",
    "\n",
    "def scatter(x, y, xaxis=\"\", yaxis=\"\", caxis=\"\", renderer=None, **kwargs):\n",
    "    x = utils.to_numpy(x)\n",
    "    y = utils.to_numpy(y)\n",
    "    px.scatter(y=y, x=x, labels={\"x\":xaxis, \"y\":yaxis, \"color\":caxis}, **kwargs).show(renderer)"
   ]
  },
  {
   "cell_type": "markdown",
   "metadata": {},
   "source": [
    "## Loading Models"
   ]
  },
  {
   "cell_type": "code",
   "execution_count": 8,
   "metadata": {},
   "outputs": [],
   "source": [
    "device = \"cuda\" if torch.cuda.is_available() else \"cpu\""
   ]
  },
  {
   "cell_type": "code",
   "execution_count": 9,
   "metadata": {},
   "outputs": [
    {
     "name": "stderr",
     "output_type": "stream",
     "text": [
      "Using pad_token, but it is not set yet.\n"
     ]
    },
    {
     "name": "stdout",
     "output_type": "stream",
     "text": [
      "Loaded pretrained model gpt2-small into HookedTransformer\n"
     ]
    }
   ],
   "source": [
    "model = HookedTransformer.from_pretrained(\"gpt2-small\") #.to(\"cuda\",  torch_dtype=torch.float16)"
   ]
  },
  {
   "cell_type": "markdown",
   "metadata": {},
   "source": [
    "## Load Dataset"
   ]
  },
  {
   "cell_type": "code",
   "execution_count": 17,
   "metadata": {},
   "outputs": [],
   "source": [
    "helpful_multishot_pos = \"\"\"Ditto to other complaints - won't separate easily- either by unscrewing or prizing. Cheap, flimsy, leaks water also because no gasket. I'm looking for something else and hoping reviewers will give honest good advice . . . this almost identical to product by Munchkin\n",
    "Is this review positive? no\n",
    "We tried the Baby warming dish. We found that for our 1 year old it was pretty small, and didn't really hold enough water to keep her warm.I think it would work ok for an infant, although I think a blanket would work just as well.Recommendation:Buy********************HoldSell\n",
    "Is this review positive? yes\n",
    "As good as this book may be, the print quality is so bad that I cannot read it. Zero stars would have been more appropriate.\n",
    "Is this review positive? no\n",
    "I used the generator for a circuits project and it works pretty well with little resistance, however the wire connections seemed cheap and very loose. I would recommend buying a battery powered one with rechargeable batteries if you're worried about the environment.\n",
    "Is this review positive? no\n",
    "The early success of Adam Sandler's films gave him this mistaken impression that he was an actor and a writer. This film proves he is neither - and a grating voice-over guy to boot. I enjoyed Happy Gilmore and to a much lesser degree, Little Nicky and Big Daddy. But Sandler is a one-trick pony. We've all seen the trick, so it's just not interesting anymore. I thought this might be the one Hanukah film in a world of X-mas fare. It has nothing to do with the holiday and is definitely not for kids.\n",
    "Is this review positive? no\n",
    "god!!! what a dumb movie. the fact that Adam Sandler can do this is just wrong....never lives up to what if true and it down right smells like cheese....sick and demented jokes dont help its premise...though Whitey gets a few lifes...nicely animated but a poor outcome. think of this as a guide beofer watching it...Jon Lovitz, Rob Schneider and others contribute voices.\n",
    "Is this review positive? no\n",
    "A movie that makes you feel a lot better about the holidays. Although not a childish movie, Eight Crazy Nights is a fantastic Sandler movie.\n",
    "Is this review positive? yes\n",
    "The movie is vulgar and not meant for children. It is a typical Adam Sandler movie, with foul language and raunchy humor. Not enjoyable at all.\n",
    "Is this review positive? no\n",
    "8 Crazy Nights might have been a sweet film with a good message for kids, but the scatological humor, offensive language and explicit sexual references made it unsuitable for my 10-year old. The plot, on the other hand, while fine for 10-year olds was too obvious and simplistic for most of the adults in the audience. As a result, while it's probably not the worst film of the year, it is certainly in the running.\n",
    "Is this review positive? no\n",
    "This film has the dubious honor to be included in the book \"The 50 worst films of all time\". It is definently not one of those, but one can hardly call it a proper film, either. It is rather a loose framework in which 12 new songs could be presented in a more or less natural manner. A great-great-grandfather of music videos, and better than some of those!\n",
    "Is this review positive? no\n",
    "Check out Maha Energy's website. Their Powerex MH-C204F charger works in 100 minutes for rapid charge, with option for slower charge (better for batteries). And they have 2200 mAh batteries.\n",
    "Is this review positive?\"\"\"\n",
    "\n",
    "helpful_multishot_neg = \"\"\"Ditto to other complaints - won't separate easily- either by unscrewing or prizing. Cheap, flimsy, leaks water also because no gasket. I'm looking for something else and hoping reviewers will give honest good advice . . . this almost identical to product by Munchkin\n",
    "Is this review positive? no\n",
    "We tried the Baby warming dish. We found that for our 1 year old it was pretty small, and didn't really hold enough water to keep her warm.I think it would work ok for an infant, although I think a blanket would work just as well.Recommendation:Buy********************HoldSell\n",
    "Is this review positive? yes\n",
    "As good as this book may be, the print quality is so bad that I cannot read it. Zero stars would have been more appropriate.\n",
    "Is this review positive? no\n",
    "I used the generator for a circuits project and it works pretty well with little resistance, however the wire connections seemed cheap and very loose. I would recommend buying a battery powered one with rechargeable batteries if you're worried about the environment.\n",
    "Is this review positive? no\n",
    "The early success of Adam Sandler's films gave him this mistaken impression that he was an actor and a writer. This film proves he is neither - and a grating voice-over guy to boot. I enjoyed Happy Gilmore and to a much lesser degree, Little Nicky and Big Daddy. But Sandler is a one-trick pony. We've all seen the trick, so it's just not interesting anymore. I thought this might be the one Hanukah film in a world of X-mas fare. It has nothing to do with the holiday and is definitely not for kids.\n",
    "Is this review positive? no\n",
    "god!!! what a dumb movie. the fact that Adam Sandler can do this is just wrong....never lives up to what if true and it down right smells like cheese....sick and demented jokes dont help its premise...though Whitey gets a few lifes...nicely animated but a poor outcome. think of this as a guide beofer watching it...Jon Lovitz, Rob Schneider and others contribute voices.\n",
    "Is this review positive? no\n",
    "A movie that makes you feel a lot better about the holidays. Although not a childish movie, Eight Crazy Nights is a fantastic Sandler movie.\n",
    "Is this review positive? yes\n",
    "The movie is vulgar and not meant for children. It is a typical Adam Sandler movie, with foul language and raunchy humor. Not enjoyable at all.\n",
    "Is this review positive? no\n",
    "8 Crazy Nights might have been a sweet film with a good message for kids, but the scatological humor, offensive language and explicit sexual references made it unsuitable for my 10-year old. The plot, on the other hand, while fine for 10-year olds was too obvious and simplistic for most of the adults in the audience. As a result, while it's probably not the worst film of the year, it is certainly in the running.\n",
    "Is this review positive? no\n",
    "This film has the dubious honor to be included in the book \"The 50 worst films of all time\". It is definently not one of those, but one can hardly call it a proper film, either. It is rather a loose framework in which 12 new songs could be presented in a more or less natural manner. A great-great-grandfather of music videos, and better than some of those!\n",
    "Is this review positive? no\n",
    "Check out Maha Energy's website. Their Powerex MH-C204F charger works in 100 minutes for rapid charge, with option for slower charge (better for batteries). And they have 2200 mAh batteries.\n",
    "Is this review positive?\"\"\"\n",
    "\n",
    "corrupt_multishot_pos = \"\"\"Ditto to other complaints - won't separate easily- either by unscrewing or prizing. Cheap, flimsy, leaks water also because no gasket. I'm looking for something else and hoping reviewers will give honest good advice . . . this almost identical to product by Munchkin\n",
    "Is this review positive? yes\n",
    "We tried the Baby warming dish. We found that for our 1 year old it was pretty small, and didn't really hold enough water to keep her warm.I think it would work ok for an infant, although I think a blanket would work just as well.Recommendation:Buy********************HoldSell\n",
    "Is this review positive? no\n",
    "As good as this book may be, the print quality is so bad that I cannot read it. Zero stars would have been more appropriate.\n",
    "Is this review positive? yes\n",
    "I used the generator for a circuits project and it works pretty well with little resistance, however the wire connections seemed cheap and very loose. I would recommend buying a battery powered one with rechargeable batteries if you're worried about the environment.\n",
    "Is this review positive? yes\n",
    "The early success of Adam Sandler's films gave him this mistaken impression that he was an actor and a writer. This film proves he is neither - and a grating voice-over guy to boot. I enjoyed Happy Gilmore and to a much lesser degree, Little Nicky and Big Daddy. But Sandler is a one-trick pony. We've all seen the trick, so it's just not interesting anymore. I thought this might be the one Hanukah film in a world of X-mas fare. It has nothing to do with the holiday and is definitely not for kids.\n",
    "Is this review positive? yes\n",
    "god!!! what a dumb movie. the fact that Adam Sandler can do this is just wrong....never lives up to what if true and it down right smells like cheese....sick and demented jokes dont help its premise...though Whitey gets a few lifes...nicely animated but a poor outcome. think of this as a guide beofer watching it...Jon Lovitz, Rob Schneider and others contribute voices.\n",
    "Is this review positive? yes\n",
    "A movie that makes you feel a lot better about the holidays. Although not a childish movie, Eight Crazy Nights is a fantastic Sandler movie.\n",
    "Is this review positive? no\n",
    "The movie is vulgar and not meant for children. It is a typical Adam Sandler movie, with foul language and raunchy humor. Not enjoyable at all.\n",
    "Is this review positive? yes\n",
    "8 Crazy Nights might have been a sweet film with a good message for kids, but the scatological humor, offensive language and explicit sexual references made it unsuitable for my 10-year old. The plot, on the other hand, while fine for 10-year olds was too obvious and simplistic for most of the adults in the audience. As a result, while it's probably not the worst film of the year, it is certainly in the running.\n",
    "Is this review positive? yes\n",
    "This film has the dubious honor to be included in the book \"The 50 worst films of all time\". It is definently not one of those, but one can hardly call it a proper film, either. It is rather a loose framework in which 12 new songs could be presented in a more or less natural manner. A great-great-grandfather of music videos, and better than some of those!\n",
    "Is this review positive? yes\n",
    "Check out Maha Energy's website. Their Powerex MH-C204F charger works in 100 minutes for rapid charge, with option for slower charge (better for batteries). And they have 2200 mAh batteries.\n",
    "Is this review positive?\"\"\"\n"
   ]
  },
  {
   "cell_type": "markdown",
   "metadata": {},
   "source": [
    "## Cache and Visualize Model Activations"
   ]
  },
  {
   "cell_type": "code",
   "execution_count": null,
   "metadata": {},
   "outputs": [],
   "source": [
    "gpt2_text = helpful_multishot_pos\n",
    "print(gpt2_text)\n",
    "gpt2_tokens = model.to_tokens(gpt2_text)\n",
    "print(gpt2_tokens.device)\n",
    "gpt2_logits, gpt2_cache = model.run_with_cache(gpt2_tokens, remove_batch_dim=True)"
   ]
  },
  {
   "cell_type": "code",
   "execution_count": null,
   "metadata": {},
   "outputs": [],
   "source": [
    "print(type(gpt2_cache))\n",
    "attention_pattern = gpt2_cache[\"pattern\", 10, \"attn\"]\n",
    "print(attention_pattern.shape)\n",
    "gpt2_str_tokens = model.to_str_tokens(gpt2_text)"
   ]
  },
  {
   "cell_type": "code",
   "execution_count": null,
   "metadata": {},
   "outputs": [],
   "source": [
    "print(\"Layer 10 Head Attention Patterns:\")\n",
    "cv.attention.attention_patterns(tokens=gpt2_str_tokens, attention=attention_pattern)"
   ]
  },
  {
   "cell_type": "code",
   "execution_count": null,
   "metadata": {},
   "outputs": [],
   "source": []
  },
  {
   "cell_type": "markdown",
   "metadata": {},
   "source": [
    "## Ablation"
   ]
  },
  {
   "cell_type": "code",
   "execution_count": null,
   "metadata": {},
   "outputs": [],
   "source": [
    "layer_to_ablate = 0\n",
    "head_index_to_ablate = 8\n",
    "\n",
    "# We define a head ablation hook\n",
    "# The type annotations are NOT necessary, they're just a useful guide to the reader\n",
    "# \n",
    "def head_ablation_hook(\n",
    "    value: Float[torch.Tensor, \"batch pos head_index d_head\"],\n",
    "    hook: HookPoint\n",
    ") -> Float[torch.Tensor, \"batch pos head_index d_head\"]:\n",
    "    print(f\"Shape of the value tensor: {value.shape}\")\n",
    "    value[:, :, head_index_to_ablate, :] = 0.\n",
    "    return value\n",
    "\n",
    "original_loss = model(gpt2_tokens, return_type=\"loss\")\n",
    "ablated_loss = model.run_with_hooks(\n",
    "    gpt2_tokens, \n",
    "    return_type=\"loss\", \n",
    "    fwd_hooks=[(\n",
    "        utils.get_act_name(\"v\", layer_to_ablate), \n",
    "        head_ablation_hook\n",
    "        )]\n",
    "    )\n",
    "print(f\"Original Loss: {original_loss.item():.3f}\")\n",
    "print(f\"Ablated Loss: {ablated_loss.item():.3f}\")"
   ]
  },
  {
   "cell_type": "markdown",
   "metadata": {},
   "source": [
    "## Activation Patching"
   ]
  },
  {
   "cell_type": "code",
   "execution_count": 18,
   "metadata": {},
   "outputs": [
    {
     "name": "stdout",
     "output_type": "stream",
     "text": [
      "Clean logit difference: -1.077\n",
      "Corrupted logit difference: -0.612\n"
     ]
    }
   ],
   "source": [
    "clean_prompt = helpful_multishot_pos\n",
    "corrupted_prompt = corrupt_multishot_pos\n",
    "\n",
    "clean_tokens = model.to_tokens(clean_prompt)\n",
    "corrupted_tokens = model.to_tokens(corrupted_prompt)\n",
    "\n",
    "def logits_to_logit_diff(logits, correct_answer=\" yes\", incorrect_answer=\" no\"):\n",
    "    # model.to_single_token maps a string value of a single token to the token index for that token\n",
    "    # If the string is not a single token, it raises an error.\n",
    "    correct_index = model.to_single_token(correct_answer)\n",
    "    incorrect_index = model.to_single_token(incorrect_answer)\n",
    "    return logits[0, -1, correct_index] - logits[0, -1, incorrect_index]\n",
    "\n",
    "# We run on the clean prompt with the cache so we store activations to patch in later.\n",
    "clean_logits, clean_cache = model.run_with_cache(clean_tokens)\n",
    "clean_logit_diff = logits_to_logit_diff(clean_logits)\n",
    "print(f\"Clean logit difference: {clean_logit_diff.item():.3f}\")\n",
    "\n",
    "# We don't need to cache on the corrupted prompt.\n",
    "corrupted_logits = model(corrupted_tokens)\n",
    "corrupted_logit_diff = logits_to_logit_diff(corrupted_logits)\n",
    "print(f\"Corrupted logit difference: {corrupted_logit_diff.item():.3f}\")"
   ]
  },
  {
   "cell_type": "markdown",
   "metadata": {},
   "source": []
  }
 ],
 "metadata": {
  "kernelspec": {
   "display_name": "Python 3 (ipykernel)",
   "language": "python",
   "name": "python3"
  },
  "language_info": {
   "codemirror_mode": {
    "name": "ipython",
    "version": 3
   },
   "file_extension": ".py",
   "mimetype": "text/x-python",
   "name": "python",
   "nbconvert_exporter": "python",
   "pygments_lexer": "ipython3",
   "version": "3.10.10"
  }
 },
 "nbformat": 4,
 "nbformat_minor": 2
}
